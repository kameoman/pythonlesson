{
  "nbformat": 4,
  "nbformat_minor": 0,
  "metadata": {
    "colab": {
      "name": "クロス集計とグラフ化.ipynb",
      "provenance": [],
      "authorship_tag": "ABX9TyMdbbYKWc+TeAcugGEWEJfi",
      "include_colab_link": true
    },
    "kernelspec": {
      "name": "python3",
      "display_name": "Python 3"
    },
    "language_info": {
      "name": "python"
    }
  },
  "cells": [
    {
      "cell_type": "markdown",
      "metadata": {
        "id": "view-in-github",
        "colab_type": "text"
      },
      "source": [
        "<a href=\"https://colab.research.google.com/github/kameoman/pythonlesson/blob/main/%E3%82%AF%E3%83%AD%E3%82%B9%E9%9B%86%E8%A8%88%E3%81%A8%E3%82%B0%E3%83%A9%E3%83%95%E5%8C%96.ipynb\" target=\"_parent\"><img src=\"https://colab.research.google.com/assets/colab-badge.svg\" alt=\"Open In Colab\"/></a>"
      ]
    },
    {
      "cell_type": "code",
      "metadata": {
        "id": "aGDID76Bi4lm"
      },
      "source": [
        "import pandas as pd\n",
        "from glob import glob"
      ],
      "execution_count": 1,
      "outputs": []
    },
    {
      "cell_type": "code",
      "metadata": {
        "colab": {
          "base_uri": "https://localhost:8080/"
        },
        "id": "TkfEMEQxi6Qt",
        "outputId": "98bc8dd5-00de-4235-eaf6-a03a33de4746"
      },
      "source": [
        "filepaths = glob('請求書*.xlsx')\n",
        "filepaths"
      ],
      "execution_count": 2,
      "outputs": [
        {
          "output_type": "execute_result",
          "data": {
            "text/plain": [
              "['請求書_12月_TTTInc.xlsx',\n",
              " '請求書_10月_TTTInc.xlsx',\n",
              " '請求書_11月_ICHIGO.xlsx',\n",
              " '請求書_12月_株式会社ABC.xlsx',\n",
              " '請求書_11月_XYZ株式会社.xlsx',\n",
              " '請求書_12月_STR_Corp.xlsx',\n",
              " '請求書_12月_CDF商事.xlsx']"
            ]
          },
          "metadata": {},
          "execution_count": 2
        }
      ]
    },
    {
      "cell_type": "code",
      "metadata": {
        "id": "uBg35ehSi6OH"
      },
      "source": [
        "def extract(filepath):\n",
        "    _df = pd.read_excel(filepath)\n",
        "    columns = _df.iloc[10, [1,2,4,10,11,14]]\n",
        "    df = _df.iloc[11:23, [1,2,4,10,11,14]]\n",
        "    df.columns = columns\n",
        "    df['企業名'] = _df.iloc[2,0]\n",
        "    df['企業コード'] = _df.iloc[3,4]\n",
        "    df['請求書No'] = _df.iloc[2,12]\n",
        "    df['発行日'] = _df.iloc[3,12]\n",
        "    df['発行者'] = _df.iloc[4,12]\n",
        "    df['発行者コード'] = _df.iloc[4,13]\n",
        "    return df"
      ],
      "execution_count": 3,
      "outputs": []
    },
    {
      "cell_type": "code",
      "metadata": {
        "id": "dUdmJXusi6Lg"
      },
      "source": [
        "df = pd.DataFrame()\n",
        "\n",
        "for filepath in filepaths:\n",
        "    df = pd.concat([df, extract(filepath)])"
      ],
      "execution_count": 4,
      "outputs": []
    },
    {
      "cell_type": "code",
      "metadata": {
        "colab": {
          "base_uri": "https://localhost:8080/"
        },
        "id": "D2EyNCfri6JN",
        "outputId": "503fa7d1-50ca-4881-ce9d-72e73383a0e2"
      },
      "source": [
        "len(df)"
      ],
      "execution_count": 5,
      "outputs": [
        {
          "output_type": "execute_result",
          "data": {
            "text/plain": [
              "84"
            ]
          },
          "metadata": {},
          "execution_count": 5
        }
      ]
    },
    {
      "cell_type": "code",
      "metadata": {
        "id": "SVHgxvR9i6G8",
        "colab": {
          "base_uri": "https://localhost:8080/",
          "height": 354
        },
        "outputId": "7a70bdfb-a13d-4690-a5fa-9f5cc41fd7b9"
      },
      "source": [
        "df = df.dropna()\n",
        "df.tail()"
      ],
      "execution_count": 6,
      "outputs": [
        {
          "output_type": "execute_result",
          "data": {
            "text/html": [
              "<div>\n",
              "<style scoped>\n",
              "    .dataframe tbody tr th:only-of-type {\n",
              "        vertical-align: middle;\n",
              "    }\n",
              "\n",
              "    .dataframe tbody tr th {\n",
              "        vertical-align: top;\n",
              "    }\n",
              "\n",
              "    .dataframe thead th {\n",
              "        text-align: right;\n",
              "    }\n",
              "</style>\n",
              "<table border=\"1\" class=\"dataframe\">\n",
              "  <thead>\n",
              "    <tr style=\"text-align: right;\">\n",
              "      <th>10</th>\n",
              "      <th>日付</th>\n",
              "      <th>商品コード</th>\n",
              "      <th>品名</th>\n",
              "      <th>数量[L] or [-]</th>\n",
              "      <th>単価[¥/L] or [¥]</th>\n",
              "      <th>金額</th>\n",
              "      <th>企業名</th>\n",
              "      <th>企業コード</th>\n",
              "      <th>請求書No</th>\n",
              "      <th>発行日</th>\n",
              "      <th>発行者</th>\n",
              "      <th>発行者コード</th>\n",
              "    </tr>\n",
              "  </thead>\n",
              "  <tbody>\n",
              "    <tr>\n",
              "      <th>17</th>\n",
              "      <td>2020-12-21 00:00:00</td>\n",
              "      <td>CMT0003</td>\n",
              "      <td>洗車 C</td>\n",
              "      <td>1</td>\n",
              "      <td>3000</td>\n",
              "      <td>3000</td>\n",
              "      <td>CDF商事</td>\n",
              "      <td>11</td>\n",
              "      <td>003</td>\n",
              "      <td>2020/12/28</td>\n",
              "      <td>桜田</td>\n",
              "      <td>5.0</td>\n",
              "    </tr>\n",
              "    <tr>\n",
              "      <th>18</th>\n",
              "      <td>2020-12-22 00:00:00</td>\n",
              "      <td>GSL0004</td>\n",
              "      <td>灯油</td>\n",
              "      <td>60</td>\n",
              "      <td>80</td>\n",
              "      <td>4800</td>\n",
              "      <td>CDF商事</td>\n",
              "      <td>11</td>\n",
              "      <td>003</td>\n",
              "      <td>2020/12/28</td>\n",
              "      <td>桜田</td>\n",
              "      <td>5.0</td>\n",
              "    </tr>\n",
              "    <tr>\n",
              "      <th>19</th>\n",
              "      <td>2020-12-22 00:00:00</td>\n",
              "      <td>CMT0005</td>\n",
              "      <td>タイヤ交換</td>\n",
              "      <td>1</td>\n",
              "      <td>4000</td>\n",
              "      <td>4000</td>\n",
              "      <td>CDF商事</td>\n",
              "      <td>11</td>\n",
              "      <td>003</td>\n",
              "      <td>2020/12/28</td>\n",
              "      <td>桜田</td>\n",
              "      <td>5.0</td>\n",
              "    </tr>\n",
              "    <tr>\n",
              "      <th>20</th>\n",
              "      <td>2020-12-25 00:00:00</td>\n",
              "      <td>GSL0004</td>\n",
              "      <td>灯油</td>\n",
              "      <td>20</td>\n",
              "      <td>80</td>\n",
              "      <td>1600</td>\n",
              "      <td>CDF商事</td>\n",
              "      <td>11</td>\n",
              "      <td>003</td>\n",
              "      <td>2020/12/28</td>\n",
              "      <td>桜田</td>\n",
              "      <td>5.0</td>\n",
              "    </tr>\n",
              "    <tr>\n",
              "      <th>21</th>\n",
              "      <td>2020-12-28 00:00:00</td>\n",
              "      <td>CMT0004</td>\n",
              "      <td>オイル交換</td>\n",
              "      <td>1</td>\n",
              "      <td>1000</td>\n",
              "      <td>1000</td>\n",
              "      <td>CDF商事</td>\n",
              "      <td>11</td>\n",
              "      <td>003</td>\n",
              "      <td>2020/12/28</td>\n",
              "      <td>桜田</td>\n",
              "      <td>5.0</td>\n",
              "    </tr>\n",
              "  </tbody>\n",
              "</table>\n",
              "</div>"
            ],
            "text/plain": [
              "10                   日付    商品コード     品名  ...         発行日 発行者 発行者コード\n",
              "17  2020-12-21 00:00:00  CMT0003   洗車 C  ...  2020/12/28  桜田    5.0\n",
              "18  2020-12-22 00:00:00  GSL0004     灯油  ...  2020/12/28  桜田    5.0\n",
              "19  2020-12-22 00:00:00  CMT0005  タイヤ交換  ...  2020/12/28  桜田    5.0\n",
              "20  2020-12-25 00:00:00  GSL0004     灯油  ...  2020/12/28  桜田    5.0\n",
              "21  2020-12-28 00:00:00  CMT0004  オイル交換  ...  2020/12/28  桜田    5.0\n",
              "\n",
              "[5 rows x 12 columns]"
            ]
          },
          "metadata": {},
          "execution_count": 6
        }
      ]
    },
    {
      "cell_type": "code",
      "metadata": {
        "id": "wpOJizAYi6Es"
      },
      "source": [
        "df = df.reset_index(drop=True)"
      ],
      "execution_count": 7,
      "outputs": []
    },
    {
      "cell_type": "code",
      "metadata": {
        "id": "wVhEeA5Yi6Cn"
      },
      "source": [
        "df = df.iloc[:, [6,7,8,9,10,11,0,1,2,3,4,5]]"
      ],
      "execution_count": 8,
      "outputs": []
    },
    {
      "cell_type": "code",
      "metadata": {
        "id": "raRmfZwHi6AK"
      },
      "source": [
        "df.to_excel('all_data_02.xlsx', index=False)"
      ],
      "execution_count": 9,
      "outputs": []
    },
    {
      "cell_type": "code",
      "metadata": {
        "colab": {
          "base_uri": "https://localhost:8080/"
        },
        "id": "ddx6k_zyi590",
        "outputId": "0ba6a13b-351f-45eb-e1df-0accc9a71bac"
      },
      "source": [
        "members = df['発行者'].unique()\n",
        "members"
      ],
      "execution_count": 10,
      "outputs": [
        {
          "output_type": "execute_result",
          "data": {
            "text/plain": [
              "array(['岸辺', '桜田', '山岡'], dtype=object)"
            ]
          },
          "metadata": {},
          "execution_count": 10
        }
      ]
    },
    {
      "cell_type": "code",
      "metadata": {
        "colab": {
          "base_uri": "https://localhost:8080/",
          "height": 35
        },
        "id": "ktaKM3Fvi57k",
        "outputId": "bd4741e6-019d-4669-ca6d-6b762972399d"
      },
      "source": [
        "member = members[0]\n",
        "member"
      ],
      "execution_count": 11,
      "outputs": [
        {
          "output_type": "execute_result",
          "data": {
            "application/vnd.google.colaboratory.intrinsic+json": {
              "type": "string"
            },
            "text/plain": [
              "'岸辺'"
            ]
          },
          "metadata": {},
          "execution_count": 11
        }
      ]
    },
    {
      "cell_type": "code",
      "metadata": {
        "id": "HemiRjqji55M",
        "colab": {
          "base_uri": "https://localhost:8080/",
          "height": 1000
        },
        "outputId": "fd1c15d1-8f84-4a31-ca7f-f34f2d85a503"
      },
      "source": [
        "_df = df[df['発行者'] == member]\n",
        "_df"
      ],
      "execution_count": 12,
      "outputs": [
        {
          "output_type": "execute_result",
          "data": {
            "text/html": [
              "<div>\n",
              "<style scoped>\n",
              "    .dataframe tbody tr th:only-of-type {\n",
              "        vertical-align: middle;\n",
              "    }\n",
              "\n",
              "    .dataframe tbody tr th {\n",
              "        vertical-align: top;\n",
              "    }\n",
              "\n",
              "    .dataframe thead th {\n",
              "        text-align: right;\n",
              "    }\n",
              "</style>\n",
              "<table border=\"1\" class=\"dataframe\">\n",
              "  <thead>\n",
              "    <tr style=\"text-align: right;\">\n",
              "      <th>10</th>\n",
              "      <th>企業名</th>\n",
              "      <th>企業コード</th>\n",
              "      <th>請求書No</th>\n",
              "      <th>発行日</th>\n",
              "      <th>発行者</th>\n",
              "      <th>発行者コード</th>\n",
              "      <th>日付</th>\n",
              "      <th>商品コード</th>\n",
              "      <th>品名</th>\n",
              "      <th>数量[L] or [-]</th>\n",
              "      <th>単価[¥/L] or [¥]</th>\n",
              "      <th>金額</th>\n",
              "    </tr>\n",
              "  </thead>\n",
              "  <tbody>\n",
              "    <tr>\n",
              "      <th>0</th>\n",
              "      <td>TTT Inc.</td>\n",
              "      <td>6</td>\n",
              "      <td>012</td>\n",
              "      <td>2020/12/30</td>\n",
              "      <td>岸辺</td>\n",
              "      <td>2.0</td>\n",
              "      <td>2020-12-01 00:00:00</td>\n",
              "      <td>GSL0001</td>\n",
              "      <td>レギュラー</td>\n",
              "      <td>35</td>\n",
              "      <td>120</td>\n",
              "      <td>4200</td>\n",
              "    </tr>\n",
              "    <tr>\n",
              "      <th>1</th>\n",
              "      <td>TTT Inc.</td>\n",
              "      <td>6</td>\n",
              "      <td>012</td>\n",
              "      <td>2020/12/30</td>\n",
              "      <td>岸辺</td>\n",
              "      <td>2.0</td>\n",
              "      <td>2020-12-06 00:00:00</td>\n",
              "      <td>GSL0001</td>\n",
              "      <td>レギュラー</td>\n",
              "      <td>15</td>\n",
              "      <td>120</td>\n",
              "      <td>1800</td>\n",
              "    </tr>\n",
              "    <tr>\n",
              "      <th>2</th>\n",
              "      <td>TTT Inc.</td>\n",
              "      <td>6</td>\n",
              "      <td>012</td>\n",
              "      <td>2020/12/30</td>\n",
              "      <td>岸辺</td>\n",
              "      <td>2.0</td>\n",
              "      <td>2020-12-06 00:00:00</td>\n",
              "      <td>GSL0003</td>\n",
              "      <td>軽油</td>\n",
              "      <td>50</td>\n",
              "      <td>100</td>\n",
              "      <td>5000</td>\n",
              "    </tr>\n",
              "    <tr>\n",
              "      <th>3</th>\n",
              "      <td>TTT Inc.</td>\n",
              "      <td>6</td>\n",
              "      <td>012</td>\n",
              "      <td>2020/12/30</td>\n",
              "      <td>岸辺</td>\n",
              "      <td>2.0</td>\n",
              "      <td>2020-12-08 00:00:00</td>\n",
              "      <td>GSL0001</td>\n",
              "      <td>レギュラー</td>\n",
              "      <td>40</td>\n",
              "      <td>120</td>\n",
              "      <td>4800</td>\n",
              "    </tr>\n",
              "    <tr>\n",
              "      <th>4</th>\n",
              "      <td>TTT Inc.</td>\n",
              "      <td>6</td>\n",
              "      <td>012</td>\n",
              "      <td>2020/12/30</td>\n",
              "      <td>岸辺</td>\n",
              "      <td>2.0</td>\n",
              "      <td>2020-12-09 00:00:00</td>\n",
              "      <td>GSL0003</td>\n",
              "      <td>軽油</td>\n",
              "      <td>50</td>\n",
              "      <td>100</td>\n",
              "      <td>5000</td>\n",
              "    </tr>\n",
              "    <tr>\n",
              "      <th>5</th>\n",
              "      <td>TTT Inc.</td>\n",
              "      <td>6</td>\n",
              "      <td>012</td>\n",
              "      <td>2020/12/30</td>\n",
              "      <td>岸辺</td>\n",
              "      <td>2.0</td>\n",
              "      <td>2020-12-11 00:00:00</td>\n",
              "      <td>GSL0001</td>\n",
              "      <td>レギュラー</td>\n",
              "      <td>30</td>\n",
              "      <td>120</td>\n",
              "      <td>3600</td>\n",
              "    </tr>\n",
              "    <tr>\n",
              "      <th>6</th>\n",
              "      <td>TTT Inc.</td>\n",
              "      <td>6</td>\n",
              "      <td>012</td>\n",
              "      <td>2020/12/30</td>\n",
              "      <td>岸辺</td>\n",
              "      <td>2.0</td>\n",
              "      <td>2020-12-17 00:00:00</td>\n",
              "      <td>GSL0003</td>\n",
              "      <td>軽油</td>\n",
              "      <td>50</td>\n",
              "      <td>100</td>\n",
              "      <td>5000</td>\n",
              "    </tr>\n",
              "    <tr>\n",
              "      <th>7</th>\n",
              "      <td>TTT Inc.</td>\n",
              "      <td>6</td>\n",
              "      <td>012</td>\n",
              "      <td>2020/12/30</td>\n",
              "      <td>岸辺</td>\n",
              "      <td>2.0</td>\n",
              "      <td>2020-12-20 00:00:00</td>\n",
              "      <td>GSL0002</td>\n",
              "      <td>ハイオク</td>\n",
              "      <td>20</td>\n",
              "      <td>160</td>\n",
              "      <td>3200</td>\n",
              "    </tr>\n",
              "    <tr>\n",
              "      <th>8</th>\n",
              "      <td>TTT Inc.</td>\n",
              "      <td>6</td>\n",
              "      <td>012</td>\n",
              "      <td>2020/12/30</td>\n",
              "      <td>岸辺</td>\n",
              "      <td>2.0</td>\n",
              "      <td>2020-12-27 00:00:00</td>\n",
              "      <td>GSL0002</td>\n",
              "      <td>ハイオク</td>\n",
              "      <td>15</td>\n",
              "      <td>160</td>\n",
              "      <td>2400</td>\n",
              "    </tr>\n",
              "    <tr>\n",
              "      <th>9</th>\n",
              "      <td>TTT Inc.</td>\n",
              "      <td>6</td>\n",
              "      <td>012</td>\n",
              "      <td>2020/12/30</td>\n",
              "      <td>岸辺</td>\n",
              "      <td>2.0</td>\n",
              "      <td>2020-12-27 00:00:00</td>\n",
              "      <td>GSL0003</td>\n",
              "      <td>軽油</td>\n",
              "      <td>60</td>\n",
              "      <td>100</td>\n",
              "      <td>6000</td>\n",
              "    </tr>\n",
              "    <tr>\n",
              "      <th>10</th>\n",
              "      <td>TTT Inc.</td>\n",
              "      <td>6</td>\n",
              "      <td>012</td>\n",
              "      <td>2020/12/30</td>\n",
              "      <td>岸辺</td>\n",
              "      <td>2.0</td>\n",
              "      <td>2020-12-30 00:00:00</td>\n",
              "      <td>GSL0003</td>\n",
              "      <td>軽油</td>\n",
              "      <td>35</td>\n",
              "      <td>100</td>\n",
              "      <td>3500</td>\n",
              "    </tr>\n",
              "    <tr>\n",
              "      <th>11</th>\n",
              "      <td>TTT Inc.</td>\n",
              "      <td>6</td>\n",
              "      <td>012</td>\n",
              "      <td>2020/10/31</td>\n",
              "      <td>岸辺</td>\n",
              "      <td>2.0</td>\n",
              "      <td>2020-10-04 00:00:00</td>\n",
              "      <td>GSL0001</td>\n",
              "      <td>レギュラー</td>\n",
              "      <td>20</td>\n",
              "      <td>120</td>\n",
              "      <td>2400</td>\n",
              "    </tr>\n",
              "    <tr>\n",
              "      <th>12</th>\n",
              "      <td>TTT Inc.</td>\n",
              "      <td>6</td>\n",
              "      <td>012</td>\n",
              "      <td>2020/10/31</td>\n",
              "      <td>岸辺</td>\n",
              "      <td>2.0</td>\n",
              "      <td>2020-10-05 00:00:00</td>\n",
              "      <td>GSL0002</td>\n",
              "      <td>ハイオク</td>\n",
              "      <td>45</td>\n",
              "      <td>160</td>\n",
              "      <td>7200</td>\n",
              "    </tr>\n",
              "    <tr>\n",
              "      <th>13</th>\n",
              "      <td>TTT Inc.</td>\n",
              "      <td>6</td>\n",
              "      <td>012</td>\n",
              "      <td>2020/10/31</td>\n",
              "      <td>岸辺</td>\n",
              "      <td>2.0</td>\n",
              "      <td>2020-10-06 00:00:00</td>\n",
              "      <td>GSL0003</td>\n",
              "      <td>軽油</td>\n",
              "      <td>50</td>\n",
              "      <td>100</td>\n",
              "      <td>5000</td>\n",
              "    </tr>\n",
              "    <tr>\n",
              "      <th>14</th>\n",
              "      <td>TTT Inc.</td>\n",
              "      <td>6</td>\n",
              "      <td>012</td>\n",
              "      <td>2020/10/31</td>\n",
              "      <td>岸辺</td>\n",
              "      <td>2.0</td>\n",
              "      <td>2020-10-07 00:00:00</td>\n",
              "      <td>GDS0002</td>\n",
              "      <td>コロン</td>\n",
              "      <td>3</td>\n",
              "      <td>800</td>\n",
              "      <td>2400</td>\n",
              "    </tr>\n",
              "    <tr>\n",
              "      <th>15</th>\n",
              "      <td>TTT Inc.</td>\n",
              "      <td>6</td>\n",
              "      <td>012</td>\n",
              "      <td>2020/10/31</td>\n",
              "      <td>岸辺</td>\n",
              "      <td>2.0</td>\n",
              "      <td>2020-10-08 00:00:00</td>\n",
              "      <td>CMT0004</td>\n",
              "      <td>オイル交換</td>\n",
              "      <td>1</td>\n",
              "      <td>1000</td>\n",
              "      <td>1000</td>\n",
              "    </tr>\n",
              "    <tr>\n",
              "      <th>16</th>\n",
              "      <td>TTT Inc.</td>\n",
              "      <td>6</td>\n",
              "      <td>012</td>\n",
              "      <td>2020/10/31</td>\n",
              "      <td>岸辺</td>\n",
              "      <td>2.0</td>\n",
              "      <td>2020-10-09 00:00:00</td>\n",
              "      <td>CMT0002</td>\n",
              "      <td>洗車 B</td>\n",
              "      <td>1</td>\n",
              "      <td>1500</td>\n",
              "      <td>1500</td>\n",
              "    </tr>\n",
              "    <tr>\n",
              "      <th>17</th>\n",
              "      <td>TTT Inc.</td>\n",
              "      <td>6</td>\n",
              "      <td>012</td>\n",
              "      <td>2020/10/31</td>\n",
              "      <td>岸辺</td>\n",
              "      <td>2.0</td>\n",
              "      <td>2020-10-10 00:00:00</td>\n",
              "      <td>GSL0003</td>\n",
              "      <td>軽油</td>\n",
              "      <td>50</td>\n",
              "      <td>100</td>\n",
              "      <td>5000</td>\n",
              "    </tr>\n",
              "    <tr>\n",
              "      <th>18</th>\n",
              "      <td>TTT Inc.</td>\n",
              "      <td>6</td>\n",
              "      <td>012</td>\n",
              "      <td>2020/10/31</td>\n",
              "      <td>岸辺</td>\n",
              "      <td>2.0</td>\n",
              "      <td>2020-10-11 00:00:00</td>\n",
              "      <td>GSL0002</td>\n",
              "      <td>ハイオク</td>\n",
              "      <td>40</td>\n",
              "      <td>160</td>\n",
              "      <td>6400</td>\n",
              "    </tr>\n",
              "    <tr>\n",
              "      <th>19</th>\n",
              "      <td>TTT Inc.</td>\n",
              "      <td>6</td>\n",
              "      <td>012</td>\n",
              "      <td>2020/10/31</td>\n",
              "      <td>岸辺</td>\n",
              "      <td>2.0</td>\n",
              "      <td>2020-10-12 00:00:00</td>\n",
              "      <td>CMT0005</td>\n",
              "      <td>タイヤ交換</td>\n",
              "      <td>1</td>\n",
              "      <td>4000</td>\n",
              "      <td>4000</td>\n",
              "    </tr>\n",
              "    <tr>\n",
              "      <th>20</th>\n",
              "      <td>TTT Inc.</td>\n",
              "      <td>6</td>\n",
              "      <td>012</td>\n",
              "      <td>2020/10/31</td>\n",
              "      <td>岸辺</td>\n",
              "      <td>2.0</td>\n",
              "      <td>2020-10-13 00:00:00</td>\n",
              "      <td>GSL0003</td>\n",
              "      <td>軽油</td>\n",
              "      <td>50</td>\n",
              "      <td>100</td>\n",
              "      <td>5000</td>\n",
              "    </tr>\n",
              "    <tr>\n",
              "      <th>21</th>\n",
              "      <td>TTT Inc.</td>\n",
              "      <td>6</td>\n",
              "      <td>012</td>\n",
              "      <td>2020/10/31</td>\n",
              "      <td>岸辺</td>\n",
              "      <td>2.0</td>\n",
              "      <td>2020-10-14 00:00:00</td>\n",
              "      <td>GSL0003</td>\n",
              "      <td>軽油</td>\n",
              "      <td>50</td>\n",
              "      <td>100</td>\n",
              "      <td>5000</td>\n",
              "    </tr>\n",
              "    <tr>\n",
              "      <th>22</th>\n",
              "      <td>ICHIGO</td>\n",
              "      <td>6</td>\n",
              "      <td>012</td>\n",
              "      <td>2020/11/30</td>\n",
              "      <td>岸辺</td>\n",
              "      <td>2.0</td>\n",
              "      <td>2020-11-12 00:00:00</td>\n",
              "      <td>GSL0001</td>\n",
              "      <td>レギュラー</td>\n",
              "      <td>20</td>\n",
              "      <td>120</td>\n",
              "      <td>2400</td>\n",
              "    </tr>\n",
              "    <tr>\n",
              "      <th>23</th>\n",
              "      <td>ICHIGO</td>\n",
              "      <td>6</td>\n",
              "      <td>012</td>\n",
              "      <td>2020/11/30</td>\n",
              "      <td>岸辺</td>\n",
              "      <td>2.0</td>\n",
              "      <td>2020-11-12 00:00:00</td>\n",
              "      <td>GSL0002</td>\n",
              "      <td>ハイオク</td>\n",
              "      <td>45</td>\n",
              "      <td>160</td>\n",
              "      <td>7200</td>\n",
              "    </tr>\n",
              "    <tr>\n",
              "      <th>24</th>\n",
              "      <td>ICHIGO</td>\n",
              "      <td>6</td>\n",
              "      <td>012</td>\n",
              "      <td>2020/11/30</td>\n",
              "      <td>岸辺</td>\n",
              "      <td>2.0</td>\n",
              "      <td>2020-11-15 00:00:00</td>\n",
              "      <td>GSL0003</td>\n",
              "      <td>軽油</td>\n",
              "      <td>50</td>\n",
              "      <td>100</td>\n",
              "      <td>5000</td>\n",
              "    </tr>\n",
              "    <tr>\n",
              "      <th>25</th>\n",
              "      <td>ICHIGO</td>\n",
              "      <td>6</td>\n",
              "      <td>012</td>\n",
              "      <td>2020/11/30</td>\n",
              "      <td>岸辺</td>\n",
              "      <td>2.0</td>\n",
              "      <td>2020-11-15 00:00:00</td>\n",
              "      <td>GDS0002</td>\n",
              "      <td>コロン</td>\n",
              "      <td>3</td>\n",
              "      <td>800</td>\n",
              "      <td>2400</td>\n",
              "    </tr>\n",
              "    <tr>\n",
              "      <th>26</th>\n",
              "      <td>ICHIGO</td>\n",
              "      <td>6</td>\n",
              "      <td>012</td>\n",
              "      <td>2020/11/30</td>\n",
              "      <td>岸辺</td>\n",
              "      <td>2.0</td>\n",
              "      <td>2020-11-20 00:00:00</td>\n",
              "      <td>CMT0004</td>\n",
              "      <td>オイル交換</td>\n",
              "      <td>1</td>\n",
              "      <td>1000</td>\n",
              "      <td>1000</td>\n",
              "    </tr>\n",
              "    <tr>\n",
              "      <th>27</th>\n",
              "      <td>ICHIGO</td>\n",
              "      <td>6</td>\n",
              "      <td>012</td>\n",
              "      <td>2020/11/30</td>\n",
              "      <td>岸辺</td>\n",
              "      <td>2.0</td>\n",
              "      <td>2020-11-20 00:00:00</td>\n",
              "      <td>CMT0002</td>\n",
              "      <td>洗車 B</td>\n",
              "      <td>1</td>\n",
              "      <td>1500</td>\n",
              "      <td>1500</td>\n",
              "    </tr>\n",
              "    <tr>\n",
              "      <th>28</th>\n",
              "      <td>ICHIGO</td>\n",
              "      <td>6</td>\n",
              "      <td>012</td>\n",
              "      <td>2020/11/30</td>\n",
              "      <td>岸辺</td>\n",
              "      <td>2.0</td>\n",
              "      <td>2020-11-22 00:00:00</td>\n",
              "      <td>GSL0003</td>\n",
              "      <td>軽油</td>\n",
              "      <td>50</td>\n",
              "      <td>100</td>\n",
              "      <td>5000</td>\n",
              "    </tr>\n",
              "    <tr>\n",
              "      <th>29</th>\n",
              "      <td>ICHIGO</td>\n",
              "      <td>6</td>\n",
              "      <td>012</td>\n",
              "      <td>2020/11/30</td>\n",
              "      <td>岸辺</td>\n",
              "      <td>2.0</td>\n",
              "      <td>2020-11-22 00:00:00</td>\n",
              "      <td>GSL0002</td>\n",
              "      <td>ハイオク</td>\n",
              "      <td>40</td>\n",
              "      <td>160</td>\n",
              "      <td>6400</td>\n",
              "    </tr>\n",
              "  </tbody>\n",
              "</table>\n",
              "</div>"
            ],
            "text/plain": [
              "10       企業名  企業コード 請求書No         発行日  ...     品名  数量[L] or [-] 単価[¥/L] or [¥]    金額\n",
              "0   TTT Inc.      6   012  2020/12/30  ...  レギュラー            35            120  4200\n",
              "1   TTT Inc.      6   012  2020/12/30  ...  レギュラー            15            120  1800\n",
              "2   TTT Inc.      6   012  2020/12/30  ...     軽油            50            100  5000\n",
              "3   TTT Inc.      6   012  2020/12/30  ...  レギュラー            40            120  4800\n",
              "4   TTT Inc.      6   012  2020/12/30  ...     軽油            50            100  5000\n",
              "5   TTT Inc.      6   012  2020/12/30  ...  レギュラー            30            120  3600\n",
              "6   TTT Inc.      6   012  2020/12/30  ...     軽油            50            100  5000\n",
              "7   TTT Inc.      6   012  2020/12/30  ...   ハイオク            20            160  3200\n",
              "8   TTT Inc.      6   012  2020/12/30  ...   ハイオク            15            160  2400\n",
              "9   TTT Inc.      6   012  2020/12/30  ...     軽油            60            100  6000\n",
              "10  TTT Inc.      6   012  2020/12/30  ...     軽油            35            100  3500\n",
              "11  TTT Inc.      6   012  2020/10/31  ...  レギュラー            20            120  2400\n",
              "12  TTT Inc.      6   012  2020/10/31  ...   ハイオク            45            160  7200\n",
              "13  TTT Inc.      6   012  2020/10/31  ...     軽油            50            100  5000\n",
              "14  TTT Inc.      6   012  2020/10/31  ...    コロン             3            800  2400\n",
              "15  TTT Inc.      6   012  2020/10/31  ...  オイル交換             1           1000  1000\n",
              "16  TTT Inc.      6   012  2020/10/31  ...   洗車 B             1           1500  1500\n",
              "17  TTT Inc.      6   012  2020/10/31  ...     軽油            50            100  5000\n",
              "18  TTT Inc.      6   012  2020/10/31  ...   ハイオク            40            160  6400\n",
              "19  TTT Inc.      6   012  2020/10/31  ...  タイヤ交換             1           4000  4000\n",
              "20  TTT Inc.      6   012  2020/10/31  ...     軽油            50            100  5000\n",
              "21  TTT Inc.      6   012  2020/10/31  ...     軽油            50            100  5000\n",
              "22    ICHIGO      6   012  2020/11/30  ...  レギュラー            20            120  2400\n",
              "23    ICHIGO      6   012  2020/11/30  ...   ハイオク            45            160  7200\n",
              "24    ICHIGO      6   012  2020/11/30  ...     軽油            50            100  5000\n",
              "25    ICHIGO      6   012  2020/11/30  ...    コロン             3            800  2400\n",
              "26    ICHIGO      6   012  2020/11/30  ...  オイル交換             1           1000  1000\n",
              "27    ICHIGO      6   012  2020/11/30  ...   洗車 B             1           1500  1500\n",
              "28    ICHIGO      6   012  2020/11/30  ...     軽油            50            100  5000\n",
              "29    ICHIGO      6   012  2020/11/30  ...   ハイオク            40            160  6400\n",
              "\n",
              "[30 rows x 12 columns]"
            ]
          },
          "metadata": {},
          "execution_count": 12
        }
      ]
    },
    {
      "cell_type": "code",
      "metadata": {
        "colab": {
          "base_uri": "https://localhost:8080/"
        },
        "id": "P1ffEwKhi53A",
        "outputId": "e9805674-9b29-4156-defb-b8f917126ccc"
      },
      "source": [
        "_df['金額'].sum()"
      ],
      "execution_count": 13,
      "outputs": [
        {
          "output_type": "execute_result",
          "data": {
            "text/plain": [
              "120300"
            ]
          },
          "metadata": {},
          "execution_count": 13
        }
      ]
    },
    {
      "cell_type": "code",
      "metadata": {
        "colab": {
          "base_uri": "https://localhost:8080/"
        },
        "id": "VWerIc9li50a",
        "outputId": "7898c58d-334b-4e75-e868-75b97982b0d2"
      },
      "source": [
        "companies = _df['企業名'].unique()\n",
        "companies"
      ],
      "execution_count": 14,
      "outputs": [
        {
          "output_type": "execute_result",
          "data": {
            "text/plain": [
              "array(['TTT Inc.', 'ICHIGO'], dtype=object)"
            ]
          },
          "metadata": {},
          "execution_count": 14
        }
      ]
    },
    {
      "cell_type": "code",
      "metadata": {
        "colab": {
          "base_uri": "https://localhost:8080/"
        },
        "id": "Yf3FHqgGi5xx",
        "outputId": "982a2cb4-7725-4031-bdc2-336444b2463b"
      },
      "source": [
        "_df[_df['企業名'] == companies[0]]['金額'].sum()"
      ],
      "execution_count": 15,
      "outputs": [
        {
          "output_type": "execute_result",
          "data": {
            "text/plain": [
              "89400"
            ]
          },
          "metadata": {},
          "execution_count": 15
        }
      ]
    },
    {
      "cell_type": "code",
      "metadata": {
        "colab": {
          "base_uri": "https://localhost:8080/"
        },
        "id": "uy19WkkQi5kK",
        "outputId": "13674069-21d5-45dd-ddbc-16ab03dfd7df"
      },
      "source": [
        "tot_earnings =_df['金額'].sum()\n",
        "tot_earnings"
      ],
      "execution_count": 16,
      "outputs": [
        {
          "output_type": "execute_result",
          "data": {
            "text/plain": [
              "120300"
            ]
          },
          "metadata": {},
          "execution_count": 16
        }
      ]
    },
    {
      "cell_type": "code",
      "metadata": {
        "colab": {
          "base_uri": "https://localhost:8080/",
          "height": 80
        },
        "id": "UjHNb2vii5h4",
        "outputId": "bd9a3cba-b031-4a85-c54e-07c2ba5236db"
      },
      "source": [
        "pd.DataFrame({'担当者': member, '企業名': '全体', '金額':tot_earnings}, index=[0])"
      ],
      "execution_count": 17,
      "outputs": [
        {
          "output_type": "execute_result",
          "data": {
            "text/html": [
              "<div>\n",
              "<style scoped>\n",
              "    .dataframe tbody tr th:only-of-type {\n",
              "        vertical-align: middle;\n",
              "    }\n",
              "\n",
              "    .dataframe tbody tr th {\n",
              "        vertical-align: top;\n",
              "    }\n",
              "\n",
              "    .dataframe thead th {\n",
              "        text-align: right;\n",
              "    }\n",
              "</style>\n",
              "<table border=\"1\" class=\"dataframe\">\n",
              "  <thead>\n",
              "    <tr style=\"text-align: right;\">\n",
              "      <th></th>\n",
              "      <th>担当者</th>\n",
              "      <th>企業名</th>\n",
              "      <th>金額</th>\n",
              "    </tr>\n",
              "  </thead>\n",
              "  <tbody>\n",
              "    <tr>\n",
              "      <th>0</th>\n",
              "      <td>岸辺</td>\n",
              "      <td>全体</td>\n",
              "      <td>120300</td>\n",
              "    </tr>\n",
              "  </tbody>\n",
              "</table>\n",
              "</div>"
            ],
            "text/plain": [
              "  担当者 企業名      金額\n",
              "0  岸辺  全体  120300"
            ]
          },
          "metadata": {},
          "execution_count": 17
        }
      ]
    },
    {
      "cell_type": "code",
      "metadata": {
        "colab": {
          "base_uri": "https://localhost:8080/",
          "height": 35
        },
        "id": "Vdr71-RVi5fm",
        "outputId": "7effcbb7-fde9-4c51-e780-4107352d52da"
      },
      "source": [
        "company = companies[0]\n",
        "company"
      ],
      "execution_count": 18,
      "outputs": [
        {
          "output_type": "execute_result",
          "data": {
            "application/vnd.google.colaboratory.intrinsic+json": {
              "type": "string"
            },
            "text/plain": [
              "'TTT Inc.'"
            ]
          },
          "metadata": {},
          "execution_count": 18
        }
      ]
    },
    {
      "cell_type": "code",
      "metadata": {
        "colab": {
          "base_uri": "https://localhost:8080/"
        },
        "id": "A620Wzsqi5da",
        "outputId": "e9e12d81-0cae-46a0-99bd-0699e51c2fcb"
      },
      "source": [
        "earnings = _df[_df['企業名'] == company]['金額'].sum()\n",
        "earnings"
      ],
      "execution_count": 19,
      "outputs": [
        {
          "output_type": "execute_result",
          "data": {
            "text/plain": [
              "89400"
            ]
          },
          "metadata": {},
          "execution_count": 19
        }
      ]
    },
    {
      "cell_type": "code",
      "metadata": {
        "colab": {
          "base_uri": "https://localhost:8080/",
          "height": 80
        },
        "id": "twbKQ1Qwi5bT",
        "outputId": "ac2344f7-45a1-471f-8fe3-cc67c1370b05"
      },
      "source": [
        "pd.DataFrame({'企業名': company, '金額':earnings}, index=[1])"
      ],
      "execution_count": 20,
      "outputs": [
        {
          "output_type": "execute_result",
          "data": {
            "text/html": [
              "<div>\n",
              "<style scoped>\n",
              "    .dataframe tbody tr th:only-of-type {\n",
              "        vertical-align: middle;\n",
              "    }\n",
              "\n",
              "    .dataframe tbody tr th {\n",
              "        vertical-align: top;\n",
              "    }\n",
              "\n",
              "    .dataframe thead th {\n",
              "        text-align: right;\n",
              "    }\n",
              "</style>\n",
              "<table border=\"1\" class=\"dataframe\">\n",
              "  <thead>\n",
              "    <tr style=\"text-align: right;\">\n",
              "      <th></th>\n",
              "      <th>企業名</th>\n",
              "      <th>金額</th>\n",
              "    </tr>\n",
              "  </thead>\n",
              "  <tbody>\n",
              "    <tr>\n",
              "      <th>1</th>\n",
              "      <td>TTT Inc.</td>\n",
              "      <td>89400</td>\n",
              "    </tr>\n",
              "  </tbody>\n",
              "</table>\n",
              "</div>"
            ],
            "text/plain": [
              "        企業名     金額\n",
              "1  TTT Inc.  89400"
            ]
          },
          "metadata": {},
          "execution_count": 20
        }
      ]
    },
    {
      "cell_type": "code",
      "metadata": {
        "colab": {
          "base_uri": "https://localhost:8080/"
        },
        "id": "v4exLyVCi5Y6",
        "outputId": "593207f9-c049-4877-abd4-9e6d2949483b"
      },
      "source": [
        "dict(担当者=member, 企業名='全体', 金額=tot_earnings)"
      ],
      "execution_count": 21,
      "outputs": [
        {
          "output_type": "execute_result",
          "data": {
            "text/plain": [
              "{'企業名': '全体', '担当者': '岸辺', '金額': 120300}"
            ]
          },
          "metadata": {},
          "execution_count": 21
        }
      ]
    },
    {
      "cell_type": "code",
      "metadata": {
        "colab": {
          "base_uri": "https://localhost:8080/"
        },
        "id": "SIH2AYbTi5W0",
        "outputId": "fac1e835-db36-4452-c794-2ed6ef34e108"
      },
      "source": [
        "dict(企業名=company, 金額=earnings)"
      ],
      "execution_count": 22,
      "outputs": [
        {
          "output_type": "execute_result",
          "data": {
            "text/plain": [
              "{'企業名': 'TTT Inc.', '金額': 89400}"
            ]
          },
          "metadata": {},
          "execution_count": 22
        }
      ]
    },
    {
      "cell_type": "code",
      "metadata": {
        "id": "T2xSqrGfi5Uc"
      },
      "source": [
        "total_res = []\n",
        "for member in members:\n",
        "    _df = df[df['発行者'] == member]\n",
        "    companies = _df['企業名'].unique()\n",
        "\n",
        "    tot_earnings =_df['金額'].sum()\n",
        "    total_res.append(dict(担当者=member, 企業名='全体', 金額=tot_earnings))\n",
        "    for company in companies:\n",
        "        earnings =_df[_df['企業名'] == company]['金額'].sum()\n",
        "        total_res.append(dict(企業名=company, 金額=earnings))\n",
        "\n",
        "\n"
      ],
      "execution_count": 23,
      "outputs": []
    },
    {
      "cell_type": "code",
      "metadata": {
        "colab": {
          "base_uri": "https://localhost:8080/"
        },
        "id": "f5rL9UNti5SO",
        "outputId": "29ede316-a7b3-47dd-a7aa-aefe1dd2d981"
      },
      "source": [
        "total_res"
      ],
      "execution_count": 24,
      "outputs": [
        {
          "output_type": "execute_result",
          "data": {
            "text/plain": [
              "[{'企業名': '全体', '担当者': '岸辺', '金額': 120300},\n",
              " {'企業名': 'TTT Inc.', '金額': 89400},\n",
              " {'企業名': 'ICHIGO', '金額': 30900},\n",
              " {'企業名': '全体', '担当者': '桜田', '金額': 154400},\n",
              " {'企業名': '株式会社ABC', '金額': 60100},\n",
              " {'企業名': 'STR Corp.', '金額': 55300},\n",
              " {'企業名': 'CDF商事', '金額': 39000},\n",
              " {'企業名': '全体', '担当者': '山岡', '金額': 35800},\n",
              " {'企業名': 'XYZ株式会社', '金額': 35800}]"
            ]
          },
          "metadata": {},
          "execution_count": 24
        }
      ]
    },
    {
      "cell_type": "code",
      "metadata": {
        "colab": {
          "base_uri": "https://localhost:8080/",
          "height": 326
        },
        "id": "rK0zBGI9i5QC",
        "outputId": "c893688d-adde-4142-9a0a-63d2a10a8255"
      },
      "source": [
        "pd.DataFrame(total_res, columns={'担当者', '企業名', '金額'})"
      ],
      "execution_count": 25,
      "outputs": [
        {
          "output_type": "execute_result",
          "data": {
            "text/html": [
              "<div>\n",
              "<style scoped>\n",
              "    .dataframe tbody tr th:only-of-type {\n",
              "        vertical-align: middle;\n",
              "    }\n",
              "\n",
              "    .dataframe tbody tr th {\n",
              "        vertical-align: top;\n",
              "    }\n",
              "\n",
              "    .dataframe thead th {\n",
              "        text-align: right;\n",
              "    }\n",
              "</style>\n",
              "<table border=\"1\" class=\"dataframe\">\n",
              "  <thead>\n",
              "    <tr style=\"text-align: right;\">\n",
              "      <th></th>\n",
              "      <th>担当者</th>\n",
              "      <th>企業名</th>\n",
              "      <th>金額</th>\n",
              "    </tr>\n",
              "  </thead>\n",
              "  <tbody>\n",
              "    <tr>\n",
              "      <th>0</th>\n",
              "      <td>岸辺</td>\n",
              "      <td>全体</td>\n",
              "      <td>120300</td>\n",
              "    </tr>\n",
              "    <tr>\n",
              "      <th>1</th>\n",
              "      <td>NaN</td>\n",
              "      <td>TTT Inc.</td>\n",
              "      <td>89400</td>\n",
              "    </tr>\n",
              "    <tr>\n",
              "      <th>2</th>\n",
              "      <td>NaN</td>\n",
              "      <td>ICHIGO</td>\n",
              "      <td>30900</td>\n",
              "    </tr>\n",
              "    <tr>\n",
              "      <th>3</th>\n",
              "      <td>桜田</td>\n",
              "      <td>全体</td>\n",
              "      <td>154400</td>\n",
              "    </tr>\n",
              "    <tr>\n",
              "      <th>4</th>\n",
              "      <td>NaN</td>\n",
              "      <td>株式会社ABC</td>\n",
              "      <td>60100</td>\n",
              "    </tr>\n",
              "    <tr>\n",
              "      <th>5</th>\n",
              "      <td>NaN</td>\n",
              "      <td>STR Corp.</td>\n",
              "      <td>55300</td>\n",
              "    </tr>\n",
              "    <tr>\n",
              "      <th>6</th>\n",
              "      <td>NaN</td>\n",
              "      <td>CDF商事</td>\n",
              "      <td>39000</td>\n",
              "    </tr>\n",
              "    <tr>\n",
              "      <th>7</th>\n",
              "      <td>山岡</td>\n",
              "      <td>全体</td>\n",
              "      <td>35800</td>\n",
              "    </tr>\n",
              "    <tr>\n",
              "      <th>8</th>\n",
              "      <td>NaN</td>\n",
              "      <td>XYZ株式会社</td>\n",
              "      <td>35800</td>\n",
              "    </tr>\n",
              "  </tbody>\n",
              "</table>\n",
              "</div>"
            ],
            "text/plain": [
              "   担当者        企業名      金額\n",
              "0   岸辺         全体  120300\n",
              "1  NaN   TTT Inc.   89400\n",
              "2  NaN     ICHIGO   30900\n",
              "3   桜田         全体  154400\n",
              "4  NaN    株式会社ABC   60100\n",
              "5  NaN  STR Corp.   55300\n",
              "6  NaN      CDF商事   39000\n",
              "7   山岡         全体   35800\n",
              "8  NaN    XYZ株式会社   35800"
            ]
          },
          "metadata": {},
          "execution_count": 25
        }
      ]
    },
    {
      "cell_type": "markdown",
      "metadata": {
        "id": "m4cWdrBlF88M"
      },
      "source": [
        "Vlook"
      ]
    },
    {
      "cell_type": "code",
      "metadata": {
        "id": "h5LNR5SJi5Km"
      },
      "source": [
        "df_master = pd.read_excel('商品情報マスタ.xlsx')\n",
        "df_master"
      ],
      "execution_count": null,
      "outputs": []
    },
    {
      "cell_type": "code",
      "metadata": {
        "id": "hawBUqgrFjgJ"
      },
      "source": [
        "df_order = pd.read_excel('注文表.xlsx')\n",
        "df_order"
      ],
      "execution_count": null,
      "outputs": []
    },
    {
      "cell_type": "code",
      "metadata": {
        "id": "OT48cus1Fjdi"
      },
      "source": [
        "df_merged = pd.merge(df_order, df_master, how='inner')\n",
        "df_merged"
      ],
      "execution_count": null,
      "outputs": []
    },
    {
      "cell_type": "code",
      "metadata": {
        "id": "RlB1NcT6Fjbo"
      },
      "source": [
        "df_merged['金額'] = df_merged['数量'] * df_merged['単価[¥/L] or [¥]']\n",
        "df_merged"
      ],
      "execution_count": null,
      "outputs": []
    },
    {
      "cell_type": "markdown",
      "metadata": {
        "id": "dpQ63uEbHzjP"
      },
      "source": [
        "##ピポッドテーブル"
      ]
    },
    {
      "cell_type": "code",
      "metadata": {
        "colab": {
          "base_uri": "https://localhost:8080/",
          "height": 203
        },
        "id": "CJvCvWd8FjZG",
        "outputId": "9d23ae4b-0e58-4895-938e-29842ac8cc92"
      },
      "source": [
        "df = pd.read_excel('all_data_02.xlsx')\n",
        "df.head()"
      ],
      "execution_count": 34,
      "outputs": [
        {
          "output_type": "execute_result",
          "data": {
            "text/html": [
              "<div>\n",
              "<style scoped>\n",
              "    .dataframe tbody tr th:only-of-type {\n",
              "        vertical-align: middle;\n",
              "    }\n",
              "\n",
              "    .dataframe tbody tr th {\n",
              "        vertical-align: top;\n",
              "    }\n",
              "\n",
              "    .dataframe thead th {\n",
              "        text-align: right;\n",
              "    }\n",
              "</style>\n",
              "<table border=\"1\" class=\"dataframe\">\n",
              "  <thead>\n",
              "    <tr style=\"text-align: right;\">\n",
              "      <th></th>\n",
              "      <th>企業名</th>\n",
              "      <th>企業コード</th>\n",
              "      <th>請求書No</th>\n",
              "      <th>発行日</th>\n",
              "      <th>発行者</th>\n",
              "      <th>発行者コード</th>\n",
              "      <th>日付</th>\n",
              "      <th>商品コード</th>\n",
              "      <th>品名</th>\n",
              "      <th>数量[L] or [-]</th>\n",
              "      <th>単価[¥/L] or [¥]</th>\n",
              "      <th>金額</th>\n",
              "    </tr>\n",
              "  </thead>\n",
              "  <tbody>\n",
              "    <tr>\n",
              "      <th>0</th>\n",
              "      <td>TTT Inc.</td>\n",
              "      <td>6</td>\n",
              "      <td>12</td>\n",
              "      <td>2020/12/30</td>\n",
              "      <td>岸辺</td>\n",
              "      <td>2</td>\n",
              "      <td>2020-12-01</td>\n",
              "      <td>GSL0001</td>\n",
              "      <td>レギュラー</td>\n",
              "      <td>35</td>\n",
              "      <td>120</td>\n",
              "      <td>4200</td>\n",
              "    </tr>\n",
              "    <tr>\n",
              "      <th>1</th>\n",
              "      <td>TTT Inc.</td>\n",
              "      <td>6</td>\n",
              "      <td>12</td>\n",
              "      <td>2020/12/30</td>\n",
              "      <td>岸辺</td>\n",
              "      <td>2</td>\n",
              "      <td>2020-12-06</td>\n",
              "      <td>GSL0001</td>\n",
              "      <td>レギュラー</td>\n",
              "      <td>15</td>\n",
              "      <td>120</td>\n",
              "      <td>1800</td>\n",
              "    </tr>\n",
              "    <tr>\n",
              "      <th>2</th>\n",
              "      <td>TTT Inc.</td>\n",
              "      <td>6</td>\n",
              "      <td>12</td>\n",
              "      <td>2020/12/30</td>\n",
              "      <td>岸辺</td>\n",
              "      <td>2</td>\n",
              "      <td>2020-12-06</td>\n",
              "      <td>GSL0003</td>\n",
              "      <td>軽油</td>\n",
              "      <td>50</td>\n",
              "      <td>100</td>\n",
              "      <td>5000</td>\n",
              "    </tr>\n",
              "    <tr>\n",
              "      <th>3</th>\n",
              "      <td>TTT Inc.</td>\n",
              "      <td>6</td>\n",
              "      <td>12</td>\n",
              "      <td>2020/12/30</td>\n",
              "      <td>岸辺</td>\n",
              "      <td>2</td>\n",
              "      <td>2020-12-08</td>\n",
              "      <td>GSL0001</td>\n",
              "      <td>レギュラー</td>\n",
              "      <td>40</td>\n",
              "      <td>120</td>\n",
              "      <td>4800</td>\n",
              "    </tr>\n",
              "    <tr>\n",
              "      <th>4</th>\n",
              "      <td>TTT Inc.</td>\n",
              "      <td>6</td>\n",
              "      <td>12</td>\n",
              "      <td>2020/12/30</td>\n",
              "      <td>岸辺</td>\n",
              "      <td>2</td>\n",
              "      <td>2020-12-09</td>\n",
              "      <td>GSL0003</td>\n",
              "      <td>軽油</td>\n",
              "      <td>50</td>\n",
              "      <td>100</td>\n",
              "      <td>5000</td>\n",
              "    </tr>\n",
              "  </tbody>\n",
              "</table>\n",
              "</div>"
            ],
            "text/plain": [
              "        企業名  企業コード  請求書No  ... 数量[L] or [-] 単価[¥/L] or [¥]    金額\n",
              "0  TTT Inc.      6     12  ...           35            120  4200\n",
              "1  TTT Inc.      6     12  ...           15            120  1800\n",
              "2  TTT Inc.      6     12  ...           50            100  5000\n",
              "3  TTT Inc.      6     12  ...           40            120  4800\n",
              "4  TTT Inc.      6     12  ...           50            100  5000\n",
              "\n",
              "[5 rows x 12 columns]"
            ]
          },
          "metadata": {},
          "execution_count": 34
        }
      ]
    },
    {
      "cell_type": "code",
      "metadata": {
        "id": "H9fNe5SfIcyR"
      },
      "source": [
        "import numpy as np"
      ],
      "execution_count": 35,
      "outputs": []
    },
    {
      "cell_type": "code",
      "metadata": {
        "colab": {
          "base_uri": "https://localhost:8080/",
          "height": 265
        },
        "id": "nIj8m6NmFjXP",
        "outputId": "93f4ecb2-ea4c-428b-b797-6651feb6ff18"
      },
      "source": [
        "df.pivot_table(index=['企業名'], columns=['品名'], values='金額', aggfunc=np.sum)"
      ],
      "execution_count": 36,
      "outputs": [
        {
          "output_type": "execute_result",
          "data": {
            "text/html": [
              "<div>\n",
              "<style scoped>\n",
              "    .dataframe tbody tr th:only-of-type {\n",
              "        vertical-align: middle;\n",
              "    }\n",
              "\n",
              "    .dataframe tbody tr th {\n",
              "        vertical-align: top;\n",
              "    }\n",
              "\n",
              "    .dataframe thead th {\n",
              "        text-align: right;\n",
              "    }\n",
              "</style>\n",
              "<table border=\"1\" class=\"dataframe\">\n",
              "  <thead>\n",
              "    <tr style=\"text-align: right;\">\n",
              "      <th>品名</th>\n",
              "      <th>オイル交換</th>\n",
              "      <th>コロン</th>\n",
              "      <th>スナック</th>\n",
              "      <th>タイヤ</th>\n",
              "      <th>タイヤ交換</th>\n",
              "      <th>ハイオク</th>\n",
              "      <th>レギュラー</th>\n",
              "      <th>洗車 A</th>\n",
              "      <th>洗車 B</th>\n",
              "      <th>洗車 C</th>\n",
              "      <th>灯油</th>\n",
              "      <th>軽油</th>\n",
              "    </tr>\n",
              "    <tr>\n",
              "      <th>企業名</th>\n",
              "      <th></th>\n",
              "      <th></th>\n",
              "      <th></th>\n",
              "      <th></th>\n",
              "      <th></th>\n",
              "      <th></th>\n",
              "      <th></th>\n",
              "      <th></th>\n",
              "      <th></th>\n",
              "      <th></th>\n",
              "      <th></th>\n",
              "      <th></th>\n",
              "    </tr>\n",
              "  </thead>\n",
              "  <tbody>\n",
              "    <tr>\n",
              "      <th>CDF商事</th>\n",
              "      <td>1000.0</td>\n",
              "      <td>NaN</td>\n",
              "      <td>NaN</td>\n",
              "      <td>NaN</td>\n",
              "      <td>4000.0</td>\n",
              "      <td>7200.0</td>\n",
              "      <td>8400.0</td>\n",
              "      <td>NaN</td>\n",
              "      <td>NaN</td>\n",
              "      <td>6000.0</td>\n",
              "      <td>12400.0</td>\n",
              "      <td>NaN</td>\n",
              "    </tr>\n",
              "    <tr>\n",
              "      <th>ICHIGO</th>\n",
              "      <td>1000.0</td>\n",
              "      <td>2400.0</td>\n",
              "      <td>NaN</td>\n",
              "      <td>NaN</td>\n",
              "      <td>NaN</td>\n",
              "      <td>13600.0</td>\n",
              "      <td>2400.0</td>\n",
              "      <td>NaN</td>\n",
              "      <td>1500.0</td>\n",
              "      <td>NaN</td>\n",
              "      <td>NaN</td>\n",
              "      <td>10000.0</td>\n",
              "    </tr>\n",
              "    <tr>\n",
              "      <th>STR Corp.</th>\n",
              "      <td>NaN</td>\n",
              "      <td>NaN</td>\n",
              "      <td>1000.0</td>\n",
              "      <td>32000.0</td>\n",
              "      <td>4000.0</td>\n",
              "      <td>7200.0</td>\n",
              "      <td>7200.0</td>\n",
              "      <td>NaN</td>\n",
              "      <td>1500.0</td>\n",
              "      <td>NaN</td>\n",
              "      <td>2400.0</td>\n",
              "      <td>NaN</td>\n",
              "    </tr>\n",
              "    <tr>\n",
              "      <th>TTT Inc.</th>\n",
              "      <td>1000.0</td>\n",
              "      <td>2400.0</td>\n",
              "      <td>NaN</td>\n",
              "      <td>NaN</td>\n",
              "      <td>4000.0</td>\n",
              "      <td>19200.0</td>\n",
              "      <td>16800.0</td>\n",
              "      <td>NaN</td>\n",
              "      <td>1500.0</td>\n",
              "      <td>NaN</td>\n",
              "      <td>NaN</td>\n",
              "      <td>44500.0</td>\n",
              "    </tr>\n",
              "    <tr>\n",
              "      <th>XYZ株式会社</th>\n",
              "      <td>NaN</td>\n",
              "      <td>NaN</td>\n",
              "      <td>NaN</td>\n",
              "      <td>NaN</td>\n",
              "      <td>NaN</td>\n",
              "      <td>12000.0</td>\n",
              "      <td>6000.0</td>\n",
              "      <td>NaN</td>\n",
              "      <td>NaN</td>\n",
              "      <td>6000.0</td>\n",
              "      <td>6800.0</td>\n",
              "      <td>5000.0</td>\n",
              "    </tr>\n",
              "    <tr>\n",
              "      <th>株式会社ABC</th>\n",
              "      <td>1000.0</td>\n",
              "      <td>800.0</td>\n",
              "      <td>300.0</td>\n",
              "      <td>32000.0</td>\n",
              "      <td>4000.0</td>\n",
              "      <td>7200.0</td>\n",
              "      <td>2400.0</td>\n",
              "      <td>500.0</td>\n",
              "      <td>1500.0</td>\n",
              "      <td>3000.0</td>\n",
              "      <td>2400.0</td>\n",
              "      <td>5000.0</td>\n",
              "    </tr>\n",
              "  </tbody>\n",
              "</table>\n",
              "</div>"
            ],
            "text/plain": [
              "品名          オイル交換     コロン    スナック      タイヤ  ...    洗車 B    洗車 C       灯油       軽油\n",
              "企業名                                         ...                                  \n",
              "CDF商事      1000.0     NaN     NaN      NaN  ...     NaN  6000.0  12400.0      NaN\n",
              "ICHIGO     1000.0  2400.0     NaN      NaN  ...  1500.0     NaN      NaN  10000.0\n",
              "STR Corp.     NaN     NaN  1000.0  32000.0  ...  1500.0     NaN   2400.0      NaN\n",
              "TTT Inc.   1000.0  2400.0     NaN      NaN  ...  1500.0     NaN      NaN  44500.0\n",
              "XYZ株式会社       NaN     NaN     NaN      NaN  ...     NaN  6000.0   6800.0   5000.0\n",
              "株式会社ABC    1000.0   800.0   300.0  32000.0  ...  1500.0  3000.0   2400.0   5000.0\n",
              "\n",
              "[6 rows x 12 columns]"
            ]
          },
          "metadata": {},
          "execution_count": 36
        }
      ]
    },
    {
      "cell_type": "code",
      "metadata": {
        "id": "ADrjhAISFjVI"
      },
      "source": [
        ""
      ],
      "execution_count": null,
      "outputs": []
    },
    {
      "cell_type": "code",
      "metadata": {
        "id": "DhZ0ivImFjTt"
      },
      "source": [
        ""
      ],
      "execution_count": null,
      "outputs": []
    },
    {
      "cell_type": "code",
      "metadata": {
        "id": "y_XhxHpDFjRC"
      },
      "source": [
        ""
      ],
      "execution_count": null,
      "outputs": []
    },
    {
      "cell_type": "code",
      "metadata": {
        "id": "Tmwh-uEDFjO3"
      },
      "source": [
        ""
      ],
      "execution_count": null,
      "outputs": []
    },
    {
      "cell_type": "code",
      "metadata": {
        "id": "kv3xpXF_FjM0"
      },
      "source": [
        ""
      ],
      "execution_count": null,
      "outputs": []
    },
    {
      "cell_type": "code",
      "metadata": {
        "id": "08gstsKDFjKm"
      },
      "source": [
        ""
      ],
      "execution_count": null,
      "outputs": []
    },
    {
      "cell_type": "code",
      "metadata": {
        "id": "nFUgrfgAFjIO"
      },
      "source": [
        ""
      ],
      "execution_count": null,
      "outputs": []
    },
    {
      "cell_type": "code",
      "metadata": {
        "id": "DiNxeTeMFjF9"
      },
      "source": [
        ""
      ],
      "execution_count": null,
      "outputs": []
    },
    {
      "cell_type": "code",
      "metadata": {
        "id": "fJ52Y-bRi5IU"
      },
      "source": [
        ""
      ],
      "execution_count": 25,
      "outputs": []
    }
  ]
}