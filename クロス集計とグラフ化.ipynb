{
  "nbformat": 4,
  "nbformat_minor": 0,
  "metadata": {
    "colab": {
      "name": "クロス集計とグラフ化.ipynb",
      "provenance": [],
      "authorship_tag": "ABX9TyNc/7It8HnwwyEk9IeJqS21",
      "include_colab_link": true
    },
    "kernelspec": {
      "name": "python3",
      "display_name": "Python 3"
    },
    "language_info": {
      "name": "python"
    }
  },
  "cells": [
    {
      "cell_type": "markdown",
      "metadata": {
        "id": "view-in-github",
        "colab_type": "text"
      },
      "source": [
        "<a href=\"https://colab.research.google.com/github/kameoman/pythonlesson/blob/main/%E3%82%AF%E3%83%AD%E3%82%B9%E9%9B%86%E8%A8%88%E3%81%A8%E3%82%B0%E3%83%A9%E3%83%95%E5%8C%96.ipynb\" target=\"_parent\"><img src=\"https://colab.research.google.com/assets/colab-badge.svg\" alt=\"Open In Colab\"/></a>"
      ]
    },
    {
      "cell_type": "code",
      "metadata": {
        "id": "aGDID76Bi4lm"
      },
      "source": [
        "import pandas as pd\n",
        "from glob import glob"
      ],
      "execution_count": 59,
      "outputs": []
    },
    {
      "cell_type": "code",
      "metadata": {
        "colab": {
          "base_uri": "https://localhost:8080/"
        },
        "id": "TkfEMEQxi6Qt",
        "outputId": "19ec258c-955f-4b3e-cead-a535f3a4101f"
      },
      "source": [
        "filepaths = glob('請求書*.xlsx')\n",
        "filepaths"
      ],
      "execution_count": 60,
      "outputs": [
        {
          "output_type": "execute_result",
          "data": {
            "text/plain": [
              "['請求書_12月_TTTInc.xlsx',\n",
              " '請求書_10月_TTTInc.xlsx',\n",
              " '請求書_11月_ICHIGO.xlsx',\n",
              " '請求書_12月_株式会社ABC.xlsx',\n",
              " '請求書_11月_XYZ株式会社.xlsx',\n",
              " '請求書_12月_STR_Corp.xlsx',\n",
              " '請求書_12月_CDF商事.xlsx']"
            ]
          },
          "metadata": {},
          "execution_count": 60
        }
      ]
    },
    {
      "cell_type": "code",
      "metadata": {
        "id": "uBg35ehSi6OH"
      },
      "source": [
        "def extract(filepath):\n",
        "    _df = pd.read_excel(filepath)\n",
        "    columns = _df.iloc[10, [1,2,4,10,11,14]]\n",
        "    df = _df.iloc[11:23, [1,2,4,10,11,14]]\n",
        "    df.columns = columns\n",
        "    df['企業名'] = _df.iloc[2,0]\n",
        "    df['企業コード'] = _df.iloc[3,4]\n",
        "    df['請求書No'] = _df.iloc[2,12]\n",
        "    df['発行日'] = _df.iloc[3,12]\n",
        "    df['発行者'] = _df.iloc[4,12]\n",
        "    df['発行者コード'] = _df.iloc[4,13]\n",
        "    return df"
      ],
      "execution_count": 61,
      "outputs": []
    },
    {
      "cell_type": "code",
      "metadata": {
        "id": "dUdmJXusi6Lg"
      },
      "source": [
        "df = pd.DataFrame()\n",
        "\n",
        "for filepath in filepaths:\n",
        "    df = pd.concat([df, extract(filepath)])"
      ],
      "execution_count": 62,
      "outputs": []
    },
    {
      "cell_type": "code",
      "metadata": {
        "colab": {
          "base_uri": "https://localhost:8080/"
        },
        "id": "D2EyNCfri6JN",
        "outputId": "65a51e67-69c2-4931-e5df-2c2000dde49a"
      },
      "source": [
        "len(df)"
      ],
      "execution_count": 63,
      "outputs": [
        {
          "output_type": "execute_result",
          "data": {
            "text/plain": [
              "84"
            ]
          },
          "metadata": {},
          "execution_count": 63
        }
      ]
    },
    {
      "cell_type": "code",
      "metadata": {
        "id": "SVHgxvR9i6G8",
        "colab": {
          "base_uri": "https://localhost:8080/",
          "height": 354
        },
        "outputId": "bcea2a2b-2c10-42be-fcbe-32417a0abbee"
      },
      "source": [
        "df = df.dropna()\n",
        "df.tail()"
      ],
      "execution_count": 64,
      "outputs": [
        {
          "output_type": "execute_result",
          "data": {
            "text/html": [
              "<div>\n",
              "<style scoped>\n",
              "    .dataframe tbody tr th:only-of-type {\n",
              "        vertical-align: middle;\n",
              "    }\n",
              "\n",
              "    .dataframe tbody tr th {\n",
              "        vertical-align: top;\n",
              "    }\n",
              "\n",
              "    .dataframe thead th {\n",
              "        text-align: right;\n",
              "    }\n",
              "</style>\n",
              "<table border=\"1\" class=\"dataframe\">\n",
              "  <thead>\n",
              "    <tr style=\"text-align: right;\">\n",
              "      <th>10</th>\n",
              "      <th>日付</th>\n",
              "      <th>商品コード</th>\n",
              "      <th>品名</th>\n",
              "      <th>数量[L] or [-]</th>\n",
              "      <th>単価[¥/L] or [¥]</th>\n",
              "      <th>金額</th>\n",
              "      <th>企業名</th>\n",
              "      <th>企業コード</th>\n",
              "      <th>請求書No</th>\n",
              "      <th>発行日</th>\n",
              "      <th>発行者</th>\n",
              "      <th>発行者コード</th>\n",
              "    </tr>\n",
              "  </thead>\n",
              "  <tbody>\n",
              "    <tr>\n",
              "      <th>17</th>\n",
              "      <td>2020-12-21 00:00:00</td>\n",
              "      <td>CMT0003</td>\n",
              "      <td>洗車 C</td>\n",
              "      <td>1</td>\n",
              "      <td>3000</td>\n",
              "      <td>3000</td>\n",
              "      <td>CDF商事</td>\n",
              "      <td>11</td>\n",
              "      <td>003</td>\n",
              "      <td>2020/12/28</td>\n",
              "      <td>桜田</td>\n",
              "      <td>5.0</td>\n",
              "    </tr>\n",
              "    <tr>\n",
              "      <th>18</th>\n",
              "      <td>2020-12-22 00:00:00</td>\n",
              "      <td>GSL0004</td>\n",
              "      <td>灯油</td>\n",
              "      <td>60</td>\n",
              "      <td>80</td>\n",
              "      <td>4800</td>\n",
              "      <td>CDF商事</td>\n",
              "      <td>11</td>\n",
              "      <td>003</td>\n",
              "      <td>2020/12/28</td>\n",
              "      <td>桜田</td>\n",
              "      <td>5.0</td>\n",
              "    </tr>\n",
              "    <tr>\n",
              "      <th>19</th>\n",
              "      <td>2020-12-22 00:00:00</td>\n",
              "      <td>CMT0005</td>\n",
              "      <td>タイヤ交換</td>\n",
              "      <td>1</td>\n",
              "      <td>4000</td>\n",
              "      <td>4000</td>\n",
              "      <td>CDF商事</td>\n",
              "      <td>11</td>\n",
              "      <td>003</td>\n",
              "      <td>2020/12/28</td>\n",
              "      <td>桜田</td>\n",
              "      <td>5.0</td>\n",
              "    </tr>\n",
              "    <tr>\n",
              "      <th>20</th>\n",
              "      <td>2020-12-25 00:00:00</td>\n",
              "      <td>GSL0004</td>\n",
              "      <td>灯油</td>\n",
              "      <td>20</td>\n",
              "      <td>80</td>\n",
              "      <td>1600</td>\n",
              "      <td>CDF商事</td>\n",
              "      <td>11</td>\n",
              "      <td>003</td>\n",
              "      <td>2020/12/28</td>\n",
              "      <td>桜田</td>\n",
              "      <td>5.0</td>\n",
              "    </tr>\n",
              "    <tr>\n",
              "      <th>21</th>\n",
              "      <td>2020-12-28 00:00:00</td>\n",
              "      <td>CMT0004</td>\n",
              "      <td>オイル交換</td>\n",
              "      <td>1</td>\n",
              "      <td>1000</td>\n",
              "      <td>1000</td>\n",
              "      <td>CDF商事</td>\n",
              "      <td>11</td>\n",
              "      <td>003</td>\n",
              "      <td>2020/12/28</td>\n",
              "      <td>桜田</td>\n",
              "      <td>5.0</td>\n",
              "    </tr>\n",
              "  </tbody>\n",
              "</table>\n",
              "</div>"
            ],
            "text/plain": [
              "10                   日付    商品コード     品名  ...         発行日 発行者 発行者コード\n",
              "17  2020-12-21 00:00:00  CMT0003   洗車 C  ...  2020/12/28  桜田    5.0\n",
              "18  2020-12-22 00:00:00  GSL0004     灯油  ...  2020/12/28  桜田    5.0\n",
              "19  2020-12-22 00:00:00  CMT0005  タイヤ交換  ...  2020/12/28  桜田    5.0\n",
              "20  2020-12-25 00:00:00  GSL0004     灯油  ...  2020/12/28  桜田    5.0\n",
              "21  2020-12-28 00:00:00  CMT0004  オイル交換  ...  2020/12/28  桜田    5.0\n",
              "\n",
              "[5 rows x 12 columns]"
            ]
          },
          "metadata": {},
          "execution_count": 64
        }
      ]
    },
    {
      "cell_type": "code",
      "metadata": {
        "id": "wpOJizAYi6Es"
      },
      "source": [
        "df = df.reset_index(drop=True)"
      ],
      "execution_count": 65,
      "outputs": []
    },
    {
      "cell_type": "code",
      "metadata": {
        "id": "wVhEeA5Yi6Cn"
      },
      "source": [
        "df = df.iloc[:, [6,7,8,9,10,11,0,1,2,3,4,5]]"
      ],
      "execution_count": 66,
      "outputs": []
    },
    {
      "cell_type": "code",
      "metadata": {
        "id": "raRmfZwHi6AK"
      },
      "source": [
        "df.to_excel('all_data_02.xlsx', index=False)"
      ],
      "execution_count": 67,
      "outputs": []
    },
    {
      "cell_type": "code",
      "metadata": {
        "colab": {
          "base_uri": "https://localhost:8080/"
        },
        "id": "ddx6k_zyi590",
        "outputId": "f1f4692a-5d8b-46ae-be48-dac7860636d1"
      },
      "source": [
        "members = df['発行者'].unique()\n",
        "members"
      ],
      "execution_count": 68,
      "outputs": [
        {
          "output_type": "execute_result",
          "data": {
            "text/plain": [
              "array(['岸辺', '桜田', '山岡'], dtype=object)"
            ]
          },
          "metadata": {},
          "execution_count": 68
        }
      ]
    },
    {
      "cell_type": "code",
      "metadata": {
        "colab": {
          "base_uri": "https://localhost:8080/",
          "height": 35
        },
        "id": "ktaKM3Fvi57k",
        "outputId": "6c6ba1f4-b072-459d-86d9-87285d898400"
      },
      "source": [
        "member = members[0]\n",
        "member"
      ],
      "execution_count": 69,
      "outputs": [
        {
          "output_type": "execute_result",
          "data": {
            "application/vnd.google.colaboratory.intrinsic+json": {
              "type": "string"
            },
            "text/plain": [
              "'岸辺'"
            ]
          },
          "metadata": {},
          "execution_count": 69
        }
      ]
    },
    {
      "cell_type": "code",
      "metadata": {
        "id": "HemiRjqji55M",
        "colab": {
          "base_uri": "https://localhost:8080/",
          "height": 1000
        },
        "outputId": "51fe5f38-adab-4e84-c218-35741313f4b2"
      },
      "source": [
        "_df = df[df['発行者'] == member]\n",
        "_df"
      ],
      "execution_count": 70,
      "outputs": [
        {
          "output_type": "execute_result",
          "data": {
            "text/html": [
              "<div>\n",
              "<style scoped>\n",
              "    .dataframe tbody tr th:only-of-type {\n",
              "        vertical-align: middle;\n",
              "    }\n",
              "\n",
              "    .dataframe tbody tr th {\n",
              "        vertical-align: top;\n",
              "    }\n",
              "\n",
              "    .dataframe thead th {\n",
              "        text-align: right;\n",
              "    }\n",
              "</style>\n",
              "<table border=\"1\" class=\"dataframe\">\n",
              "  <thead>\n",
              "    <tr style=\"text-align: right;\">\n",
              "      <th>10</th>\n",
              "      <th>企業名</th>\n",
              "      <th>企業コード</th>\n",
              "      <th>請求書No</th>\n",
              "      <th>発行日</th>\n",
              "      <th>発行者</th>\n",
              "      <th>発行者コード</th>\n",
              "      <th>日付</th>\n",
              "      <th>商品コード</th>\n",
              "      <th>品名</th>\n",
              "      <th>数量[L] or [-]</th>\n",
              "      <th>単価[¥/L] or [¥]</th>\n",
              "      <th>金額</th>\n",
              "    </tr>\n",
              "  </thead>\n",
              "  <tbody>\n",
              "    <tr>\n",
              "      <th>0</th>\n",
              "      <td>TTT Inc.</td>\n",
              "      <td>6</td>\n",
              "      <td>012</td>\n",
              "      <td>2020/12/30</td>\n",
              "      <td>岸辺</td>\n",
              "      <td>2.0</td>\n",
              "      <td>2020-12-01 00:00:00</td>\n",
              "      <td>GSL0001</td>\n",
              "      <td>レギュラー</td>\n",
              "      <td>35</td>\n",
              "      <td>120</td>\n",
              "      <td>4200</td>\n",
              "    </tr>\n",
              "    <tr>\n",
              "      <th>1</th>\n",
              "      <td>TTT Inc.</td>\n",
              "      <td>6</td>\n",
              "      <td>012</td>\n",
              "      <td>2020/12/30</td>\n",
              "      <td>岸辺</td>\n",
              "      <td>2.0</td>\n",
              "      <td>2020-12-06 00:00:00</td>\n",
              "      <td>GSL0001</td>\n",
              "      <td>レギュラー</td>\n",
              "      <td>15</td>\n",
              "      <td>120</td>\n",
              "      <td>1800</td>\n",
              "    </tr>\n",
              "    <tr>\n",
              "      <th>2</th>\n",
              "      <td>TTT Inc.</td>\n",
              "      <td>6</td>\n",
              "      <td>012</td>\n",
              "      <td>2020/12/30</td>\n",
              "      <td>岸辺</td>\n",
              "      <td>2.0</td>\n",
              "      <td>2020-12-06 00:00:00</td>\n",
              "      <td>GSL0003</td>\n",
              "      <td>軽油</td>\n",
              "      <td>50</td>\n",
              "      <td>100</td>\n",
              "      <td>5000</td>\n",
              "    </tr>\n",
              "    <tr>\n",
              "      <th>3</th>\n",
              "      <td>TTT Inc.</td>\n",
              "      <td>6</td>\n",
              "      <td>012</td>\n",
              "      <td>2020/12/30</td>\n",
              "      <td>岸辺</td>\n",
              "      <td>2.0</td>\n",
              "      <td>2020-12-08 00:00:00</td>\n",
              "      <td>GSL0001</td>\n",
              "      <td>レギュラー</td>\n",
              "      <td>40</td>\n",
              "      <td>120</td>\n",
              "      <td>4800</td>\n",
              "    </tr>\n",
              "    <tr>\n",
              "      <th>4</th>\n",
              "      <td>TTT Inc.</td>\n",
              "      <td>6</td>\n",
              "      <td>012</td>\n",
              "      <td>2020/12/30</td>\n",
              "      <td>岸辺</td>\n",
              "      <td>2.0</td>\n",
              "      <td>2020-12-09 00:00:00</td>\n",
              "      <td>GSL0003</td>\n",
              "      <td>軽油</td>\n",
              "      <td>50</td>\n",
              "      <td>100</td>\n",
              "      <td>5000</td>\n",
              "    </tr>\n",
              "    <tr>\n",
              "      <th>5</th>\n",
              "      <td>TTT Inc.</td>\n",
              "      <td>6</td>\n",
              "      <td>012</td>\n",
              "      <td>2020/12/30</td>\n",
              "      <td>岸辺</td>\n",
              "      <td>2.0</td>\n",
              "      <td>2020-12-11 00:00:00</td>\n",
              "      <td>GSL0001</td>\n",
              "      <td>レギュラー</td>\n",
              "      <td>30</td>\n",
              "      <td>120</td>\n",
              "      <td>3600</td>\n",
              "    </tr>\n",
              "    <tr>\n",
              "      <th>6</th>\n",
              "      <td>TTT Inc.</td>\n",
              "      <td>6</td>\n",
              "      <td>012</td>\n",
              "      <td>2020/12/30</td>\n",
              "      <td>岸辺</td>\n",
              "      <td>2.0</td>\n",
              "      <td>2020-12-17 00:00:00</td>\n",
              "      <td>GSL0003</td>\n",
              "      <td>軽油</td>\n",
              "      <td>50</td>\n",
              "      <td>100</td>\n",
              "      <td>5000</td>\n",
              "    </tr>\n",
              "    <tr>\n",
              "      <th>7</th>\n",
              "      <td>TTT Inc.</td>\n",
              "      <td>6</td>\n",
              "      <td>012</td>\n",
              "      <td>2020/12/30</td>\n",
              "      <td>岸辺</td>\n",
              "      <td>2.0</td>\n",
              "      <td>2020-12-20 00:00:00</td>\n",
              "      <td>GSL0002</td>\n",
              "      <td>ハイオク</td>\n",
              "      <td>20</td>\n",
              "      <td>160</td>\n",
              "      <td>3200</td>\n",
              "    </tr>\n",
              "    <tr>\n",
              "      <th>8</th>\n",
              "      <td>TTT Inc.</td>\n",
              "      <td>6</td>\n",
              "      <td>012</td>\n",
              "      <td>2020/12/30</td>\n",
              "      <td>岸辺</td>\n",
              "      <td>2.0</td>\n",
              "      <td>2020-12-27 00:00:00</td>\n",
              "      <td>GSL0002</td>\n",
              "      <td>ハイオク</td>\n",
              "      <td>15</td>\n",
              "      <td>160</td>\n",
              "      <td>2400</td>\n",
              "    </tr>\n",
              "    <tr>\n",
              "      <th>9</th>\n",
              "      <td>TTT Inc.</td>\n",
              "      <td>6</td>\n",
              "      <td>012</td>\n",
              "      <td>2020/12/30</td>\n",
              "      <td>岸辺</td>\n",
              "      <td>2.0</td>\n",
              "      <td>2020-12-27 00:00:00</td>\n",
              "      <td>GSL0003</td>\n",
              "      <td>軽油</td>\n",
              "      <td>60</td>\n",
              "      <td>100</td>\n",
              "      <td>6000</td>\n",
              "    </tr>\n",
              "    <tr>\n",
              "      <th>10</th>\n",
              "      <td>TTT Inc.</td>\n",
              "      <td>6</td>\n",
              "      <td>012</td>\n",
              "      <td>2020/12/30</td>\n",
              "      <td>岸辺</td>\n",
              "      <td>2.0</td>\n",
              "      <td>2020-12-30 00:00:00</td>\n",
              "      <td>GSL0003</td>\n",
              "      <td>軽油</td>\n",
              "      <td>35</td>\n",
              "      <td>100</td>\n",
              "      <td>3500</td>\n",
              "    </tr>\n",
              "    <tr>\n",
              "      <th>11</th>\n",
              "      <td>TTT Inc.</td>\n",
              "      <td>6</td>\n",
              "      <td>012</td>\n",
              "      <td>2020/10/31</td>\n",
              "      <td>岸辺</td>\n",
              "      <td>2.0</td>\n",
              "      <td>2020-10-04 00:00:00</td>\n",
              "      <td>GSL0001</td>\n",
              "      <td>レギュラー</td>\n",
              "      <td>20</td>\n",
              "      <td>120</td>\n",
              "      <td>2400</td>\n",
              "    </tr>\n",
              "    <tr>\n",
              "      <th>12</th>\n",
              "      <td>TTT Inc.</td>\n",
              "      <td>6</td>\n",
              "      <td>012</td>\n",
              "      <td>2020/10/31</td>\n",
              "      <td>岸辺</td>\n",
              "      <td>2.0</td>\n",
              "      <td>2020-10-05 00:00:00</td>\n",
              "      <td>GSL0002</td>\n",
              "      <td>ハイオク</td>\n",
              "      <td>45</td>\n",
              "      <td>160</td>\n",
              "      <td>7200</td>\n",
              "    </tr>\n",
              "    <tr>\n",
              "      <th>13</th>\n",
              "      <td>TTT Inc.</td>\n",
              "      <td>6</td>\n",
              "      <td>012</td>\n",
              "      <td>2020/10/31</td>\n",
              "      <td>岸辺</td>\n",
              "      <td>2.0</td>\n",
              "      <td>2020-10-06 00:00:00</td>\n",
              "      <td>GSL0003</td>\n",
              "      <td>軽油</td>\n",
              "      <td>50</td>\n",
              "      <td>100</td>\n",
              "      <td>5000</td>\n",
              "    </tr>\n",
              "    <tr>\n",
              "      <th>14</th>\n",
              "      <td>TTT Inc.</td>\n",
              "      <td>6</td>\n",
              "      <td>012</td>\n",
              "      <td>2020/10/31</td>\n",
              "      <td>岸辺</td>\n",
              "      <td>2.0</td>\n",
              "      <td>2020-10-07 00:00:00</td>\n",
              "      <td>GDS0002</td>\n",
              "      <td>コロン</td>\n",
              "      <td>3</td>\n",
              "      <td>800</td>\n",
              "      <td>2400</td>\n",
              "    </tr>\n",
              "    <tr>\n",
              "      <th>15</th>\n",
              "      <td>TTT Inc.</td>\n",
              "      <td>6</td>\n",
              "      <td>012</td>\n",
              "      <td>2020/10/31</td>\n",
              "      <td>岸辺</td>\n",
              "      <td>2.0</td>\n",
              "      <td>2020-10-08 00:00:00</td>\n",
              "      <td>CMT0004</td>\n",
              "      <td>オイル交換</td>\n",
              "      <td>1</td>\n",
              "      <td>1000</td>\n",
              "      <td>1000</td>\n",
              "    </tr>\n",
              "    <tr>\n",
              "      <th>16</th>\n",
              "      <td>TTT Inc.</td>\n",
              "      <td>6</td>\n",
              "      <td>012</td>\n",
              "      <td>2020/10/31</td>\n",
              "      <td>岸辺</td>\n",
              "      <td>2.0</td>\n",
              "      <td>2020-10-09 00:00:00</td>\n",
              "      <td>CMT0002</td>\n",
              "      <td>洗車 B</td>\n",
              "      <td>1</td>\n",
              "      <td>1500</td>\n",
              "      <td>1500</td>\n",
              "    </tr>\n",
              "    <tr>\n",
              "      <th>17</th>\n",
              "      <td>TTT Inc.</td>\n",
              "      <td>6</td>\n",
              "      <td>012</td>\n",
              "      <td>2020/10/31</td>\n",
              "      <td>岸辺</td>\n",
              "      <td>2.0</td>\n",
              "      <td>2020-10-10 00:00:00</td>\n",
              "      <td>GSL0003</td>\n",
              "      <td>軽油</td>\n",
              "      <td>50</td>\n",
              "      <td>100</td>\n",
              "      <td>5000</td>\n",
              "    </tr>\n",
              "    <tr>\n",
              "      <th>18</th>\n",
              "      <td>TTT Inc.</td>\n",
              "      <td>6</td>\n",
              "      <td>012</td>\n",
              "      <td>2020/10/31</td>\n",
              "      <td>岸辺</td>\n",
              "      <td>2.0</td>\n",
              "      <td>2020-10-11 00:00:00</td>\n",
              "      <td>GSL0002</td>\n",
              "      <td>ハイオク</td>\n",
              "      <td>40</td>\n",
              "      <td>160</td>\n",
              "      <td>6400</td>\n",
              "    </tr>\n",
              "    <tr>\n",
              "      <th>19</th>\n",
              "      <td>TTT Inc.</td>\n",
              "      <td>6</td>\n",
              "      <td>012</td>\n",
              "      <td>2020/10/31</td>\n",
              "      <td>岸辺</td>\n",
              "      <td>2.0</td>\n",
              "      <td>2020-10-12 00:00:00</td>\n",
              "      <td>CMT0005</td>\n",
              "      <td>タイヤ交換</td>\n",
              "      <td>1</td>\n",
              "      <td>4000</td>\n",
              "      <td>4000</td>\n",
              "    </tr>\n",
              "    <tr>\n",
              "      <th>20</th>\n",
              "      <td>TTT Inc.</td>\n",
              "      <td>6</td>\n",
              "      <td>012</td>\n",
              "      <td>2020/10/31</td>\n",
              "      <td>岸辺</td>\n",
              "      <td>2.0</td>\n",
              "      <td>2020-10-13 00:00:00</td>\n",
              "      <td>GSL0003</td>\n",
              "      <td>軽油</td>\n",
              "      <td>50</td>\n",
              "      <td>100</td>\n",
              "      <td>5000</td>\n",
              "    </tr>\n",
              "    <tr>\n",
              "      <th>21</th>\n",
              "      <td>TTT Inc.</td>\n",
              "      <td>6</td>\n",
              "      <td>012</td>\n",
              "      <td>2020/10/31</td>\n",
              "      <td>岸辺</td>\n",
              "      <td>2.0</td>\n",
              "      <td>2020-10-14 00:00:00</td>\n",
              "      <td>GSL0003</td>\n",
              "      <td>軽油</td>\n",
              "      <td>50</td>\n",
              "      <td>100</td>\n",
              "      <td>5000</td>\n",
              "    </tr>\n",
              "    <tr>\n",
              "      <th>22</th>\n",
              "      <td>ICHIGO</td>\n",
              "      <td>6</td>\n",
              "      <td>012</td>\n",
              "      <td>2020/11/30</td>\n",
              "      <td>岸辺</td>\n",
              "      <td>2.0</td>\n",
              "      <td>2020-11-12 00:00:00</td>\n",
              "      <td>GSL0001</td>\n",
              "      <td>レギュラー</td>\n",
              "      <td>20</td>\n",
              "      <td>120</td>\n",
              "      <td>2400</td>\n",
              "    </tr>\n",
              "    <tr>\n",
              "      <th>23</th>\n",
              "      <td>ICHIGO</td>\n",
              "      <td>6</td>\n",
              "      <td>012</td>\n",
              "      <td>2020/11/30</td>\n",
              "      <td>岸辺</td>\n",
              "      <td>2.0</td>\n",
              "      <td>2020-11-12 00:00:00</td>\n",
              "      <td>GSL0002</td>\n",
              "      <td>ハイオク</td>\n",
              "      <td>45</td>\n",
              "      <td>160</td>\n",
              "      <td>7200</td>\n",
              "    </tr>\n",
              "    <tr>\n",
              "      <th>24</th>\n",
              "      <td>ICHIGO</td>\n",
              "      <td>6</td>\n",
              "      <td>012</td>\n",
              "      <td>2020/11/30</td>\n",
              "      <td>岸辺</td>\n",
              "      <td>2.0</td>\n",
              "      <td>2020-11-15 00:00:00</td>\n",
              "      <td>GSL0003</td>\n",
              "      <td>軽油</td>\n",
              "      <td>50</td>\n",
              "      <td>100</td>\n",
              "      <td>5000</td>\n",
              "    </tr>\n",
              "    <tr>\n",
              "      <th>25</th>\n",
              "      <td>ICHIGO</td>\n",
              "      <td>6</td>\n",
              "      <td>012</td>\n",
              "      <td>2020/11/30</td>\n",
              "      <td>岸辺</td>\n",
              "      <td>2.0</td>\n",
              "      <td>2020-11-15 00:00:00</td>\n",
              "      <td>GDS0002</td>\n",
              "      <td>コロン</td>\n",
              "      <td>3</td>\n",
              "      <td>800</td>\n",
              "      <td>2400</td>\n",
              "    </tr>\n",
              "    <tr>\n",
              "      <th>26</th>\n",
              "      <td>ICHIGO</td>\n",
              "      <td>6</td>\n",
              "      <td>012</td>\n",
              "      <td>2020/11/30</td>\n",
              "      <td>岸辺</td>\n",
              "      <td>2.0</td>\n",
              "      <td>2020-11-20 00:00:00</td>\n",
              "      <td>CMT0004</td>\n",
              "      <td>オイル交換</td>\n",
              "      <td>1</td>\n",
              "      <td>1000</td>\n",
              "      <td>1000</td>\n",
              "    </tr>\n",
              "    <tr>\n",
              "      <th>27</th>\n",
              "      <td>ICHIGO</td>\n",
              "      <td>6</td>\n",
              "      <td>012</td>\n",
              "      <td>2020/11/30</td>\n",
              "      <td>岸辺</td>\n",
              "      <td>2.0</td>\n",
              "      <td>2020-11-20 00:00:00</td>\n",
              "      <td>CMT0002</td>\n",
              "      <td>洗車 B</td>\n",
              "      <td>1</td>\n",
              "      <td>1500</td>\n",
              "      <td>1500</td>\n",
              "    </tr>\n",
              "    <tr>\n",
              "      <th>28</th>\n",
              "      <td>ICHIGO</td>\n",
              "      <td>6</td>\n",
              "      <td>012</td>\n",
              "      <td>2020/11/30</td>\n",
              "      <td>岸辺</td>\n",
              "      <td>2.0</td>\n",
              "      <td>2020-11-22 00:00:00</td>\n",
              "      <td>GSL0003</td>\n",
              "      <td>軽油</td>\n",
              "      <td>50</td>\n",
              "      <td>100</td>\n",
              "      <td>5000</td>\n",
              "    </tr>\n",
              "    <tr>\n",
              "      <th>29</th>\n",
              "      <td>ICHIGO</td>\n",
              "      <td>6</td>\n",
              "      <td>012</td>\n",
              "      <td>2020/11/30</td>\n",
              "      <td>岸辺</td>\n",
              "      <td>2.0</td>\n",
              "      <td>2020-11-22 00:00:00</td>\n",
              "      <td>GSL0002</td>\n",
              "      <td>ハイオク</td>\n",
              "      <td>40</td>\n",
              "      <td>160</td>\n",
              "      <td>6400</td>\n",
              "    </tr>\n",
              "  </tbody>\n",
              "</table>\n",
              "</div>"
            ],
            "text/plain": [
              "10       企業名  企業コード 請求書No         発行日  ...     品名  数量[L] or [-] 単価[¥/L] or [¥]    金額\n",
              "0   TTT Inc.      6   012  2020/12/30  ...  レギュラー            35            120  4200\n",
              "1   TTT Inc.      6   012  2020/12/30  ...  レギュラー            15            120  1800\n",
              "2   TTT Inc.      6   012  2020/12/30  ...     軽油            50            100  5000\n",
              "3   TTT Inc.      6   012  2020/12/30  ...  レギュラー            40            120  4800\n",
              "4   TTT Inc.      6   012  2020/12/30  ...     軽油            50            100  5000\n",
              "5   TTT Inc.      6   012  2020/12/30  ...  レギュラー            30            120  3600\n",
              "6   TTT Inc.      6   012  2020/12/30  ...     軽油            50            100  5000\n",
              "7   TTT Inc.      6   012  2020/12/30  ...   ハイオク            20            160  3200\n",
              "8   TTT Inc.      6   012  2020/12/30  ...   ハイオク            15            160  2400\n",
              "9   TTT Inc.      6   012  2020/12/30  ...     軽油            60            100  6000\n",
              "10  TTT Inc.      6   012  2020/12/30  ...     軽油            35            100  3500\n",
              "11  TTT Inc.      6   012  2020/10/31  ...  レギュラー            20            120  2400\n",
              "12  TTT Inc.      6   012  2020/10/31  ...   ハイオク            45            160  7200\n",
              "13  TTT Inc.      6   012  2020/10/31  ...     軽油            50            100  5000\n",
              "14  TTT Inc.      6   012  2020/10/31  ...    コロン             3            800  2400\n",
              "15  TTT Inc.      6   012  2020/10/31  ...  オイル交換             1           1000  1000\n",
              "16  TTT Inc.      6   012  2020/10/31  ...   洗車 B             1           1500  1500\n",
              "17  TTT Inc.      6   012  2020/10/31  ...     軽油            50            100  5000\n",
              "18  TTT Inc.      6   012  2020/10/31  ...   ハイオク            40            160  6400\n",
              "19  TTT Inc.      6   012  2020/10/31  ...  タイヤ交換             1           4000  4000\n",
              "20  TTT Inc.      6   012  2020/10/31  ...     軽油            50            100  5000\n",
              "21  TTT Inc.      6   012  2020/10/31  ...     軽油            50            100  5000\n",
              "22    ICHIGO      6   012  2020/11/30  ...  レギュラー            20            120  2400\n",
              "23    ICHIGO      6   012  2020/11/30  ...   ハイオク            45            160  7200\n",
              "24    ICHIGO      6   012  2020/11/30  ...     軽油            50            100  5000\n",
              "25    ICHIGO      6   012  2020/11/30  ...    コロン             3            800  2400\n",
              "26    ICHIGO      6   012  2020/11/30  ...  オイル交換             1           1000  1000\n",
              "27    ICHIGO      6   012  2020/11/30  ...   洗車 B             1           1500  1500\n",
              "28    ICHIGO      6   012  2020/11/30  ...     軽油            50            100  5000\n",
              "29    ICHIGO      6   012  2020/11/30  ...   ハイオク            40            160  6400\n",
              "\n",
              "[30 rows x 12 columns]"
            ]
          },
          "metadata": {},
          "execution_count": 70
        }
      ]
    },
    {
      "cell_type": "code",
      "metadata": {
        "colab": {
          "base_uri": "https://localhost:8080/"
        },
        "id": "P1ffEwKhi53A",
        "outputId": "1007e3eb-0fd2-45e2-d829-6f0242566962"
      },
      "source": [
        "_df['金額'].sum()"
      ],
      "execution_count": 71,
      "outputs": [
        {
          "output_type": "execute_result",
          "data": {
            "text/plain": [
              "120300"
            ]
          },
          "metadata": {},
          "execution_count": 71
        }
      ]
    },
    {
      "cell_type": "code",
      "metadata": {
        "colab": {
          "base_uri": "https://localhost:8080/"
        },
        "id": "VWerIc9li50a",
        "outputId": "6630ea48-7ad0-40dd-f8ec-b805b1a015ff"
      },
      "source": [
        "companies = _df['企業名'].unique()\n",
        "companies"
      ],
      "execution_count": 72,
      "outputs": [
        {
          "output_type": "execute_result",
          "data": {
            "text/plain": [
              "array(['TTT Inc.', 'ICHIGO'], dtype=object)"
            ]
          },
          "metadata": {},
          "execution_count": 72
        }
      ]
    },
    {
      "cell_type": "code",
      "metadata": {
        "colab": {
          "base_uri": "https://localhost:8080/"
        },
        "id": "Yf3FHqgGi5xx",
        "outputId": "6727e776-2851-4915-e0c4-5100d9911b68"
      },
      "source": [
        "_df[_df['企業名'] == companies[0]]['金額'].sum()"
      ],
      "execution_count": 73,
      "outputs": [
        {
          "output_type": "execute_result",
          "data": {
            "text/plain": [
              "89400"
            ]
          },
          "metadata": {},
          "execution_count": 73
        }
      ]
    },
    {
      "cell_type": "code",
      "metadata": {
        "colab": {
          "base_uri": "https://localhost:8080/"
        },
        "id": "uy19WkkQi5kK",
        "outputId": "0c734fbf-8671-4118-e6db-58b44bd836db"
      },
      "source": [
        "tot_earnings =_df['金額'].sum()\n",
        "tot_earnings"
      ],
      "execution_count": 74,
      "outputs": [
        {
          "output_type": "execute_result",
          "data": {
            "text/plain": [
              "120300"
            ]
          },
          "metadata": {},
          "execution_count": 74
        }
      ]
    },
    {
      "cell_type": "code",
      "metadata": {
        "colab": {
          "base_uri": "https://localhost:8080/",
          "height": 80
        },
        "id": "UjHNb2vii5h4",
        "outputId": "23eef2d7-9510-43ab-a18d-fdc1d946e006"
      },
      "source": [
        "pd.DataFrame({'担当者': member, '企業名': '全体', '金額':tot_earnings}, index=[0])"
      ],
      "execution_count": 75,
      "outputs": [
        {
          "output_type": "execute_result",
          "data": {
            "text/html": [
              "<div>\n",
              "<style scoped>\n",
              "    .dataframe tbody tr th:only-of-type {\n",
              "        vertical-align: middle;\n",
              "    }\n",
              "\n",
              "    .dataframe tbody tr th {\n",
              "        vertical-align: top;\n",
              "    }\n",
              "\n",
              "    .dataframe thead th {\n",
              "        text-align: right;\n",
              "    }\n",
              "</style>\n",
              "<table border=\"1\" class=\"dataframe\">\n",
              "  <thead>\n",
              "    <tr style=\"text-align: right;\">\n",
              "      <th></th>\n",
              "      <th>担当者</th>\n",
              "      <th>企業名</th>\n",
              "      <th>金額</th>\n",
              "    </tr>\n",
              "  </thead>\n",
              "  <tbody>\n",
              "    <tr>\n",
              "      <th>0</th>\n",
              "      <td>岸辺</td>\n",
              "      <td>全体</td>\n",
              "      <td>120300</td>\n",
              "    </tr>\n",
              "  </tbody>\n",
              "</table>\n",
              "</div>"
            ],
            "text/plain": [
              "  担当者 企業名      金額\n",
              "0  岸辺  全体  120300"
            ]
          },
          "metadata": {},
          "execution_count": 75
        }
      ]
    },
    {
      "cell_type": "code",
      "metadata": {
        "colab": {
          "base_uri": "https://localhost:8080/",
          "height": 35
        },
        "id": "Vdr71-RVi5fm",
        "outputId": "dd552550-8500-430c-80b5-43d503d66337"
      },
      "source": [
        "company = companies[0]\n",
        "company"
      ],
      "execution_count": 76,
      "outputs": [
        {
          "output_type": "execute_result",
          "data": {
            "application/vnd.google.colaboratory.intrinsic+json": {
              "type": "string"
            },
            "text/plain": [
              "'TTT Inc.'"
            ]
          },
          "metadata": {},
          "execution_count": 76
        }
      ]
    },
    {
      "cell_type": "code",
      "metadata": {
        "colab": {
          "base_uri": "https://localhost:8080/"
        },
        "id": "A620Wzsqi5da",
        "outputId": "317d86af-15dc-4598-95a3-56ba47deec0f"
      },
      "source": [
        "earnings = _df[_df['企業名'] == company]['金額'].sum()\n",
        "earnings"
      ],
      "execution_count": 77,
      "outputs": [
        {
          "output_type": "execute_result",
          "data": {
            "text/plain": [
              "89400"
            ]
          },
          "metadata": {},
          "execution_count": 77
        }
      ]
    },
    {
      "cell_type": "code",
      "metadata": {
        "colab": {
          "base_uri": "https://localhost:8080/",
          "height": 80
        },
        "id": "twbKQ1Qwi5bT",
        "outputId": "1a2024c6-7a11-469a-8273-b4a741b75470"
      },
      "source": [
        "pd.DataFrame({'企業名': company, '金額':earnings}, index=[1])"
      ],
      "execution_count": 78,
      "outputs": [
        {
          "output_type": "execute_result",
          "data": {
            "text/html": [
              "<div>\n",
              "<style scoped>\n",
              "    .dataframe tbody tr th:only-of-type {\n",
              "        vertical-align: middle;\n",
              "    }\n",
              "\n",
              "    .dataframe tbody tr th {\n",
              "        vertical-align: top;\n",
              "    }\n",
              "\n",
              "    .dataframe thead th {\n",
              "        text-align: right;\n",
              "    }\n",
              "</style>\n",
              "<table border=\"1\" class=\"dataframe\">\n",
              "  <thead>\n",
              "    <tr style=\"text-align: right;\">\n",
              "      <th></th>\n",
              "      <th>企業名</th>\n",
              "      <th>金額</th>\n",
              "    </tr>\n",
              "  </thead>\n",
              "  <tbody>\n",
              "    <tr>\n",
              "      <th>1</th>\n",
              "      <td>TTT Inc.</td>\n",
              "      <td>89400</td>\n",
              "    </tr>\n",
              "  </tbody>\n",
              "</table>\n",
              "</div>"
            ],
            "text/plain": [
              "        企業名     金額\n",
              "1  TTT Inc.  89400"
            ]
          },
          "metadata": {},
          "execution_count": 78
        }
      ]
    },
    {
      "cell_type": "code",
      "metadata": {
        "colab": {
          "base_uri": "https://localhost:8080/"
        },
        "id": "v4exLyVCi5Y6",
        "outputId": "35ceab73-bf2c-4fa2-bf03-2b5fe116a415"
      },
      "source": [
        "dict(担当者=member, 企業名='全体', 金額=tot_earnings)"
      ],
      "execution_count": 79,
      "outputs": [
        {
          "output_type": "execute_result",
          "data": {
            "text/plain": [
              "{'企業名': '全体', '担当者': '岸辺', '金額': 120300}"
            ]
          },
          "metadata": {},
          "execution_count": 79
        }
      ]
    },
    {
      "cell_type": "code",
      "metadata": {
        "colab": {
          "base_uri": "https://localhost:8080/"
        },
        "id": "SIH2AYbTi5W0",
        "outputId": "13dcf9e6-cbd5-4cf3-dfd7-cc9a77cbf67e"
      },
      "source": [
        "dict(企業名=company, 金額=earnings)"
      ],
      "execution_count": 80,
      "outputs": [
        {
          "output_type": "execute_result",
          "data": {
            "text/plain": [
              "{'企業名': 'TTT Inc.', '金額': 89400}"
            ]
          },
          "metadata": {},
          "execution_count": 80
        }
      ]
    },
    {
      "cell_type": "code",
      "metadata": {
        "id": "T2xSqrGfi5Uc"
      },
      "source": [
        "total_res = []\n",
        "for member in members:\n",
        "    _df = df[df['発行者'] == member]\n",
        "    companies = _df['企業名'].unique()\n",
        "\n",
        "    tot_earnings =_df['金額'].sum()\n",
        "    total_res.append(dict(担当者=member, 企業名='全体', 金額=tot_earnings))\n",
        "    for company in companies:\n",
        "        earnings =_df[_df['企業名'] == company]['金額'].sum()\n",
        "        total_res.append(dict(企業名=company, 金額=earnings))\n",
        "\n",
        "\n"
      ],
      "execution_count": 81,
      "outputs": []
    },
    {
      "cell_type": "code",
      "metadata": {
        "colab": {
          "base_uri": "https://localhost:8080/"
        },
        "id": "f5rL9UNti5SO",
        "outputId": "6c957f5c-a8e8-44e3-ff2d-18381418a029"
      },
      "source": [
        "total_res"
      ],
      "execution_count": 82,
      "outputs": [
        {
          "output_type": "execute_result",
          "data": {
            "text/plain": [
              "[{'企業名': '全体', '担当者': '岸辺', '金額': 120300},\n",
              " {'企業名': 'TTT Inc.', '金額': 89400},\n",
              " {'企業名': 'ICHIGO', '金額': 30900},\n",
              " {'企業名': '全体', '担当者': '桜田', '金額': 154400},\n",
              " {'企業名': '株式会社ABC', '金額': 60100},\n",
              " {'企業名': 'STR Corp.', '金額': 55300},\n",
              " {'企業名': 'CDF商事', '金額': 39000},\n",
              " {'企業名': '全体', '担当者': '山岡', '金額': 35800},\n",
              " {'企業名': 'XYZ株式会社', '金額': 35800}]"
            ]
          },
          "metadata": {},
          "execution_count": 82
        }
      ]
    },
    {
      "cell_type": "code",
      "metadata": {
        "colab": {
          "base_uri": "https://localhost:8080/",
          "height": 326
        },
        "id": "rK0zBGI9i5QC",
        "outputId": "e3a6a039-f562-4dfc-a7ad-7a880adf149f"
      },
      "source": [
        "pd.DataFrame(total_res, columns={'担当者', '企業名', '金額'})"
      ],
      "execution_count": 83,
      "outputs": [
        {
          "output_type": "execute_result",
          "data": {
            "text/html": [
              "<div>\n",
              "<style scoped>\n",
              "    .dataframe tbody tr th:only-of-type {\n",
              "        vertical-align: middle;\n",
              "    }\n",
              "\n",
              "    .dataframe tbody tr th {\n",
              "        vertical-align: top;\n",
              "    }\n",
              "\n",
              "    .dataframe thead th {\n",
              "        text-align: right;\n",
              "    }\n",
              "</style>\n",
              "<table border=\"1\" class=\"dataframe\">\n",
              "  <thead>\n",
              "    <tr style=\"text-align: right;\">\n",
              "      <th></th>\n",
              "      <th>担当者</th>\n",
              "      <th>企業名</th>\n",
              "      <th>金額</th>\n",
              "    </tr>\n",
              "  </thead>\n",
              "  <tbody>\n",
              "    <tr>\n",
              "      <th>0</th>\n",
              "      <td>岸辺</td>\n",
              "      <td>全体</td>\n",
              "      <td>120300</td>\n",
              "    </tr>\n",
              "    <tr>\n",
              "      <th>1</th>\n",
              "      <td>NaN</td>\n",
              "      <td>TTT Inc.</td>\n",
              "      <td>89400</td>\n",
              "    </tr>\n",
              "    <tr>\n",
              "      <th>2</th>\n",
              "      <td>NaN</td>\n",
              "      <td>ICHIGO</td>\n",
              "      <td>30900</td>\n",
              "    </tr>\n",
              "    <tr>\n",
              "      <th>3</th>\n",
              "      <td>桜田</td>\n",
              "      <td>全体</td>\n",
              "      <td>154400</td>\n",
              "    </tr>\n",
              "    <tr>\n",
              "      <th>4</th>\n",
              "      <td>NaN</td>\n",
              "      <td>株式会社ABC</td>\n",
              "      <td>60100</td>\n",
              "    </tr>\n",
              "    <tr>\n",
              "      <th>5</th>\n",
              "      <td>NaN</td>\n",
              "      <td>STR Corp.</td>\n",
              "      <td>55300</td>\n",
              "    </tr>\n",
              "    <tr>\n",
              "      <th>6</th>\n",
              "      <td>NaN</td>\n",
              "      <td>CDF商事</td>\n",
              "      <td>39000</td>\n",
              "    </tr>\n",
              "    <tr>\n",
              "      <th>7</th>\n",
              "      <td>山岡</td>\n",
              "      <td>全体</td>\n",
              "      <td>35800</td>\n",
              "    </tr>\n",
              "    <tr>\n",
              "      <th>8</th>\n",
              "      <td>NaN</td>\n",
              "      <td>XYZ株式会社</td>\n",
              "      <td>35800</td>\n",
              "    </tr>\n",
              "  </tbody>\n",
              "</table>\n",
              "</div>"
            ],
            "text/plain": [
              "   担当者        企業名      金額\n",
              "0   岸辺         全体  120300\n",
              "1  NaN   TTT Inc.   89400\n",
              "2  NaN     ICHIGO   30900\n",
              "3   桜田         全体  154400\n",
              "4  NaN    株式会社ABC   60100\n",
              "5  NaN  STR Corp.   55300\n",
              "6  NaN      CDF商事   39000\n",
              "7   山岡         全体   35800\n",
              "8  NaN    XYZ株式会社   35800"
            ]
          },
          "metadata": {},
          "execution_count": 83
        }
      ]
    },
    {
      "cell_type": "markdown",
      "metadata": {
        "id": "m4cWdrBlF88M"
      },
      "source": [
        "Vlook"
      ]
    },
    {
      "cell_type": "code",
      "metadata": {
        "id": "h5LNR5SJi5Km",
        "colab": {
          "base_uri": "https://localhost:8080/",
          "height": 418
        },
        "outputId": "375dd4f8-2ac4-4d09-aac7-159847b2639c"
      },
      "source": [
        "df_master = pd.read_excel('商品情報マスタ.xlsx')\n",
        "df_master"
      ],
      "execution_count": 84,
      "outputs": [
        {
          "output_type": "execute_result",
          "data": {
            "text/html": [
              "<div>\n",
              "<style scoped>\n",
              "    .dataframe tbody tr th:only-of-type {\n",
              "        vertical-align: middle;\n",
              "    }\n",
              "\n",
              "    .dataframe tbody tr th {\n",
              "        vertical-align: top;\n",
              "    }\n",
              "\n",
              "    .dataframe thead th {\n",
              "        text-align: right;\n",
              "    }\n",
              "</style>\n",
              "<table border=\"1\" class=\"dataframe\">\n",
              "  <thead>\n",
              "    <tr style=\"text-align: right;\">\n",
              "      <th></th>\n",
              "      <th>商品コード</th>\n",
              "      <th>品名</th>\n",
              "      <th>単価[¥/L] or [¥]</th>\n",
              "    </tr>\n",
              "  </thead>\n",
              "  <tbody>\n",
              "    <tr>\n",
              "      <th>0</th>\n",
              "      <td>GSL0001</td>\n",
              "      <td>レギュラー</td>\n",
              "      <td>120</td>\n",
              "    </tr>\n",
              "    <tr>\n",
              "      <th>1</th>\n",
              "      <td>GSL0002</td>\n",
              "      <td>ハイオク</td>\n",
              "      <td>160</td>\n",
              "    </tr>\n",
              "    <tr>\n",
              "      <th>2</th>\n",
              "      <td>GSL0003</td>\n",
              "      <td>軽油</td>\n",
              "      <td>100</td>\n",
              "    </tr>\n",
              "    <tr>\n",
              "      <th>3</th>\n",
              "      <td>GSL0004</td>\n",
              "      <td>灯油</td>\n",
              "      <td>80</td>\n",
              "    </tr>\n",
              "    <tr>\n",
              "      <th>4</th>\n",
              "      <td>CMT0001</td>\n",
              "      <td>洗車 A</td>\n",
              "      <td>500</td>\n",
              "    </tr>\n",
              "    <tr>\n",
              "      <th>5</th>\n",
              "      <td>CMT0002</td>\n",
              "      <td>洗車 B</td>\n",
              "      <td>1500</td>\n",
              "    </tr>\n",
              "    <tr>\n",
              "      <th>6</th>\n",
              "      <td>CMT0003</td>\n",
              "      <td>洗車 C</td>\n",
              "      <td>3000</td>\n",
              "    </tr>\n",
              "    <tr>\n",
              "      <th>7</th>\n",
              "      <td>CMT0004</td>\n",
              "      <td>オイル交換</td>\n",
              "      <td>1000</td>\n",
              "    </tr>\n",
              "    <tr>\n",
              "      <th>8</th>\n",
              "      <td>CMT0005</td>\n",
              "      <td>タイヤ交換</td>\n",
              "      <td>4000</td>\n",
              "    </tr>\n",
              "    <tr>\n",
              "      <th>9</th>\n",
              "      <td>GDS0001</td>\n",
              "      <td>タイヤ</td>\n",
              "      <td>8000</td>\n",
              "    </tr>\n",
              "    <tr>\n",
              "      <th>10</th>\n",
              "      <td>GDS0002</td>\n",
              "      <td>コロン</td>\n",
              "      <td>800</td>\n",
              "    </tr>\n",
              "    <tr>\n",
              "      <th>11</th>\n",
              "      <td>GDS0003</td>\n",
              "      <td>スナック</td>\n",
              "      <td>100</td>\n",
              "    </tr>\n",
              "  </tbody>\n",
              "</table>\n",
              "</div>"
            ],
            "text/plain": [
              "      商品コード     品名  単価[¥/L] or [¥]\n",
              "0   GSL0001  レギュラー             120\n",
              "1   GSL0002   ハイオク             160\n",
              "2   GSL0003     軽油             100\n",
              "3   GSL0004     灯油              80\n",
              "4   CMT0001   洗車 A             500\n",
              "5   CMT0002   洗車 B            1500\n",
              "6   CMT0003   洗車 C            3000\n",
              "7   CMT0004  オイル交換            1000\n",
              "8   CMT0005  タイヤ交換            4000\n",
              "9   GDS0001    タイヤ            8000\n",
              "10  GDS0002    コロン             800\n",
              "11  GDS0003   スナック             100"
            ]
          },
          "metadata": {},
          "execution_count": 84
        }
      ]
    },
    {
      "cell_type": "code",
      "metadata": {
        "colab": {
          "base_uri": "https://localhost:8080/",
          "height": 388
        },
        "id": "hawBUqgrFjgJ",
        "outputId": "9e9d3cf2-8db4-430f-cfb5-a047ef00be6a"
      },
      "source": [
        "df_order = pd.read_excel('注文表.xlsx')\n",
        "df_order"
      ],
      "execution_count": 85,
      "outputs": [
        {
          "output_type": "execute_result",
          "data": {
            "text/html": [
              "<div>\n",
              "<style scoped>\n",
              "    .dataframe tbody tr th:only-of-type {\n",
              "        vertical-align: middle;\n",
              "    }\n",
              "\n",
              "    .dataframe tbody tr th {\n",
              "        vertical-align: top;\n",
              "    }\n",
              "\n",
              "    .dataframe thead th {\n",
              "        text-align: right;\n",
              "    }\n",
              "</style>\n",
              "<table border=\"1\" class=\"dataframe\">\n",
              "  <thead>\n",
              "    <tr style=\"text-align: right;\">\n",
              "      <th></th>\n",
              "      <th>日付</th>\n",
              "      <th>商品コード</th>\n",
              "      <th>数量</th>\n",
              "    </tr>\n",
              "  </thead>\n",
              "  <tbody>\n",
              "    <tr>\n",
              "      <th>0</th>\n",
              "      <td>2020-12-01</td>\n",
              "      <td>GSL0001</td>\n",
              "      <td>40</td>\n",
              "    </tr>\n",
              "    <tr>\n",
              "      <th>1</th>\n",
              "      <td>2020-12-02</td>\n",
              "      <td>GSL0002</td>\n",
              "      <td>50</td>\n",
              "    </tr>\n",
              "    <tr>\n",
              "      <th>2</th>\n",
              "      <td>2020-12-03</td>\n",
              "      <td>GSL0001</td>\n",
              "      <td>35</td>\n",
              "    </tr>\n",
              "    <tr>\n",
              "      <th>3</th>\n",
              "      <td>2020-12-15</td>\n",
              "      <td>GSL0004</td>\n",
              "      <td>60</td>\n",
              "    </tr>\n",
              "    <tr>\n",
              "      <th>4</th>\n",
              "      <td>2020-12-15</td>\n",
              "      <td>CMT0003</td>\n",
              "      <td>2</td>\n",
              "    </tr>\n",
              "    <tr>\n",
              "      <th>5</th>\n",
              "      <td>2020-12-18</td>\n",
              "      <td>GSL0004</td>\n",
              "      <td>15</td>\n",
              "    </tr>\n",
              "    <tr>\n",
              "      <th>6</th>\n",
              "      <td>2020-12-21</td>\n",
              "      <td>CMT0003</td>\n",
              "      <td>4</td>\n",
              "    </tr>\n",
              "    <tr>\n",
              "      <th>7</th>\n",
              "      <td>2020-12-22</td>\n",
              "      <td>GSL0004</td>\n",
              "      <td>22</td>\n",
              "    </tr>\n",
              "    <tr>\n",
              "      <th>8</th>\n",
              "      <td>2020-12-22</td>\n",
              "      <td>CMT0005</td>\n",
              "      <td>3</td>\n",
              "    </tr>\n",
              "    <tr>\n",
              "      <th>9</th>\n",
              "      <td>2020-12-25</td>\n",
              "      <td>GSL0004</td>\n",
              "      <td>32</td>\n",
              "    </tr>\n",
              "    <tr>\n",
              "      <th>10</th>\n",
              "      <td>2020-12-28</td>\n",
              "      <td>CMT0004</td>\n",
              "      <td>4</td>\n",
              "    </tr>\n",
              "  </tbody>\n",
              "</table>\n",
              "</div>"
            ],
            "text/plain": [
              "           日付    商品コード  数量\n",
              "0  2020-12-01  GSL0001  40\n",
              "1  2020-12-02  GSL0002  50\n",
              "2  2020-12-03  GSL0001  35\n",
              "3  2020-12-15  GSL0004  60\n",
              "4  2020-12-15  CMT0003   2\n",
              "5  2020-12-18  GSL0004  15\n",
              "6  2020-12-21  CMT0003   4\n",
              "7  2020-12-22  GSL0004  22\n",
              "8  2020-12-22  CMT0005   3\n",
              "9  2020-12-25  GSL0004  32\n",
              "10 2020-12-28  CMT0004   4"
            ]
          },
          "metadata": {},
          "execution_count": 85
        }
      ]
    },
    {
      "cell_type": "code",
      "metadata": {
        "colab": {
          "base_uri": "https://localhost:8080/",
          "height": 388
        },
        "id": "OT48cus1Fjdi",
        "outputId": "7384d734-6df4-4a4c-c550-6627d0243f2d"
      },
      "source": [
        "df_merged = pd.merge(df_order, df_master, how='inner')\n",
        "df_merged"
      ],
      "execution_count": 86,
      "outputs": [
        {
          "output_type": "execute_result",
          "data": {
            "text/html": [
              "<div>\n",
              "<style scoped>\n",
              "    .dataframe tbody tr th:only-of-type {\n",
              "        vertical-align: middle;\n",
              "    }\n",
              "\n",
              "    .dataframe tbody tr th {\n",
              "        vertical-align: top;\n",
              "    }\n",
              "\n",
              "    .dataframe thead th {\n",
              "        text-align: right;\n",
              "    }\n",
              "</style>\n",
              "<table border=\"1\" class=\"dataframe\">\n",
              "  <thead>\n",
              "    <tr style=\"text-align: right;\">\n",
              "      <th></th>\n",
              "      <th>日付</th>\n",
              "      <th>商品コード</th>\n",
              "      <th>数量</th>\n",
              "      <th>品名</th>\n",
              "      <th>単価[¥/L] or [¥]</th>\n",
              "    </tr>\n",
              "  </thead>\n",
              "  <tbody>\n",
              "    <tr>\n",
              "      <th>0</th>\n",
              "      <td>2020-12-01</td>\n",
              "      <td>GSL0001</td>\n",
              "      <td>40</td>\n",
              "      <td>レギュラー</td>\n",
              "      <td>120</td>\n",
              "    </tr>\n",
              "    <tr>\n",
              "      <th>1</th>\n",
              "      <td>2020-12-03</td>\n",
              "      <td>GSL0001</td>\n",
              "      <td>35</td>\n",
              "      <td>レギュラー</td>\n",
              "      <td>120</td>\n",
              "    </tr>\n",
              "    <tr>\n",
              "      <th>2</th>\n",
              "      <td>2020-12-02</td>\n",
              "      <td>GSL0002</td>\n",
              "      <td>50</td>\n",
              "      <td>ハイオク</td>\n",
              "      <td>160</td>\n",
              "    </tr>\n",
              "    <tr>\n",
              "      <th>3</th>\n",
              "      <td>2020-12-15</td>\n",
              "      <td>GSL0004</td>\n",
              "      <td>60</td>\n",
              "      <td>灯油</td>\n",
              "      <td>80</td>\n",
              "    </tr>\n",
              "    <tr>\n",
              "      <th>4</th>\n",
              "      <td>2020-12-18</td>\n",
              "      <td>GSL0004</td>\n",
              "      <td>15</td>\n",
              "      <td>灯油</td>\n",
              "      <td>80</td>\n",
              "    </tr>\n",
              "    <tr>\n",
              "      <th>5</th>\n",
              "      <td>2020-12-22</td>\n",
              "      <td>GSL0004</td>\n",
              "      <td>22</td>\n",
              "      <td>灯油</td>\n",
              "      <td>80</td>\n",
              "    </tr>\n",
              "    <tr>\n",
              "      <th>6</th>\n",
              "      <td>2020-12-25</td>\n",
              "      <td>GSL0004</td>\n",
              "      <td>32</td>\n",
              "      <td>灯油</td>\n",
              "      <td>80</td>\n",
              "    </tr>\n",
              "    <tr>\n",
              "      <th>7</th>\n",
              "      <td>2020-12-15</td>\n",
              "      <td>CMT0003</td>\n",
              "      <td>2</td>\n",
              "      <td>洗車 C</td>\n",
              "      <td>3000</td>\n",
              "    </tr>\n",
              "    <tr>\n",
              "      <th>8</th>\n",
              "      <td>2020-12-21</td>\n",
              "      <td>CMT0003</td>\n",
              "      <td>4</td>\n",
              "      <td>洗車 C</td>\n",
              "      <td>3000</td>\n",
              "    </tr>\n",
              "    <tr>\n",
              "      <th>9</th>\n",
              "      <td>2020-12-22</td>\n",
              "      <td>CMT0005</td>\n",
              "      <td>3</td>\n",
              "      <td>タイヤ交換</td>\n",
              "      <td>4000</td>\n",
              "    </tr>\n",
              "    <tr>\n",
              "      <th>10</th>\n",
              "      <td>2020-12-28</td>\n",
              "      <td>CMT0004</td>\n",
              "      <td>4</td>\n",
              "      <td>オイル交換</td>\n",
              "      <td>1000</td>\n",
              "    </tr>\n",
              "  </tbody>\n",
              "</table>\n",
              "</div>"
            ],
            "text/plain": [
              "           日付    商品コード  数量     品名  単価[¥/L] or [¥]\n",
              "0  2020-12-01  GSL0001  40  レギュラー             120\n",
              "1  2020-12-03  GSL0001  35  レギュラー             120\n",
              "2  2020-12-02  GSL0002  50   ハイオク             160\n",
              "3  2020-12-15  GSL0004  60     灯油              80\n",
              "4  2020-12-18  GSL0004  15     灯油              80\n",
              "5  2020-12-22  GSL0004  22     灯油              80\n",
              "6  2020-12-25  GSL0004  32     灯油              80\n",
              "7  2020-12-15  CMT0003   2   洗車 C            3000\n",
              "8  2020-12-21  CMT0003   4   洗車 C            3000\n",
              "9  2020-12-22  CMT0005   3  タイヤ交換            4000\n",
              "10 2020-12-28  CMT0004   4  オイル交換            1000"
            ]
          },
          "metadata": {},
          "execution_count": 86
        }
      ]
    },
    {
      "cell_type": "code",
      "metadata": {
        "colab": {
          "base_uri": "https://localhost:8080/",
          "height": 388
        },
        "id": "RlB1NcT6Fjbo",
        "outputId": "5a3b021f-15be-4e6e-961d-8341df34a47b"
      },
      "source": [
        "df_merged['金額'] = df_merged['数量'] * df_merged['単価[¥/L] or [¥]']\n",
        "df_merged"
      ],
      "execution_count": 87,
      "outputs": [
        {
          "output_type": "execute_result",
          "data": {
            "text/html": [
              "<div>\n",
              "<style scoped>\n",
              "    .dataframe tbody tr th:only-of-type {\n",
              "        vertical-align: middle;\n",
              "    }\n",
              "\n",
              "    .dataframe tbody tr th {\n",
              "        vertical-align: top;\n",
              "    }\n",
              "\n",
              "    .dataframe thead th {\n",
              "        text-align: right;\n",
              "    }\n",
              "</style>\n",
              "<table border=\"1\" class=\"dataframe\">\n",
              "  <thead>\n",
              "    <tr style=\"text-align: right;\">\n",
              "      <th></th>\n",
              "      <th>日付</th>\n",
              "      <th>商品コード</th>\n",
              "      <th>数量</th>\n",
              "      <th>品名</th>\n",
              "      <th>単価[¥/L] or [¥]</th>\n",
              "      <th>金額</th>\n",
              "    </tr>\n",
              "  </thead>\n",
              "  <tbody>\n",
              "    <tr>\n",
              "      <th>0</th>\n",
              "      <td>2020-12-01</td>\n",
              "      <td>GSL0001</td>\n",
              "      <td>40</td>\n",
              "      <td>レギュラー</td>\n",
              "      <td>120</td>\n",
              "      <td>4800</td>\n",
              "    </tr>\n",
              "    <tr>\n",
              "      <th>1</th>\n",
              "      <td>2020-12-03</td>\n",
              "      <td>GSL0001</td>\n",
              "      <td>35</td>\n",
              "      <td>レギュラー</td>\n",
              "      <td>120</td>\n",
              "      <td>4200</td>\n",
              "    </tr>\n",
              "    <tr>\n",
              "      <th>2</th>\n",
              "      <td>2020-12-02</td>\n",
              "      <td>GSL0002</td>\n",
              "      <td>50</td>\n",
              "      <td>ハイオク</td>\n",
              "      <td>160</td>\n",
              "      <td>8000</td>\n",
              "    </tr>\n",
              "    <tr>\n",
              "      <th>3</th>\n",
              "      <td>2020-12-15</td>\n",
              "      <td>GSL0004</td>\n",
              "      <td>60</td>\n",
              "      <td>灯油</td>\n",
              "      <td>80</td>\n",
              "      <td>4800</td>\n",
              "    </tr>\n",
              "    <tr>\n",
              "      <th>4</th>\n",
              "      <td>2020-12-18</td>\n",
              "      <td>GSL0004</td>\n",
              "      <td>15</td>\n",
              "      <td>灯油</td>\n",
              "      <td>80</td>\n",
              "      <td>1200</td>\n",
              "    </tr>\n",
              "    <tr>\n",
              "      <th>5</th>\n",
              "      <td>2020-12-22</td>\n",
              "      <td>GSL0004</td>\n",
              "      <td>22</td>\n",
              "      <td>灯油</td>\n",
              "      <td>80</td>\n",
              "      <td>1760</td>\n",
              "    </tr>\n",
              "    <tr>\n",
              "      <th>6</th>\n",
              "      <td>2020-12-25</td>\n",
              "      <td>GSL0004</td>\n",
              "      <td>32</td>\n",
              "      <td>灯油</td>\n",
              "      <td>80</td>\n",
              "      <td>2560</td>\n",
              "    </tr>\n",
              "    <tr>\n",
              "      <th>7</th>\n",
              "      <td>2020-12-15</td>\n",
              "      <td>CMT0003</td>\n",
              "      <td>2</td>\n",
              "      <td>洗車 C</td>\n",
              "      <td>3000</td>\n",
              "      <td>6000</td>\n",
              "    </tr>\n",
              "    <tr>\n",
              "      <th>8</th>\n",
              "      <td>2020-12-21</td>\n",
              "      <td>CMT0003</td>\n",
              "      <td>4</td>\n",
              "      <td>洗車 C</td>\n",
              "      <td>3000</td>\n",
              "      <td>12000</td>\n",
              "    </tr>\n",
              "    <tr>\n",
              "      <th>9</th>\n",
              "      <td>2020-12-22</td>\n",
              "      <td>CMT0005</td>\n",
              "      <td>3</td>\n",
              "      <td>タイヤ交換</td>\n",
              "      <td>4000</td>\n",
              "      <td>12000</td>\n",
              "    </tr>\n",
              "    <tr>\n",
              "      <th>10</th>\n",
              "      <td>2020-12-28</td>\n",
              "      <td>CMT0004</td>\n",
              "      <td>4</td>\n",
              "      <td>オイル交換</td>\n",
              "      <td>1000</td>\n",
              "      <td>4000</td>\n",
              "    </tr>\n",
              "  </tbody>\n",
              "</table>\n",
              "</div>"
            ],
            "text/plain": [
              "           日付    商品コード  数量     品名  単価[¥/L] or [¥]     金額\n",
              "0  2020-12-01  GSL0001  40  レギュラー             120   4800\n",
              "1  2020-12-03  GSL0001  35  レギュラー             120   4200\n",
              "2  2020-12-02  GSL0002  50   ハイオク             160   8000\n",
              "3  2020-12-15  GSL0004  60     灯油              80   4800\n",
              "4  2020-12-18  GSL0004  15     灯油              80   1200\n",
              "5  2020-12-22  GSL0004  22     灯油              80   1760\n",
              "6  2020-12-25  GSL0004  32     灯油              80   2560\n",
              "7  2020-12-15  CMT0003   2   洗車 C            3000   6000\n",
              "8  2020-12-21  CMT0003   4   洗車 C            3000  12000\n",
              "9  2020-12-22  CMT0005   3  タイヤ交換            4000  12000\n",
              "10 2020-12-28  CMT0004   4  オイル交換            1000   4000"
            ]
          },
          "metadata": {},
          "execution_count": 87
        }
      ]
    },
    {
      "cell_type": "markdown",
      "metadata": {
        "id": "dpQ63uEbHzjP"
      },
      "source": [
        "##ピポッドテーブル"
      ]
    },
    {
      "cell_type": "code",
      "metadata": {
        "colab": {
          "base_uri": "https://localhost:8080/",
          "height": 304
        },
        "id": "CJvCvWd8FjZG",
        "outputId": "7ef38253-bd3f-4704-d6a8-ea05c5513ac6"
      },
      "source": [
        "df = pd.read_excel('all_data_02.xlsx')\n",
        "df.head()"
      ],
      "execution_count": 88,
      "outputs": [
        {
          "output_type": "execute_result",
          "data": {
            "text/html": [
              "<div>\n",
              "<style scoped>\n",
              "    .dataframe tbody tr th:only-of-type {\n",
              "        vertical-align: middle;\n",
              "    }\n",
              "\n",
              "    .dataframe tbody tr th {\n",
              "        vertical-align: top;\n",
              "    }\n",
              "\n",
              "    .dataframe thead th {\n",
              "        text-align: right;\n",
              "    }\n",
              "</style>\n",
              "<table border=\"1\" class=\"dataframe\">\n",
              "  <thead>\n",
              "    <tr style=\"text-align: right;\">\n",
              "      <th></th>\n",
              "      <th>企業名</th>\n",
              "      <th>企業コード</th>\n",
              "      <th>請求書No</th>\n",
              "      <th>発行日</th>\n",
              "      <th>発行者</th>\n",
              "      <th>発行者コード</th>\n",
              "      <th>日付</th>\n",
              "      <th>商品コード</th>\n",
              "      <th>品名</th>\n",
              "      <th>数量[L] or [-]</th>\n",
              "      <th>単価[¥/L] or [¥]</th>\n",
              "      <th>金額</th>\n",
              "    </tr>\n",
              "  </thead>\n",
              "  <tbody>\n",
              "    <tr>\n",
              "      <th>0</th>\n",
              "      <td>TTT Inc.</td>\n",
              "      <td>6</td>\n",
              "      <td>12</td>\n",
              "      <td>2020/12/30</td>\n",
              "      <td>岸辺</td>\n",
              "      <td>2</td>\n",
              "      <td>2020-12-01</td>\n",
              "      <td>GSL0001</td>\n",
              "      <td>レギュラー</td>\n",
              "      <td>35</td>\n",
              "      <td>120</td>\n",
              "      <td>4200</td>\n",
              "    </tr>\n",
              "    <tr>\n",
              "      <th>1</th>\n",
              "      <td>TTT Inc.</td>\n",
              "      <td>6</td>\n",
              "      <td>12</td>\n",
              "      <td>2020/12/30</td>\n",
              "      <td>岸辺</td>\n",
              "      <td>2</td>\n",
              "      <td>2020-12-06</td>\n",
              "      <td>GSL0001</td>\n",
              "      <td>レギュラー</td>\n",
              "      <td>15</td>\n",
              "      <td>120</td>\n",
              "      <td>1800</td>\n",
              "    </tr>\n",
              "    <tr>\n",
              "      <th>2</th>\n",
              "      <td>TTT Inc.</td>\n",
              "      <td>6</td>\n",
              "      <td>12</td>\n",
              "      <td>2020/12/30</td>\n",
              "      <td>岸辺</td>\n",
              "      <td>2</td>\n",
              "      <td>2020-12-06</td>\n",
              "      <td>GSL0003</td>\n",
              "      <td>軽油</td>\n",
              "      <td>50</td>\n",
              "      <td>100</td>\n",
              "      <td>5000</td>\n",
              "    </tr>\n",
              "    <tr>\n",
              "      <th>3</th>\n",
              "      <td>TTT Inc.</td>\n",
              "      <td>6</td>\n",
              "      <td>12</td>\n",
              "      <td>2020/12/30</td>\n",
              "      <td>岸辺</td>\n",
              "      <td>2</td>\n",
              "      <td>2020-12-08</td>\n",
              "      <td>GSL0001</td>\n",
              "      <td>レギュラー</td>\n",
              "      <td>40</td>\n",
              "      <td>120</td>\n",
              "      <td>4800</td>\n",
              "    </tr>\n",
              "    <tr>\n",
              "      <th>4</th>\n",
              "      <td>TTT Inc.</td>\n",
              "      <td>6</td>\n",
              "      <td>12</td>\n",
              "      <td>2020/12/30</td>\n",
              "      <td>岸辺</td>\n",
              "      <td>2</td>\n",
              "      <td>2020-12-09</td>\n",
              "      <td>GSL0003</td>\n",
              "      <td>軽油</td>\n",
              "      <td>50</td>\n",
              "      <td>100</td>\n",
              "      <td>5000</td>\n",
              "    </tr>\n",
              "  </tbody>\n",
              "</table>\n",
              "</div>"
            ],
            "text/plain": [
              "        企業名  企業コード  請求書No  ... 数量[L] or [-] 単価[¥/L] or [¥]    金額\n",
              "0  TTT Inc.      6     12  ...           35            120  4200\n",
              "1  TTT Inc.      6     12  ...           15            120  1800\n",
              "2  TTT Inc.      6     12  ...           50            100  5000\n",
              "3  TTT Inc.      6     12  ...           40            120  4800\n",
              "4  TTT Inc.      6     12  ...           50            100  5000\n",
              "\n",
              "[5 rows x 12 columns]"
            ]
          },
          "metadata": {},
          "execution_count": 88
        }
      ]
    },
    {
      "cell_type": "code",
      "metadata": {
        "id": "H9fNe5SfIcyR"
      },
      "source": [
        "import numpy as np"
      ],
      "execution_count": 89,
      "outputs": []
    },
    {
      "cell_type": "code",
      "metadata": {
        "colab": {
          "base_uri": "https://localhost:8080/",
          "height": 349
        },
        "id": "nIj8m6NmFjXP",
        "outputId": "4cbfffae-9d25-4ed9-f25d-6fc90e6a70c0"
      },
      "source": [
        "df.pivot_table(index=['企業名'], columns=['品名'], values='金額', aggfunc=np.sum)"
      ],
      "execution_count": 90,
      "outputs": [
        {
          "output_type": "execute_result",
          "data": {
            "text/html": [
              "<div>\n",
              "<style scoped>\n",
              "    .dataframe tbody tr th:only-of-type {\n",
              "        vertical-align: middle;\n",
              "    }\n",
              "\n",
              "    .dataframe tbody tr th {\n",
              "        vertical-align: top;\n",
              "    }\n",
              "\n",
              "    .dataframe thead th {\n",
              "        text-align: right;\n",
              "    }\n",
              "</style>\n",
              "<table border=\"1\" class=\"dataframe\">\n",
              "  <thead>\n",
              "    <tr style=\"text-align: right;\">\n",
              "      <th>品名</th>\n",
              "      <th>オイル交換</th>\n",
              "      <th>コロン</th>\n",
              "      <th>スナック</th>\n",
              "      <th>タイヤ</th>\n",
              "      <th>タイヤ交換</th>\n",
              "      <th>ハイオク</th>\n",
              "      <th>レギュラー</th>\n",
              "      <th>洗車 A</th>\n",
              "      <th>洗車 B</th>\n",
              "      <th>洗車 C</th>\n",
              "      <th>灯油</th>\n",
              "      <th>軽油</th>\n",
              "    </tr>\n",
              "    <tr>\n",
              "      <th>企業名</th>\n",
              "      <th></th>\n",
              "      <th></th>\n",
              "      <th></th>\n",
              "      <th></th>\n",
              "      <th></th>\n",
              "      <th></th>\n",
              "      <th></th>\n",
              "      <th></th>\n",
              "      <th></th>\n",
              "      <th></th>\n",
              "      <th></th>\n",
              "      <th></th>\n",
              "    </tr>\n",
              "  </thead>\n",
              "  <tbody>\n",
              "    <tr>\n",
              "      <th>CDF商事</th>\n",
              "      <td>1000.0</td>\n",
              "      <td>NaN</td>\n",
              "      <td>NaN</td>\n",
              "      <td>NaN</td>\n",
              "      <td>4000.0</td>\n",
              "      <td>7200.0</td>\n",
              "      <td>8400.0</td>\n",
              "      <td>NaN</td>\n",
              "      <td>NaN</td>\n",
              "      <td>6000.0</td>\n",
              "      <td>12400.0</td>\n",
              "      <td>NaN</td>\n",
              "    </tr>\n",
              "    <tr>\n",
              "      <th>ICHIGO</th>\n",
              "      <td>1000.0</td>\n",
              "      <td>2400.0</td>\n",
              "      <td>NaN</td>\n",
              "      <td>NaN</td>\n",
              "      <td>NaN</td>\n",
              "      <td>13600.0</td>\n",
              "      <td>2400.0</td>\n",
              "      <td>NaN</td>\n",
              "      <td>1500.0</td>\n",
              "      <td>NaN</td>\n",
              "      <td>NaN</td>\n",
              "      <td>10000.0</td>\n",
              "    </tr>\n",
              "    <tr>\n",
              "      <th>STR Corp.</th>\n",
              "      <td>NaN</td>\n",
              "      <td>NaN</td>\n",
              "      <td>1000.0</td>\n",
              "      <td>32000.0</td>\n",
              "      <td>4000.0</td>\n",
              "      <td>7200.0</td>\n",
              "      <td>7200.0</td>\n",
              "      <td>NaN</td>\n",
              "      <td>1500.0</td>\n",
              "      <td>NaN</td>\n",
              "      <td>2400.0</td>\n",
              "      <td>NaN</td>\n",
              "    </tr>\n",
              "    <tr>\n",
              "      <th>TTT Inc.</th>\n",
              "      <td>1000.0</td>\n",
              "      <td>2400.0</td>\n",
              "      <td>NaN</td>\n",
              "      <td>NaN</td>\n",
              "      <td>4000.0</td>\n",
              "      <td>19200.0</td>\n",
              "      <td>16800.0</td>\n",
              "      <td>NaN</td>\n",
              "      <td>1500.0</td>\n",
              "      <td>NaN</td>\n",
              "      <td>NaN</td>\n",
              "      <td>44500.0</td>\n",
              "    </tr>\n",
              "    <tr>\n",
              "      <th>XYZ株式会社</th>\n",
              "      <td>NaN</td>\n",
              "      <td>NaN</td>\n",
              "      <td>NaN</td>\n",
              "      <td>NaN</td>\n",
              "      <td>NaN</td>\n",
              "      <td>12000.0</td>\n",
              "      <td>6000.0</td>\n",
              "      <td>NaN</td>\n",
              "      <td>NaN</td>\n",
              "      <td>6000.0</td>\n",
              "      <td>6800.0</td>\n",
              "      <td>5000.0</td>\n",
              "    </tr>\n",
              "    <tr>\n",
              "      <th>株式会社ABC</th>\n",
              "      <td>1000.0</td>\n",
              "      <td>800.0</td>\n",
              "      <td>300.0</td>\n",
              "      <td>32000.0</td>\n",
              "      <td>4000.0</td>\n",
              "      <td>7200.0</td>\n",
              "      <td>2400.0</td>\n",
              "      <td>500.0</td>\n",
              "      <td>1500.0</td>\n",
              "      <td>3000.0</td>\n",
              "      <td>2400.0</td>\n",
              "      <td>5000.0</td>\n",
              "    </tr>\n",
              "  </tbody>\n",
              "</table>\n",
              "</div>"
            ],
            "text/plain": [
              "品名          オイル交換     コロン    スナック      タイヤ  ...    洗車 B    洗車 C       灯油       軽油\n",
              "企業名                                         ...                                  \n",
              "CDF商事      1000.0     NaN     NaN      NaN  ...     NaN  6000.0  12400.0      NaN\n",
              "ICHIGO     1000.0  2400.0     NaN      NaN  ...  1500.0     NaN      NaN  10000.0\n",
              "STR Corp.     NaN     NaN  1000.0  32000.0  ...  1500.0     NaN   2400.0      NaN\n",
              "TTT Inc.   1000.0  2400.0     NaN      NaN  ...  1500.0     NaN      NaN  44500.0\n",
              "XYZ株式会社       NaN     NaN     NaN      NaN  ...     NaN  6000.0   6800.0   5000.0\n",
              "株式会社ABC    1000.0   800.0   300.0  32000.0  ...  1500.0  3000.0   2400.0   5000.0\n",
              "\n",
              "[6 rows x 12 columns]"
            ]
          },
          "metadata": {},
          "execution_count": 90
        }
      ]
    },
    {
      "cell_type": "code",
      "metadata": {
        "id": "ADrjhAISFjVI"
      },
      "source": [
        "import openpyxl\n",
        "from openpyxl.chart import BarChart, Reference"
      ],
      "execution_count": 97,
      "outputs": []
    },
    {
      "cell_type": "code",
      "metadata": {
        "id": "DhZ0ivImFjTt"
      },
      "source": [
        "wb = openpyxl.load_workbook('企業別年間売上表.xlsx')\n",
        "sh = wb.active"
      ],
      "execution_count": 101,
      "outputs": []
    },
    {
      "cell_type": "code",
      "metadata": {
        "id": "y_XhxHpDFjRC"
      },
      "source": [
        "data = Reference(sh, min_col=3, max_col=3, min_row=1, max_row=sh.max_row)\n",
        "labels= Reference(sh, min_col=2, max_col=2, min_row=2, max_row=sh.max_row)"
      ],
      "execution_count": 102,
      "outputs": []
    },
    {
      "cell_type": "code",
      "metadata": {
        "id": "Tmwh-uEDFjO3"
      },
      "source": [
        "chart = BarChart()\n",
        "chart.type = 'col'\n",
        "chart.style = 28\n",
        "chart.title = '取引先企業別売上'\n",
        "chart.y_axis.title = '売上額'\n",
        "chart.x_axis.title = '取引先企業名'"
      ],
      "execution_count": 103,
      "outputs": []
    },
    {
      "cell_type": "code",
      "metadata": {
        "id": "kv3xpXF_FjM0"
      },
      "source": [
        "chart.add_data(data, titles_from_data=True)\n",
        "chart.set_categories(labels)"
      ],
      "execution_count": 104,
      "outputs": []
    },
    {
      "cell_type": "code",
      "metadata": {
        "id": "08gstsKDFjKm"
      },
      "source": [
        "sh.add_chart(chart, 'E3')"
      ],
      "execution_count": 105,
      "outputs": []
    },
    {
      "cell_type": "code",
      "metadata": {
        "id": "nFUgrfgAFjIO"
      },
      "source": [
        "wb.save('企業別年間売上表.xlsx')"
      ],
      "execution_count": 106,
      "outputs": []
    },
    {
      "cell_type": "code",
      "metadata": {
        "id": "DiNxeTeMFjF9"
      },
      "source": [
        "from copy import deepcopy"
      ],
      "execution_count": 107,
      "outputs": []
    },
    {
      "cell_type": "code",
      "metadata": {
        "id": "fJ52Y-bRi5IU"
      },
      "source": [
        "chart2 = deepcopy(chart)"
      ],
      "execution_count": 108,
      "outputs": []
    },
    {
      "cell_type": "code",
      "metadata": {
        "id": "1hur0piCMJMo"
      },
      "source": [
        "chart2.type = 'bar'\n",
        "\n",
        "sh.add_chart(chart2, 'E3')\n",
        "wb.save('企業別年間売上表.xlsx')"
      ],
      "execution_count": null,
      "outputs": []
    },
    {
      "cell_type": "code",
      "metadata": {
        "id": "UxCuDoIqMJJm"
      },
      "source": [
        ""
      ],
      "execution_count": null,
      "outputs": []
    },
    {
      "cell_type": "code",
      "metadata": {
        "id": "mu6nO5I3MJHs"
      },
      "source": [
        ""
      ],
      "execution_count": null,
      "outputs": []
    },
    {
      "cell_type": "code",
      "metadata": {
        "id": "f3_X-240MJFY"
      },
      "source": [
        ""
      ],
      "execution_count": null,
      "outputs": []
    },
    {
      "cell_type": "code",
      "metadata": {
        "id": "vyaFQMpcMJD4"
      },
      "source": [
        ""
      ],
      "execution_count": null,
      "outputs": []
    },
    {
      "cell_type": "code",
      "metadata": {
        "id": "ge4JcGfWMJA3"
      },
      "source": [
        ""
      ],
      "execution_count": null,
      "outputs": []
    },
    {
      "cell_type": "code",
      "metadata": {
        "id": "eEllHy5JMI-k"
      },
      "source": [
        ""
      ],
      "execution_count": null,
      "outputs": []
    },
    {
      "cell_type": "code",
      "metadata": {
        "id": "kv8tgiR8MI8R"
      },
      "source": [
        ""
      ],
      "execution_count": null,
      "outputs": []
    }
  ]
}