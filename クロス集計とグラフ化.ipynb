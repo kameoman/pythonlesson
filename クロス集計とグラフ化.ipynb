{
  "nbformat": 4,
  "nbformat_minor": 0,
  "metadata": {
    "colab": {
      "name": "クロス集計とグラフ化.ipynb",
      "provenance": [],
      "authorship_tag": "ABX9TyMmWc0MncEorok4Due5lG9E",
      "include_colab_link": true
    },
    "kernelspec": {
      "name": "python3",
      "display_name": "Python 3"
    },
    "language_info": {
      "name": "python"
    }
  },
  "cells": [
    {
      "cell_type": "markdown",
      "metadata": {
        "id": "view-in-github",
        "colab_type": "text"
      },
      "source": [
        "<a href=\"https://colab.research.google.com/github/kameoman/pythonlesson/blob/main/%E3%82%AF%E3%83%AD%E3%82%B9%E9%9B%86%E8%A8%88%E3%81%A8%E3%82%B0%E3%83%A9%E3%83%95%E5%8C%96.ipynb\" target=\"_parent\"><img src=\"https://colab.research.google.com/assets/colab-badge.svg\" alt=\"Open In Colab\"/></a>"
      ]
    },
    {
      "cell_type": "code",
      "metadata": {
        "id": "aGDID76Bi4lm"
      },
      "source": [
        "import pandas as pd\n",
        "from glob import glob"
      ],
      "execution_count": 1,
      "outputs": []
    },
    {
      "cell_type": "code",
      "metadata": {
        "colab": {
          "base_uri": "https://localhost:8080/"
        },
        "id": "TkfEMEQxi6Qt",
        "outputId": "0cf8f0f5-c792-4ea3-e106-1a2f13872d46"
      },
      "source": [
        "filepaths = glob('請求書*.xlsx')\n",
        "filepaths"
      ],
      "execution_count": 6,
      "outputs": [
        {
          "output_type": "execute_result",
          "data": {
            "text/plain": [
              "['請求書_12月_TTTInc.xlsx',\n",
              " '請求書_10月_TTTInc.xlsx',\n",
              " '請求書_11月_XYZ株式会社.xlsx',\n",
              " '請求書_12月_株式会社ABC.xlsx',\n",
              " '請求書_11月_ICHIGO.xlsx',\n",
              " '請求書_12月_CDF商事.xlsx',\n",
              " '請求書_12月_STR_Corp.xlsx']"
            ]
          },
          "metadata": {},
          "execution_count": 6
        }
      ]
    },
    {
      "cell_type": "code",
      "metadata": {
        "id": "uBg35ehSi6OH"
      },
      "source": [
        "def extract(filepath):\n",
        "    _df = pd.read_excel(filepath)\n",
        "    columns = _df.iloc[10, [1,2,4,10,11,14]]\n",
        "    df = _df.iloc[11:23, [1,2,4,10,11,14]]\n",
        "    df.columns = columns\n",
        "    df['企業名'] = _df.iloc[2,0]\n",
        "    df['企業コード'] = _df.iloc[3,4]\n",
        "    df['請求書No'] = _df.iloc[2,12]\n",
        "    df['発行日'] = _df.iloc[3,12]\n",
        "    df['発行者'] = _df.iloc[4,12]\n",
        "    df['発行者コード'] = _df.iloc[4,13]\n",
        "    return df"
      ],
      "execution_count": 7,
      "outputs": []
    },
    {
      "cell_type": "code",
      "metadata": {
        "id": "dUdmJXusi6Lg"
      },
      "source": [
        "df = pd.DataFrame()\n",
        "\n",
        "for filepath in filepaths:\n",
        "    df = pd.concat([df, extract(filepath)])"
      ],
      "execution_count": 8,
      "outputs": []
    },
    {
      "cell_type": "code",
      "metadata": {
        "colab": {
          "base_uri": "https://localhost:8080/"
        },
        "id": "D2EyNCfri6JN",
        "outputId": "d8d498fe-14e1-42a5-e8b1-666defab169a"
      },
      "source": [
        "len(df)"
      ],
      "execution_count": 9,
      "outputs": [
        {
          "output_type": "execute_result",
          "data": {
            "text/plain": [
              "84"
            ]
          },
          "metadata": {},
          "execution_count": 9
        }
      ]
    },
    {
      "cell_type": "code",
      "metadata": {
        "id": "SVHgxvR9i6G8"
      },
      "source": [
        "df = df.dropna()\n",
        "df.tail()"
      ],
      "execution_count": null,
      "outputs": []
    },
    {
      "cell_type": "code",
      "metadata": {
        "id": "wpOJizAYi6Es"
      },
      "source": [
        "df = df.reset_index(drop=True)"
      ],
      "execution_count": 13,
      "outputs": []
    },
    {
      "cell_type": "code",
      "metadata": {
        "id": "wVhEeA5Yi6Cn"
      },
      "source": [
        "df = df.iloc[:, [6,7,8,9,10,11,0,1,2,3,4,5]]"
      ],
      "execution_count": 15,
      "outputs": []
    },
    {
      "cell_type": "code",
      "metadata": {
        "id": "raRmfZwHi6AK"
      },
      "source": [
        "df.to_excel('all_data_02.xlsx', index=False)"
      ],
      "execution_count": 16,
      "outputs": []
    },
    {
      "cell_type": "code",
      "metadata": {
        "colab": {
          "base_uri": "https://localhost:8080/"
        },
        "id": "ddx6k_zyi590",
        "outputId": "10ab1428-58b8-4136-ee1d-50694208bad8"
      },
      "source": [
        "members = df['発行者'].unique()\n",
        "members"
      ],
      "execution_count": 18,
      "outputs": [
        {
          "output_type": "execute_result",
          "data": {
            "text/plain": [
              "array(['岸辺', '山岡', '桜田'], dtype=object)"
            ]
          },
          "metadata": {},
          "execution_count": 18
        }
      ]
    },
    {
      "cell_type": "code",
      "metadata": {
        "colab": {
          "base_uri": "https://localhost:8080/",
          "height": 35
        },
        "id": "ktaKM3Fvi57k",
        "outputId": "dc94d1a7-275b-4326-d74c-42e43cc7a26c"
      },
      "source": [
        "member = members[0]\n",
        "member"
      ],
      "execution_count": 19,
      "outputs": [
        {
          "output_type": "execute_result",
          "data": {
            "application/vnd.google.colaboratory.intrinsic+json": {
              "type": "string"
            },
            "text/plain": [
              "'岸辺'"
            ]
          },
          "metadata": {},
          "execution_count": 19
        }
      ]
    },
    {
      "cell_type": "code",
      "metadata": {
        "id": "HemiRjqji55M"
      },
      "source": [
        "_df = df[df['発行者'] == member]\n",
        "_df"
      ],
      "execution_count": null,
      "outputs": []
    },
    {
      "cell_type": "code",
      "metadata": {
        "colab": {
          "base_uri": "https://localhost:8080/"
        },
        "id": "P1ffEwKhi53A",
        "outputId": "a459e50e-10ba-4dec-dad0-7f18b1a27eac"
      },
      "source": [
        "_df['金額'].sum()"
      ],
      "execution_count": 27,
      "outputs": [
        {
          "output_type": "execute_result",
          "data": {
            "text/plain": [
              "120300"
            ]
          },
          "metadata": {},
          "execution_count": 27
        }
      ]
    },
    {
      "cell_type": "code",
      "metadata": {
        "colab": {
          "base_uri": "https://localhost:8080/"
        },
        "id": "VWerIc9li50a",
        "outputId": "2f6a4f7e-6a29-40b4-c72d-386aed6a78ca"
      },
      "source": [
        "companies = _df['企業名'].unique()\n",
        "companies"
      ],
      "execution_count": 33,
      "outputs": [
        {
          "output_type": "execute_result",
          "data": {
            "text/plain": [
              "array(['TTT Inc.', 'ICHIGO'], dtype=object)"
            ]
          },
          "metadata": {},
          "execution_count": 33
        }
      ]
    },
    {
      "cell_type": "code",
      "metadata": {
        "colab": {
          "base_uri": "https://localhost:8080/"
        },
        "id": "Yf3FHqgGi5xx",
        "outputId": "ac972f3c-ff21-4d07-822f-62f560ae8dcd"
      },
      "source": [
        "_df[_df['企業名'] == companies[0]]['金額'].sum()"
      ],
      "execution_count": 37,
      "outputs": [
        {
          "output_type": "execute_result",
          "data": {
            "text/plain": [
              "89400"
            ]
          },
          "metadata": {},
          "execution_count": 37
        }
      ]
    },
    {
      "cell_type": "code",
      "metadata": {
        "colab": {
          "base_uri": "https://localhost:8080/"
        },
        "id": "uy19WkkQi5kK",
        "outputId": "c5f1e589-042a-45e0-8298-aa27d56addbd"
      },
      "source": [
        "tot_earnings =_df['金額'].sum()\n",
        "tot_earnings"
      ],
      "execution_count": 38,
      "outputs": [
        {
          "output_type": "execute_result",
          "data": {
            "text/plain": [
              "120300"
            ]
          },
          "metadata": {},
          "execution_count": 38
        }
      ]
    },
    {
      "cell_type": "code",
      "metadata": {
        "colab": {
          "base_uri": "https://localhost:8080/",
          "height": 80
        },
        "id": "UjHNb2vii5h4",
        "outputId": "b2bcf5eb-2233-470b-a37a-89ee36113168"
      },
      "source": [
        "pd.DataFrame({'担当者': member, '企業名': '全体', '金額':tot_earnings}, index=[0])"
      ],
      "execution_count": 40,
      "outputs": [
        {
          "output_type": "execute_result",
          "data": {
            "text/html": [
              "<div>\n",
              "<style scoped>\n",
              "    .dataframe tbody tr th:only-of-type {\n",
              "        vertical-align: middle;\n",
              "    }\n",
              "\n",
              "    .dataframe tbody tr th {\n",
              "        vertical-align: top;\n",
              "    }\n",
              "\n",
              "    .dataframe thead th {\n",
              "        text-align: right;\n",
              "    }\n",
              "</style>\n",
              "<table border=\"1\" class=\"dataframe\">\n",
              "  <thead>\n",
              "    <tr style=\"text-align: right;\">\n",
              "      <th></th>\n",
              "      <th>担当者</th>\n",
              "      <th>企業名</th>\n",
              "      <th>金額</th>\n",
              "    </tr>\n",
              "  </thead>\n",
              "  <tbody>\n",
              "    <tr>\n",
              "      <th>0</th>\n",
              "      <td>岸辺</td>\n",
              "      <td>全体</td>\n",
              "      <td>120300</td>\n",
              "    </tr>\n",
              "  </tbody>\n",
              "</table>\n",
              "</div>"
            ],
            "text/plain": [
              "  担当者 企業名      金額\n",
              "0  岸辺  全体  120300"
            ]
          },
          "metadata": {},
          "execution_count": 40
        }
      ]
    },
    {
      "cell_type": "code",
      "metadata": {
        "colab": {
          "base_uri": "https://localhost:8080/",
          "height": 35
        },
        "id": "Vdr71-RVi5fm",
        "outputId": "73420e17-d3d6-4ea0-ef81-940a2bcd4856"
      },
      "source": [
        "company = companies[0]\n",
        "company"
      ],
      "execution_count": 41,
      "outputs": [
        {
          "output_type": "execute_result",
          "data": {
            "application/vnd.google.colaboratory.intrinsic+json": {
              "type": "string"
            },
            "text/plain": [
              "'TTT Inc.'"
            ]
          },
          "metadata": {},
          "execution_count": 41
        }
      ]
    },
    {
      "cell_type": "code",
      "metadata": {
        "colab": {
          "base_uri": "https://localhost:8080/"
        },
        "id": "A620Wzsqi5da",
        "outputId": "9b2a182d-0a79-44d7-9e30-dfd978b48d6b"
      },
      "source": [
        "earnings = _df[_df['企業名'] == company]['金額'].sum()\n",
        "earnings"
      ],
      "execution_count": 45,
      "outputs": [
        {
          "output_type": "execute_result",
          "data": {
            "text/plain": [
              "89400"
            ]
          },
          "metadata": {},
          "execution_count": 45
        }
      ]
    },
    {
      "cell_type": "code",
      "metadata": {
        "colab": {
          "base_uri": "https://localhost:8080/",
          "height": 80
        },
        "id": "twbKQ1Qwi5bT",
        "outputId": "c1de9491-c45c-451e-f48a-c24d31452c0a"
      },
      "source": [
        "pd.DataFrame({'企業名': company, '金額':earnings}, index=[1])"
      ],
      "execution_count": 46,
      "outputs": [
        {
          "output_type": "execute_result",
          "data": {
            "text/html": [
              "<div>\n",
              "<style scoped>\n",
              "    .dataframe tbody tr th:only-of-type {\n",
              "        vertical-align: middle;\n",
              "    }\n",
              "\n",
              "    .dataframe tbody tr th {\n",
              "        vertical-align: top;\n",
              "    }\n",
              "\n",
              "    .dataframe thead th {\n",
              "        text-align: right;\n",
              "    }\n",
              "</style>\n",
              "<table border=\"1\" class=\"dataframe\">\n",
              "  <thead>\n",
              "    <tr style=\"text-align: right;\">\n",
              "      <th></th>\n",
              "      <th>企業名</th>\n",
              "      <th>金額</th>\n",
              "    </tr>\n",
              "  </thead>\n",
              "  <tbody>\n",
              "    <tr>\n",
              "      <th>1</th>\n",
              "      <td>TTT Inc.</td>\n",
              "      <td>89400</td>\n",
              "    </tr>\n",
              "  </tbody>\n",
              "</table>\n",
              "</div>"
            ],
            "text/plain": [
              "        企業名     金額\n",
              "1  TTT Inc.  89400"
            ]
          },
          "metadata": {},
          "execution_count": 46
        }
      ]
    },
    {
      "cell_type": "code",
      "metadata": {
        "colab": {
          "base_uri": "https://localhost:8080/"
        },
        "id": "v4exLyVCi5Y6",
        "outputId": "923327b5-39fc-4b40-85f1-4464ae65b632"
      },
      "source": [
        "dict(担当者=member, 企業名='全体', 金額=tot_earnings)"
      ],
      "execution_count": 47,
      "outputs": [
        {
          "output_type": "execute_result",
          "data": {
            "text/plain": [
              "{'企業名': '全体', '担当者': '岸辺', '金額': 120300}"
            ]
          },
          "metadata": {},
          "execution_count": 47
        }
      ]
    },
    {
      "cell_type": "code",
      "metadata": {
        "colab": {
          "base_uri": "https://localhost:8080/"
        },
        "id": "SIH2AYbTi5W0",
        "outputId": "81dcb457-e3f5-432b-dc2b-5de2684ffaac"
      },
      "source": [
        "dict(企業名=company, 金額=earnings)"
      ],
      "execution_count": 48,
      "outputs": [
        {
          "output_type": "execute_result",
          "data": {
            "text/plain": [
              "{'企業名': 'TTT Inc.', '金額': 89400}"
            ]
          },
          "metadata": {},
          "execution_count": 48
        }
      ]
    },
    {
      "cell_type": "code",
      "metadata": {
        "id": "T2xSqrGfi5Uc"
      },
      "source": [
        "total_res = []\n",
        "for member in members:\n",
        "    _df = df[df['発行者'] == member]\n",
        "    companies = _df['企業名'].unique()\n",
        "\n",
        "    tot_earnings =_df['金額'].sum()\n",
        "    total_res.append(dict(担当者=member, 企業名='全体', 金額=tot_earnings))\n",
        "    for company in companies:\n",
        "        earnings =_df[_df['企業名'] == company]['金額'].sum()\n",
        "        total_res.append(dict(企業名=company, 金額=earnings))\n",
        "\n",
        "\n"
      ],
      "execution_count": 53,
      "outputs": []
    },
    {
      "cell_type": "code",
      "metadata": {
        "colab": {
          "base_uri": "https://localhost:8080/"
        },
        "id": "f5rL9UNti5SO",
        "outputId": "135ef1e2-cc9d-4ab2-c3a9-2f551f41d57c"
      },
      "source": [
        "total_res"
      ],
      "execution_count": 54,
      "outputs": [
        {
          "output_type": "execute_result",
          "data": {
            "text/plain": [
              "[{'企業名': '全体', '担当者': '岸辺', '金額': 120300},\n",
              " {'企業名': 'TTT Inc.', '金額': 89400},\n",
              " {'企業名': 'ICHIGO', '金額': 30900},\n",
              " {'企業名': '全体', '担当者': '山岡', '金額': 35800},\n",
              " {'企業名': 'XYZ株式会社', '金額': 35800},\n",
              " {'企業名': '全体', '担当者': '桜田', '金額': 154400},\n",
              " {'企業名': '株式会社ABC', '金額': 60100},\n",
              " {'企業名': 'CDF商事', '金額': 39000},\n",
              " {'企業名': 'STR Corp.', '金額': 55300}]"
            ]
          },
          "metadata": {},
          "execution_count": 54
        }
      ]
    },
    {
      "cell_type": "code",
      "metadata": {
        "colab": {
          "base_uri": "https://localhost:8080/",
          "height": 326
        },
        "id": "rK0zBGI9i5QC",
        "outputId": "927f7853-4296-4488-9ccd-c6b748c4bbbe"
      },
      "source": [
        "pd.DataFrame(total_res, columns={'担当者', '企業名', '金額'})"
      ],
      "execution_count": 55,
      "outputs": [
        {
          "output_type": "execute_result",
          "data": {
            "text/html": [
              "<div>\n",
              "<style scoped>\n",
              "    .dataframe tbody tr th:only-of-type {\n",
              "        vertical-align: middle;\n",
              "    }\n",
              "\n",
              "    .dataframe tbody tr th {\n",
              "        vertical-align: top;\n",
              "    }\n",
              "\n",
              "    .dataframe thead th {\n",
              "        text-align: right;\n",
              "    }\n",
              "</style>\n",
              "<table border=\"1\" class=\"dataframe\">\n",
              "  <thead>\n",
              "    <tr style=\"text-align: right;\">\n",
              "      <th></th>\n",
              "      <th>担当者</th>\n",
              "      <th>金額</th>\n",
              "      <th>企業名</th>\n",
              "    </tr>\n",
              "  </thead>\n",
              "  <tbody>\n",
              "    <tr>\n",
              "      <th>0</th>\n",
              "      <td>岸辺</td>\n",
              "      <td>120300</td>\n",
              "      <td>全体</td>\n",
              "    </tr>\n",
              "    <tr>\n",
              "      <th>1</th>\n",
              "      <td>NaN</td>\n",
              "      <td>89400</td>\n",
              "      <td>TTT Inc.</td>\n",
              "    </tr>\n",
              "    <tr>\n",
              "      <th>2</th>\n",
              "      <td>NaN</td>\n",
              "      <td>30900</td>\n",
              "      <td>ICHIGO</td>\n",
              "    </tr>\n",
              "    <tr>\n",
              "      <th>3</th>\n",
              "      <td>山岡</td>\n",
              "      <td>35800</td>\n",
              "      <td>全体</td>\n",
              "    </tr>\n",
              "    <tr>\n",
              "      <th>4</th>\n",
              "      <td>NaN</td>\n",
              "      <td>35800</td>\n",
              "      <td>XYZ株式会社</td>\n",
              "    </tr>\n",
              "    <tr>\n",
              "      <th>5</th>\n",
              "      <td>桜田</td>\n",
              "      <td>154400</td>\n",
              "      <td>全体</td>\n",
              "    </tr>\n",
              "    <tr>\n",
              "      <th>6</th>\n",
              "      <td>NaN</td>\n",
              "      <td>60100</td>\n",
              "      <td>株式会社ABC</td>\n",
              "    </tr>\n",
              "    <tr>\n",
              "      <th>7</th>\n",
              "      <td>NaN</td>\n",
              "      <td>39000</td>\n",
              "      <td>CDF商事</td>\n",
              "    </tr>\n",
              "    <tr>\n",
              "      <th>8</th>\n",
              "      <td>NaN</td>\n",
              "      <td>55300</td>\n",
              "      <td>STR Corp.</td>\n",
              "    </tr>\n",
              "  </tbody>\n",
              "</table>\n",
              "</div>"
            ],
            "text/plain": [
              "   担当者      金額        企業名\n",
              "0   岸辺  120300         全体\n",
              "1  NaN   89400   TTT Inc.\n",
              "2  NaN   30900     ICHIGO\n",
              "3   山岡   35800         全体\n",
              "4  NaN   35800    XYZ株式会社\n",
              "5   桜田  154400         全体\n",
              "6  NaN   60100    株式会社ABC\n",
              "7  NaN   39000      CDF商事\n",
              "8  NaN   55300  STR Corp."
            ]
          },
          "metadata": {},
          "execution_count": 55
        }
      ]
    },
    {
      "cell_type": "code",
      "metadata": {
        "id": "h5LNR5SJi5Km"
      },
      "source": [
        ""
      ],
      "execution_count": null,
      "outputs": []
    },
    {
      "cell_type": "code",
      "metadata": {
        "id": "fJ52Y-bRi5IU"
      },
      "source": [
        ""
      ],
      "execution_count": null,
      "outputs": []
    }
  ]
}