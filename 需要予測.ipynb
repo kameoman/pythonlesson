{
  "nbformat": 4,
  "nbformat_minor": 0,
  "metadata": {
    "colab": {
      "name": "需要予測.ipynb",
      "provenance": [],
      "collapsed_sections": [],
      "authorship_tag": "ABX9TyPvQQ3wJ4gs6AYmTP6JWJsv",
      "include_colab_link": true
    },
    "kernelspec": {
      "name": "python3",
      "display_name": "Python 3"
    },
    "language_info": {
      "name": "python"
    }
  },
  "cells": [
    {
      "cell_type": "markdown",
      "metadata": {
        "id": "view-in-github",
        "colab_type": "text"
      },
      "source": [
        "<a href=\"https://colab.research.google.com/github/kameoman/pythonlesson/blob/main/%E9%9C%80%E8%A6%81%E4%BA%88%E6%B8%AC.ipynb\" target=\"_parent\"><img src=\"https://colab.research.google.com/assets/colab-badge.svg\" alt=\"Open In Colab\"/></a>"
      ]
    },
    {
      "cell_type": "markdown",
      "metadata": {
        "id": "b4KCoWtgSp5f"
      },
      "source": [
        "##１．必要な機能をダウンロードする\n",
        "時系列はprophetを用いることが多い"
      ]
    },
    {
      "cell_type": "code",
      "metadata": {
        "colab": {
          "base_uri": "https://localhost:8080/"
        },
        "id": "28enBqmcSQha",
        "outputId": "0b353887-e19e-472b-cccd-bf178a37f24d"
      },
      "source": [
        "!pip3 install pystan\n",
        "!pip3 install fbprophet"
      ],
      "execution_count": null,
      "outputs": [
        {
          "output_type": "stream",
          "text": [
            "Requirement already satisfied: pystan in /usr/local/lib/python3.7/dist-packages (2.19.1.1)\n",
            "Requirement already satisfied: Cython!=0.25.1,>=0.22 in /usr/local/lib/python3.7/dist-packages (from pystan) (0.29.23)\n",
            "Requirement already satisfied: numpy>=1.7 in /usr/local/lib/python3.7/dist-packages (from pystan) (1.19.5)\n",
            "Requirement already satisfied: fbprophet in /usr/local/lib/python3.7/dist-packages (0.7.1)\n",
            "Requirement already satisfied: Cython>=0.22 in /usr/local/lib/python3.7/dist-packages (from fbprophet) (0.29.23)\n",
            "Requirement already satisfied: cmdstanpy==0.9.5 in /usr/local/lib/python3.7/dist-packages (from fbprophet) (0.9.5)\n",
            "Requirement already satisfied: pystan>=2.14 in /usr/local/lib/python3.7/dist-packages (from fbprophet) (2.19.1.1)\n",
            "Requirement already satisfied: numpy>=1.15.4 in /usr/local/lib/python3.7/dist-packages (from fbprophet) (1.19.5)\n",
            "Requirement already satisfied: pandas>=1.0.4 in /usr/local/lib/python3.7/dist-packages (from fbprophet) (1.1.5)\n",
            "Requirement already satisfied: matplotlib>=2.0.0 in /usr/local/lib/python3.7/dist-packages (from fbprophet) (3.2.2)\n",
            "Requirement already satisfied: LunarCalendar>=0.0.9 in /usr/local/lib/python3.7/dist-packages (from fbprophet) (0.0.9)\n",
            "Requirement already satisfied: convertdate>=2.1.2 in /usr/local/lib/python3.7/dist-packages (from fbprophet) (2.3.2)\n",
            "Requirement already satisfied: holidays>=0.10.2 in /usr/local/lib/python3.7/dist-packages (from fbprophet) (0.10.5.2)\n",
            "Requirement already satisfied: setuptools-git>=1.2 in /usr/local/lib/python3.7/dist-packages (from fbprophet) (1.2)\n",
            "Requirement already satisfied: python-dateutil>=2.8.0 in /usr/local/lib/python3.7/dist-packages (from fbprophet) (2.8.1)\n",
            "Requirement already satisfied: tqdm>=4.36.1 in /usr/local/lib/python3.7/dist-packages (from fbprophet) (4.41.1)\n",
            "Requirement already satisfied: pytz>=2014.10 in /usr/local/lib/python3.7/dist-packages (from convertdate>=2.1.2->fbprophet) (2018.9)\n",
            "Requirement already satisfied: pymeeus<=1,>=0.3.13 in /usr/local/lib/python3.7/dist-packages (from convertdate>=2.1.2->fbprophet) (0.5.11)\n",
            "Requirement already satisfied: korean-lunar-calendar in /usr/local/lib/python3.7/dist-packages (from holidays>=0.10.2->fbprophet) (0.2.1)\n",
            "Requirement already satisfied: hijri-converter in /usr/local/lib/python3.7/dist-packages (from holidays>=0.10.2->fbprophet) (2.1.3)\n",
            "Requirement already satisfied: six in /usr/local/lib/python3.7/dist-packages (from holidays>=0.10.2->fbprophet) (1.15.0)\n",
            "Requirement already satisfied: ephem>=3.7.5.3 in /usr/local/lib/python3.7/dist-packages (from LunarCalendar>=0.0.9->fbprophet) (4.0.0.2)\n",
            "Requirement already satisfied: pyparsing!=2.0.4,!=2.1.2,!=2.1.6,>=2.0.1 in /usr/local/lib/python3.7/dist-packages (from matplotlib>=2.0.0->fbprophet) (2.4.7)\n",
            "Requirement already satisfied: cycler>=0.10 in /usr/local/lib/python3.7/dist-packages (from matplotlib>=2.0.0->fbprophet) (0.10.0)\n",
            "Requirement already satisfied: kiwisolver>=1.0.1 in /usr/local/lib/python3.7/dist-packages (from matplotlib>=2.0.0->fbprophet) (1.3.1)\n"
          ],
          "name": "stdout"
        }
      ]
    },
    {
      "cell_type": "markdown",
      "metadata": {
        "id": "kPNfEfH2S1WX"
      },
      "source": [
        ""
      ]
    },
    {
      "cell_type": "code",
      "metadata": {
        "id": "38x0UKVfTHSb"
      },
      "source": [
        "import pandas as pd\n",
        "from fbprophet import Prophet"
      ],
      "execution_count": null,
      "outputs": []
    },
    {
      "cell_type": "markdown",
      "metadata": {
        "id": "6-v7sIxZUJ6D"
      },
      "source": [
        "##CSVのデータを取り込む\n",
        "skiprows:特定の行をスキップ（除外）して読み込む場合、引数skiprowsを使う。"
      ]
    },
    {
      "cell_type": "code",
      "metadata": {
        "id": "0jPkwSMJTwkV"
      },
      "source": [
        "_df = pd.read_csv('https://www.tepco.co.jp/forecast/html/images/juyo-2021.csv', encoding='shift-jis', skiprows=1)"
      ],
      "execution_count": null,
      "outputs": []
    },
    {
      "cell_type": "code",
      "metadata": {
        "colab": {
          "base_uri": "https://localhost:8080/",
          "height": 204
        },
        "id": "LkuwHnezT8KR",
        "outputId": "a512bf81-a7b8-4ea3-e7d2-05ae05544907"
      },
      "source": [
        "_df.head()"
      ],
      "execution_count": null,
      "outputs": [
        {
          "output_type": "execute_result",
          "data": {
            "text/html": [
              "<div>\n",
              "<style scoped>\n",
              "    .dataframe tbody tr th:only-of-type {\n",
              "        vertical-align: middle;\n",
              "    }\n",
              "\n",
              "    .dataframe tbody tr th {\n",
              "        vertical-align: top;\n",
              "    }\n",
              "\n",
              "    .dataframe thead th {\n",
              "        text-align: right;\n",
              "    }\n",
              "</style>\n",
              "<table border=\"1\" class=\"dataframe\">\n",
              "  <thead>\n",
              "    <tr style=\"text-align: right;\">\n",
              "      <th></th>\n",
              "      <th>DATE</th>\n",
              "      <th>TIME</th>\n",
              "      <th>実績(万kW)</th>\n",
              "    </tr>\n",
              "  </thead>\n",
              "  <tbody>\n",
              "    <tr>\n",
              "      <th>0</th>\n",
              "      <td>2021/1/1</td>\n",
              "      <td>0:00</td>\n",
              "      <td>3184</td>\n",
              "    </tr>\n",
              "    <tr>\n",
              "      <th>1</th>\n",
              "      <td>2021/1/1</td>\n",
              "      <td>1:00</td>\n",
              "      <td>2978</td>\n",
              "    </tr>\n",
              "    <tr>\n",
              "      <th>2</th>\n",
              "      <td>2021/1/1</td>\n",
              "      <td>2:00</td>\n",
              "      <td>2834</td>\n",
              "    </tr>\n",
              "    <tr>\n",
              "      <th>3</th>\n",
              "      <td>2021/1/1</td>\n",
              "      <td>3:00</td>\n",
              "      <td>2743</td>\n",
              "    </tr>\n",
              "    <tr>\n",
              "      <th>4</th>\n",
              "      <td>2021/1/1</td>\n",
              "      <td>4:00</td>\n",
              "      <td>2697</td>\n",
              "    </tr>\n",
              "  </tbody>\n",
              "</table>\n",
              "</div>"
            ],
            "text/plain": [
              "       DATE  TIME  実績(万kW)\n",
              "0  2021/1/1  0:00     3184\n",
              "1  2021/1/1  1:00     2978\n",
              "2  2021/1/1  2:00     2834\n",
              "3  2021/1/1  3:00     2743\n",
              "4  2021/1/1  4:00     2697"
            ]
          },
          "metadata": {
            "tags": []
          },
          "execution_count": 113
        }
      ]
    },
    {
      "cell_type": "markdown",
      "metadata": {
        "id": "JhTY962BUu7J"
      },
      "source": [
        "##件数を調べる"
      ]
    },
    {
      "cell_type": "markdown",
      "metadata": {
        "id": "ve_9C6saWNvX"
      },
      "source": [
        "concat：連結　\n",
        "\n",
        "axis: どの方向へ（縦方向（行方向への連結）"
      ]
    },
    {
      "cell_type": "code",
      "metadata": {
        "id": "vYmqNCzfUzPY"
      },
      "source": [
        "years = [2019,2020,2021]\n",
        "# year = years [0]\n",
        "df = pd.DataFrame() \n",
        "for year in years:\n",
        "    _df = pd.read_csv(f'https://www.tepco.co.jp/forecast/html/images/juyo-{year}.csv', encoding='shift-jis', skiprows=1)\n",
        "    df = pd.concat([df, _df], axis=0)"
      ],
      "execution_count": null,
      "outputs": []
    },
    {
      "cell_type": "code",
      "metadata": {
        "colab": {
          "base_uri": "https://localhost:8080/",
          "height": 418
        },
        "id": "S74L4DzAWpwx",
        "outputId": "3fd8e91e-39aa-4457-a0e9-667fe04e696b"
      },
      "source": [
        "df"
      ],
      "execution_count": null,
      "outputs": [
        {
          "output_type": "execute_result",
          "data": {
            "text/html": [
              "<div>\n",
              "<style scoped>\n",
              "    .dataframe tbody tr th:only-of-type {\n",
              "        vertical-align: middle;\n",
              "    }\n",
              "\n",
              "    .dataframe tbody tr th {\n",
              "        vertical-align: top;\n",
              "    }\n",
              "\n",
              "    .dataframe thead th {\n",
              "        text-align: right;\n",
              "    }\n",
              "</style>\n",
              "<table border=\"1\" class=\"dataframe\">\n",
              "  <thead>\n",
              "    <tr style=\"text-align: right;\">\n",
              "      <th></th>\n",
              "      <th>DATE</th>\n",
              "      <th>TIME</th>\n",
              "      <th>実績(万kW)</th>\n",
              "    </tr>\n",
              "  </thead>\n",
              "  <tbody>\n",
              "    <tr>\n",
              "      <th>0</th>\n",
              "      <td>2019/1/1</td>\n",
              "      <td>0:00</td>\n",
              "      <td>3017</td>\n",
              "    </tr>\n",
              "    <tr>\n",
              "      <th>1</th>\n",
              "      <td>2019/1/1</td>\n",
              "      <td>1:00</td>\n",
              "      <td>2849</td>\n",
              "    </tr>\n",
              "    <tr>\n",
              "      <th>2</th>\n",
              "      <td>2019/1/1</td>\n",
              "      <td>2:00</td>\n",
              "      <td>2730</td>\n",
              "    </tr>\n",
              "    <tr>\n",
              "      <th>3</th>\n",
              "      <td>2019/1/1</td>\n",
              "      <td>3:00</td>\n",
              "      <td>2636</td>\n",
              "    </tr>\n",
              "    <tr>\n",
              "      <th>4</th>\n",
              "      <td>2019/1/1</td>\n",
              "      <td>4:00</td>\n",
              "      <td>2579</td>\n",
              "    </tr>\n",
              "    <tr>\n",
              "      <th>...</th>\n",
              "      <td>...</td>\n",
              "      <td>...</td>\n",
              "      <td>...</td>\n",
              "    </tr>\n",
              "    <tr>\n",
              "      <th>5275</th>\n",
              "      <td>2021/8/8</td>\n",
              "      <td>19:00</td>\n",
              "      <td>3717</td>\n",
              "    </tr>\n",
              "    <tr>\n",
              "      <th>5276</th>\n",
              "      <td>2021/8/8</td>\n",
              "      <td>20:00</td>\n",
              "      <td>3498</td>\n",
              "    </tr>\n",
              "    <tr>\n",
              "      <th>5277</th>\n",
              "      <td>2021/8/8</td>\n",
              "      <td>21:00</td>\n",
              "      <td>3299</td>\n",
              "    </tr>\n",
              "    <tr>\n",
              "      <th>5278</th>\n",
              "      <td>2021/8/8</td>\n",
              "      <td>22:00</td>\n",
              "      <td>3139</td>\n",
              "    </tr>\n",
              "    <tr>\n",
              "      <th>5279</th>\n",
              "      <td>2021/8/8</td>\n",
              "      <td>23:00</td>\n",
              "      <td>2985</td>\n",
              "    </tr>\n",
              "  </tbody>\n",
              "</table>\n",
              "<p>22824 rows × 3 columns</p>\n",
              "</div>"
            ],
            "text/plain": [
              "          DATE   TIME  実績(万kW)\n",
              "0     2019/1/1   0:00     3017\n",
              "1     2019/1/1   1:00     2849\n",
              "2     2019/1/1   2:00     2730\n",
              "3     2019/1/1   3:00     2636\n",
              "4     2019/1/1   4:00     2579\n",
              "...        ...    ...      ...\n",
              "5275  2021/8/8  19:00     3717\n",
              "5276  2021/8/8  20:00     3498\n",
              "5277  2021/8/8  21:00     3299\n",
              "5278  2021/8/8  22:00     3139\n",
              "5279  2021/8/8  23:00     2985\n",
              "\n",
              "[22824 rows x 3 columns]"
            ]
          },
          "metadata": {
            "tags": []
          },
          "execution_count": 115
        }
      ]
    },
    {
      "cell_type": "code",
      "metadata": {
        "colab": {
          "base_uri": "https://localhost:8080/",
          "height": 204
        },
        "id": "ZryM_lEyWvEF",
        "outputId": "9d3f5b72-54a6-42ae-951a-aa41bef03e66"
      },
      "source": [
        "df.head()"
      ],
      "execution_count": null,
      "outputs": [
        {
          "output_type": "execute_result",
          "data": {
            "text/html": [
              "<div>\n",
              "<style scoped>\n",
              "    .dataframe tbody tr th:only-of-type {\n",
              "        vertical-align: middle;\n",
              "    }\n",
              "\n",
              "    .dataframe tbody tr th {\n",
              "        vertical-align: top;\n",
              "    }\n",
              "\n",
              "    .dataframe thead th {\n",
              "        text-align: right;\n",
              "    }\n",
              "</style>\n",
              "<table border=\"1\" class=\"dataframe\">\n",
              "  <thead>\n",
              "    <tr style=\"text-align: right;\">\n",
              "      <th></th>\n",
              "      <th>DATE</th>\n",
              "      <th>TIME</th>\n",
              "      <th>実績(万kW)</th>\n",
              "    </tr>\n",
              "  </thead>\n",
              "  <tbody>\n",
              "    <tr>\n",
              "      <th>0</th>\n",
              "      <td>2019/1/1</td>\n",
              "      <td>0:00</td>\n",
              "      <td>3017</td>\n",
              "    </tr>\n",
              "    <tr>\n",
              "      <th>1</th>\n",
              "      <td>2019/1/1</td>\n",
              "      <td>1:00</td>\n",
              "      <td>2849</td>\n",
              "    </tr>\n",
              "    <tr>\n",
              "      <th>2</th>\n",
              "      <td>2019/1/1</td>\n",
              "      <td>2:00</td>\n",
              "      <td>2730</td>\n",
              "    </tr>\n",
              "    <tr>\n",
              "      <th>3</th>\n",
              "      <td>2019/1/1</td>\n",
              "      <td>3:00</td>\n",
              "      <td>2636</td>\n",
              "    </tr>\n",
              "    <tr>\n",
              "      <th>4</th>\n",
              "      <td>2019/1/1</td>\n",
              "      <td>4:00</td>\n",
              "      <td>2579</td>\n",
              "    </tr>\n",
              "  </tbody>\n",
              "</table>\n",
              "</div>"
            ],
            "text/plain": [
              "       DATE  TIME  実績(万kW)\n",
              "0  2019/1/1  0:00     3017\n",
              "1  2019/1/1  1:00     2849\n",
              "2  2019/1/1  2:00     2730\n",
              "3  2019/1/1  3:00     2636\n",
              "4  2019/1/1  4:00     2579"
            ]
          },
          "metadata": {
            "tags": []
          },
          "execution_count": 116
        }
      ]
    },
    {
      "cell_type": "code",
      "metadata": {
        "colab": {
          "base_uri": "https://localhost:8080/",
          "height": 204
        },
        "id": "3JFY0hL9WyZQ",
        "outputId": "dfed8c76-53f9-4ef4-d6da-ff82819a7fd0"
      },
      "source": [
        "df.tail()"
      ],
      "execution_count": null,
      "outputs": [
        {
          "output_type": "execute_result",
          "data": {
            "text/html": [
              "<div>\n",
              "<style scoped>\n",
              "    .dataframe tbody tr th:only-of-type {\n",
              "        vertical-align: middle;\n",
              "    }\n",
              "\n",
              "    .dataframe tbody tr th {\n",
              "        vertical-align: top;\n",
              "    }\n",
              "\n",
              "    .dataframe thead th {\n",
              "        text-align: right;\n",
              "    }\n",
              "</style>\n",
              "<table border=\"1\" class=\"dataframe\">\n",
              "  <thead>\n",
              "    <tr style=\"text-align: right;\">\n",
              "      <th></th>\n",
              "      <th>DATE</th>\n",
              "      <th>TIME</th>\n",
              "      <th>実績(万kW)</th>\n",
              "    </tr>\n",
              "  </thead>\n",
              "  <tbody>\n",
              "    <tr>\n",
              "      <th>5275</th>\n",
              "      <td>2021/8/8</td>\n",
              "      <td>19:00</td>\n",
              "      <td>3717</td>\n",
              "    </tr>\n",
              "    <tr>\n",
              "      <th>5276</th>\n",
              "      <td>2021/8/8</td>\n",
              "      <td>20:00</td>\n",
              "      <td>3498</td>\n",
              "    </tr>\n",
              "    <tr>\n",
              "      <th>5277</th>\n",
              "      <td>2021/8/8</td>\n",
              "      <td>21:00</td>\n",
              "      <td>3299</td>\n",
              "    </tr>\n",
              "    <tr>\n",
              "      <th>5278</th>\n",
              "      <td>2021/8/8</td>\n",
              "      <td>22:00</td>\n",
              "      <td>3139</td>\n",
              "    </tr>\n",
              "    <tr>\n",
              "      <th>5279</th>\n",
              "      <td>2021/8/8</td>\n",
              "      <td>23:00</td>\n",
              "      <td>2985</td>\n",
              "    </tr>\n",
              "  </tbody>\n",
              "</table>\n",
              "</div>"
            ],
            "text/plain": [
              "          DATE   TIME  実績(万kW)\n",
              "5275  2021/8/8  19:00     3717\n",
              "5276  2021/8/8  20:00     3498\n",
              "5277  2021/8/8  21:00     3299\n",
              "5278  2021/8/8  22:00     3139\n",
              "5279  2021/8/8  23:00     2985"
            ]
          },
          "metadata": {
            "tags": []
          },
          "execution_count": 117
        }
      ]
    },
    {
      "cell_type": "markdown",
      "metadata": {
        "id": "1eXg7apBW4rG"
      },
      "source": [
        "##データの前処理（インデックスのリセット）"
      ]
    },
    {
      "cell_type": "code",
      "metadata": {
        "colab": {
          "base_uri": "https://localhost:8080/"
        },
        "id": "ZStAiLHjW_md",
        "outputId": "97f2a269-47b1-44b6-df51-4085491e4813"
      },
      "source": [
        "df.shape"
      ],
      "execution_count": null,
      "outputs": [
        {
          "output_type": "execute_result",
          "data": {
            "text/plain": [
              "(22824, 3)"
            ]
          },
          "metadata": {
            "tags": []
          },
          "execution_count": 118
        }
      ]
    },
    {
      "cell_type": "code",
      "metadata": {
        "id": "A7cMMdlXXQYm"
      },
      "source": [
        "df = df.reset_index(drop=True)"
      ],
      "execution_count": null,
      "outputs": []
    },
    {
      "cell_type": "markdown",
      "metadata": {
        "id": "vGic-EdDXn4Z"
      },
      "source": [
        "##DATEとTIMEを1つのオブジェクトに格納する"
      ]
    },
    {
      "cell_type": "code",
      "metadata": {
        "colab": {
          "base_uri": "https://localhost:8080/",
          "height": 36
        },
        "id": "-UhoEt3KXvvb",
        "outputId": "d655c4ba-61ef-429c-a825-04abdd02a346"
      },
      "source": [
        "df['DATE'][0]"
      ],
      "execution_count": null,
      "outputs": [
        {
          "output_type": "execute_result",
          "data": {
            "application/vnd.google.colaboratory.intrinsic+json": {
              "type": "string"
            },
            "text/plain": [
              "'2019/1/1'"
            ]
          },
          "metadata": {
            "tags": []
          },
          "execution_count": 120
        }
      ]
    },
    {
      "cell_type": "code",
      "metadata": {
        "colab": {
          "base_uri": "https://localhost:8080/",
          "height": 36
        },
        "id": "qHWnbtLvYGSR",
        "outputId": "e79bf9ce-bb7f-4e14-a6f1-00068ef8c836"
      },
      "source": [
        "df['TIME'][0]"
      ],
      "execution_count": null,
      "outputs": [
        {
          "output_type": "execute_result",
          "data": {
            "application/vnd.google.colaboratory.intrinsic+json": {
              "type": "string"
            },
            "text/plain": [
              "'0:00'"
            ]
          },
          "metadata": {
            "tags": []
          },
          "execution_count": 121
        }
      ]
    },
    {
      "cell_type": "markdown",
      "metadata": {
        "id": "ai4QYJ1SYjZy"
      },
      "source": [
        "年月日＋時間の表示ができるようになる(文字列で一度合体させる）"
      ]
    },
    {
      "cell_type": "code",
      "metadata": {
        "colab": {
          "base_uri": "https://localhost:8080/",
          "height": 36
        },
        "id": "Bb1XxTgsYN22",
        "outputId": "fda0fa74-f66b-407d-b28d-fa8fac1fac24"
      },
      "source": [
        "date = df['DATE'][0]\n",
        "time = df['TIME'][0]\n",
        "str_datetime = f'{date} {time}'\n",
        "str_datetime"
      ],
      "execution_count": null,
      "outputs": [
        {
          "output_type": "execute_result",
          "data": {
            "application/vnd.google.colaboratory.intrinsic+json": {
              "type": "string"
            },
            "text/plain": [
              "'2019/1/1 0:00'"
            ]
          },
          "metadata": {
            "tags": []
          },
          "execution_count": 122
        }
      ]
    },
    {
      "cell_type": "markdown",
      "metadata": {
        "id": "KpyVVZyiZbut"
      },
      "source": [
        "datetime型へ変換(as dtは呼び名を一度変更しただけ）"
      ]
    },
    {
      "cell_type": "code",
      "metadata": {
        "id": "-D1BfEvfYN1C"
      },
      "source": [
        "from datetime import  datetime as dt"
      ],
      "execution_count": null,
      "outputs": []
    },
    {
      "cell_type": "code",
      "metadata": {
        "colab": {
          "base_uri": "https://localhost:8080/"
        },
        "id": "zhVyTQNpYNyH",
        "outputId": "841548af-f9c1-4dab-8eef-9a4c1c1af1a8"
      },
      "source": [
        "datetime = dt.strptime(str_datetime, '%Y/%m/%d %H:%M')\n",
        "datetime"
      ],
      "execution_count": null,
      "outputs": [
        {
          "output_type": "execute_result",
          "data": {
            "text/plain": [
              "datetime.datetime(2019, 1, 1, 0, 0)"
            ]
          },
          "metadata": {
            "tags": []
          },
          "execution_count": 124
        }
      ]
    },
    {
      "cell_type": "markdown",
      "metadata": {
        "id": "A8Ra9Wp-aER2"
      },
      "source": [
        "##for文を回してすべてのデータに反映させる"
      ]
    },
    {
      "cell_type": "code",
      "metadata": {
        "id": "oliTjThpYNvu"
      },
      "source": [
        "datetimes = []\n",
        "\n",
        "for index, datum in df.iterrows():\n",
        "    date = datum['DATE']\n",
        "    time = datum['TIME']\n",
        "    str_datetime = f'{date} {time}'\n",
        "    datetime = dt.strptime(str_datetime, '%Y/%m/%d %H:%M')\n",
        "    datetimes.append(datetime)"
      ],
      "execution_count": null,
      "outputs": []
    },
    {
      "cell_type": "code",
      "metadata": {
        "colab": {
          "base_uri": "https://localhost:8080/"
        },
        "id": "_agc2ImAYNuD",
        "outputId": "b8d22ef8-9a15-4af3-9c9c-ba3c81b53c9f"
      },
      "source": [
        "datetimes[:3]"
      ],
      "execution_count": null,
      "outputs": [
        {
          "output_type": "execute_result",
          "data": {
            "text/plain": [
              "[datetime.datetime(2019, 1, 1, 0, 0),\n",
              " datetime.datetime(2019, 1, 1, 1, 0),\n",
              " datetime.datetime(2019, 1, 1, 2, 0)]"
            ]
          },
          "metadata": {
            "tags": []
          },
          "execution_count": 126
        }
      ]
    },
    {
      "cell_type": "markdown",
      "metadata": {
        "id": "k3xnIQ1ubgxe"
      },
      "source": [
        "##元の表に戻す"
      ]
    },
    {
      "cell_type": "code",
      "metadata": {
        "id": "oAyfYL6zYNqU"
      },
      "source": [
        "df['ds'] = datetimes"
      ],
      "execution_count": null,
      "outputs": []
    },
    {
      "cell_type": "markdown",
      "metadata": {
        "id": "qgIMCGMFbwjG"
      },
      "source": [
        "##dsという新しいカラムを追加できる"
      ]
    },
    {
      "cell_type": "code",
      "metadata": {
        "colab": {
          "base_uri": "https://localhost:8080/",
          "height": 204
        },
        "id": "uh3PtaQEYNnw",
        "outputId": "5f3ba3e3-8d84-4102-9ae7-4044e9dd1492"
      },
      "source": [
        "df.head()"
      ],
      "execution_count": null,
      "outputs": [
        {
          "output_type": "execute_result",
          "data": {
            "text/html": [
              "<div>\n",
              "<style scoped>\n",
              "    .dataframe tbody tr th:only-of-type {\n",
              "        vertical-align: middle;\n",
              "    }\n",
              "\n",
              "    .dataframe tbody tr th {\n",
              "        vertical-align: top;\n",
              "    }\n",
              "\n",
              "    .dataframe thead th {\n",
              "        text-align: right;\n",
              "    }\n",
              "</style>\n",
              "<table border=\"1\" class=\"dataframe\">\n",
              "  <thead>\n",
              "    <tr style=\"text-align: right;\">\n",
              "      <th></th>\n",
              "      <th>DATE</th>\n",
              "      <th>TIME</th>\n",
              "      <th>実績(万kW)</th>\n",
              "      <th>ds</th>\n",
              "    </tr>\n",
              "  </thead>\n",
              "  <tbody>\n",
              "    <tr>\n",
              "      <th>0</th>\n",
              "      <td>2019/1/1</td>\n",
              "      <td>0:00</td>\n",
              "      <td>3017</td>\n",
              "      <td>2019-01-01 00:00:00</td>\n",
              "    </tr>\n",
              "    <tr>\n",
              "      <th>1</th>\n",
              "      <td>2019/1/1</td>\n",
              "      <td>1:00</td>\n",
              "      <td>2849</td>\n",
              "      <td>2019-01-01 01:00:00</td>\n",
              "    </tr>\n",
              "    <tr>\n",
              "      <th>2</th>\n",
              "      <td>2019/1/1</td>\n",
              "      <td>2:00</td>\n",
              "      <td>2730</td>\n",
              "      <td>2019-01-01 02:00:00</td>\n",
              "    </tr>\n",
              "    <tr>\n",
              "      <th>3</th>\n",
              "      <td>2019/1/1</td>\n",
              "      <td>3:00</td>\n",
              "      <td>2636</td>\n",
              "      <td>2019-01-01 03:00:00</td>\n",
              "    </tr>\n",
              "    <tr>\n",
              "      <th>4</th>\n",
              "      <td>2019/1/1</td>\n",
              "      <td>4:00</td>\n",
              "      <td>2579</td>\n",
              "      <td>2019-01-01 04:00:00</td>\n",
              "    </tr>\n",
              "  </tbody>\n",
              "</table>\n",
              "</div>"
            ],
            "text/plain": [
              "       DATE  TIME  実績(万kW)                  ds\n",
              "0  2019/1/1  0:00     3017 2019-01-01 00:00:00\n",
              "1  2019/1/1  1:00     2849 2019-01-01 01:00:00\n",
              "2  2019/1/1  2:00     2730 2019-01-01 02:00:00\n",
              "3  2019/1/1  3:00     2636 2019-01-01 03:00:00\n",
              "4  2019/1/1  4:00     2579 2019-01-01 04:00:00"
            ]
          },
          "metadata": {
            "tags": []
          },
          "execution_count": 128
        }
      ]
    },
    {
      "cell_type": "markdown",
      "metadata": {
        "id": "zrORFTO6cC8i"
      },
      "source": [
        "##実績をYというカラム名に変更する\n"
      ]
    },
    {
      "cell_type": "code",
      "metadata": {
        "colab": {
          "base_uri": "https://localhost:8080/",
          "height": 204
        },
        "id": "1UEaVgTTbnLq",
        "outputId": "c96e15e8-5f31-4477-9915-f5ac3e71d6c7"
      },
      "source": [
        "df = df.rename(columns={'実績(万kW)': 'y'})\n",
        "df.head()"
      ],
      "execution_count": null,
      "outputs": [
        {
          "output_type": "execute_result",
          "data": {
            "text/html": [
              "<div>\n",
              "<style scoped>\n",
              "    .dataframe tbody tr th:only-of-type {\n",
              "        vertical-align: middle;\n",
              "    }\n",
              "\n",
              "    .dataframe tbody tr th {\n",
              "        vertical-align: top;\n",
              "    }\n",
              "\n",
              "    .dataframe thead th {\n",
              "        text-align: right;\n",
              "    }\n",
              "</style>\n",
              "<table border=\"1\" class=\"dataframe\">\n",
              "  <thead>\n",
              "    <tr style=\"text-align: right;\">\n",
              "      <th></th>\n",
              "      <th>DATE</th>\n",
              "      <th>TIME</th>\n",
              "      <th>y</th>\n",
              "      <th>ds</th>\n",
              "    </tr>\n",
              "  </thead>\n",
              "  <tbody>\n",
              "    <tr>\n",
              "      <th>0</th>\n",
              "      <td>2019/1/1</td>\n",
              "      <td>0:00</td>\n",
              "      <td>3017</td>\n",
              "      <td>2019-01-01 00:00:00</td>\n",
              "    </tr>\n",
              "    <tr>\n",
              "      <th>1</th>\n",
              "      <td>2019/1/1</td>\n",
              "      <td>1:00</td>\n",
              "      <td>2849</td>\n",
              "      <td>2019-01-01 01:00:00</td>\n",
              "    </tr>\n",
              "    <tr>\n",
              "      <th>2</th>\n",
              "      <td>2019/1/1</td>\n",
              "      <td>2:00</td>\n",
              "      <td>2730</td>\n",
              "      <td>2019-01-01 02:00:00</td>\n",
              "    </tr>\n",
              "    <tr>\n",
              "      <th>3</th>\n",
              "      <td>2019/1/1</td>\n",
              "      <td>3:00</td>\n",
              "      <td>2636</td>\n",
              "      <td>2019-01-01 03:00:00</td>\n",
              "    </tr>\n",
              "    <tr>\n",
              "      <th>4</th>\n",
              "      <td>2019/1/1</td>\n",
              "      <td>4:00</td>\n",
              "      <td>2579</td>\n",
              "      <td>2019-01-01 04:00:00</td>\n",
              "    </tr>\n",
              "  </tbody>\n",
              "</table>\n",
              "</div>"
            ],
            "text/plain": [
              "       DATE  TIME     y                  ds\n",
              "0  2019/1/1  0:00  3017 2019-01-01 00:00:00\n",
              "1  2019/1/1  1:00  2849 2019-01-01 01:00:00\n",
              "2  2019/1/1  2:00  2730 2019-01-01 02:00:00\n",
              "3  2019/1/1  3:00  2636 2019-01-01 03:00:00\n",
              "4  2019/1/1  4:00  2579 2019-01-01 04:00:00"
            ]
          },
          "metadata": {
            "tags": []
          },
          "execution_count": 129
        }
      ]
    },
    {
      "cell_type": "markdown",
      "metadata": {
        "id": "x4NQTTx5cvA-"
      },
      "source": [
        "#予測モデルの構築"
      ]
    },
    {
      "cell_type": "code",
      "metadata": {
        "id": "1Dh-M7RVbnJO"
      },
      "source": [
        "model = Prophet()"
      ],
      "execution_count": null,
      "outputs": []
    },
    {
      "cell_type": "code",
      "metadata": {
        "colab": {
          "base_uri": "https://localhost:8080/"
        },
        "id": "MgmPaBnxppXS",
        "outputId": "daf73c01-858c-42b6-b269-0a8385478588"
      },
      "source": [
        "model.fit(df)"
      ],
      "execution_count": null,
      "outputs": [
        {
          "output_type": "execute_result",
          "data": {
            "text/plain": [
              "<fbprophet.forecaster.Prophet at 0x7f525cfc8490>"
            ]
          },
          "metadata": {
            "tags": []
          },
          "execution_count": 131
        }
      ]
    },
    {
      "cell_type": "markdown",
      "metadata": {
        "id": "_5p8MwZIqQYz"
      },
      "source": [
        "##予測するためのデータを作成していく"
      ]
    },
    {
      "cell_type": "markdown",
      "metadata": {
        "id": "UIJWyJtiqxlO"
      },
      "source": [
        "freqとは頻度を確認するもの。（今回は時間単位で作成）\n",
        "\n",
        "未来のデータ365日×24時間を1時間おきに表示するデータフレームを作成する"
      ]
    },
    {
      "cell_type": "code",
      "metadata": {
        "id": "4lwWzlw0ppS0"
      },
      "source": [
        "future = model.make_future_dataframe(24*365, freq='H')"
      ],
      "execution_count": null,
      "outputs": []
    },
    {
      "cell_type": "code",
      "metadata": {
        "colab": {
          "base_uri": "https://localhost:8080/",
          "height": 204
        },
        "id": "zYddrHeqppLV",
        "outputId": "7e6cb1a8-9777-4cd7-e9a4-b97d2d61ba29"
      },
      "source": [
        "future.tail()"
      ],
      "execution_count": null,
      "outputs": [
        {
          "output_type": "execute_result",
          "data": {
            "text/html": [
              "<div>\n",
              "<style scoped>\n",
              "    .dataframe tbody tr th:only-of-type {\n",
              "        vertical-align: middle;\n",
              "    }\n",
              "\n",
              "    .dataframe tbody tr th {\n",
              "        vertical-align: top;\n",
              "    }\n",
              "\n",
              "    .dataframe thead th {\n",
              "        text-align: right;\n",
              "    }\n",
              "</style>\n",
              "<table border=\"1\" class=\"dataframe\">\n",
              "  <thead>\n",
              "    <tr style=\"text-align: right;\">\n",
              "      <th></th>\n",
              "      <th>ds</th>\n",
              "    </tr>\n",
              "  </thead>\n",
              "  <tbody>\n",
              "    <tr>\n",
              "      <th>31579</th>\n",
              "      <td>2022-08-08 19:00:00</td>\n",
              "    </tr>\n",
              "    <tr>\n",
              "      <th>31580</th>\n",
              "      <td>2022-08-08 20:00:00</td>\n",
              "    </tr>\n",
              "    <tr>\n",
              "      <th>31581</th>\n",
              "      <td>2022-08-08 21:00:00</td>\n",
              "    </tr>\n",
              "    <tr>\n",
              "      <th>31582</th>\n",
              "      <td>2022-08-08 22:00:00</td>\n",
              "    </tr>\n",
              "    <tr>\n",
              "      <th>31583</th>\n",
              "      <td>2022-08-08 23:00:00</td>\n",
              "    </tr>\n",
              "  </tbody>\n",
              "</table>\n",
              "</div>"
            ],
            "text/plain": [
              "                       ds\n",
              "31579 2022-08-08 19:00:00\n",
              "31580 2022-08-08 20:00:00\n",
              "31581 2022-08-08 21:00:00\n",
              "31582 2022-08-08 22:00:00\n",
              "31583 2022-08-08 23:00:00"
            ]
          },
          "metadata": {
            "tags": []
          },
          "execution_count": 133
        }
      ]
    },
    {
      "cell_type": "markdown",
      "metadata": {
        "id": "n_9aDXPWrdq0"
      },
      "source": [
        "##実際に予測する\n",
        "予測値を入れる(実際に電力の予測を計算してくれる）"
      ]
    },
    {
      "cell_type": "code",
      "metadata": {
        "id": "J6mn_M7nbnGc"
      },
      "source": [
        "forecast = model.predict(future)"
      ],
      "execution_count": null,
      "outputs": []
    },
    {
      "cell_type": "code",
      "metadata": {
        "id": "Np3GisSYYNgv"
      },
      "source": [
        "import matplotlib.pyplot as plt"
      ],
      "execution_count": null,
      "outputs": []
    },
    {
      "cell_type": "markdown",
      "metadata": {
        "id": "mtkSATjWssFu"
      },
      "source": [
        "青色：予測値\n",
        "黒色：実測値"
      ]
    },
    {
      "cell_type": "code",
      "metadata": {
        "colab": {
          "base_uri": "https://localhost:8080/",
          "height": 441
        },
        "id": "8O8RUPwXYNVo",
        "outputId": "a6ca5cc0-11a6-48eb-df4d-c0b635862701"
      },
      "source": [
        "model.plot(forecast)\n",
        "plt.show()"
      ],
      "execution_count": null,
      "outputs": [
        {
          "output_type": "display_data",
          "data": {
            "image/png": "[encoded data removed]",
            "text/plain": [
              "<Figure size 720x432 with 1 Axes>"
            ]
          },
          "metadata": {
            "tags": []
          }
        }
      ]
    },
    {
      "cell_type": "markdown",
      "metadata": {
        "id": "HO5x5tNqtTxk"
      },
      "source": [
        "#予測結果の集約（実測値と予測値をまとめる）"
      ]
    },
    {
      "cell_type": "code",
      "metadata": {
        "id": "sWYWa7qOtTon"
      },
      "source": [
        "df_2022 = pd.read_csv('https://www.tepco.co.jp/forecast/html/images/juyo-2021.csv', encoding='shift-jis', skiprows=1)"
      ],
      "execution_count": null,
      "outputs": []
    },
    {
      "cell_type": "code",
      "metadata": {
        "colab": {
          "base_uri": "https://localhost:8080/",
          "height": 204
        },
        "id": "wBAzV7yPtTih",
        "outputId": "92c6f6f1-4249-4f79-fa73-d54f5c9d309d"
      },
      "source": [
        "df_2022.head()"
      ],
      "execution_count": null,
      "outputs": [
        {
          "output_type": "execute_result",
          "data": {
            "text/html": [
              "<div>\n",
              "<style scoped>\n",
              "    .dataframe tbody tr th:only-of-type {\n",
              "        vertical-align: middle;\n",
              "    }\n",
              "\n",
              "    .dataframe tbody tr th {\n",
              "        vertical-align: top;\n",
              "    }\n",
              "\n",
              "    .dataframe thead th {\n",
              "        text-align: right;\n",
              "    }\n",
              "</style>\n",
              "<table border=\"1\" class=\"dataframe\">\n",
              "  <thead>\n",
              "    <tr style=\"text-align: right;\">\n",
              "      <th></th>\n",
              "      <th>DATE</th>\n",
              "      <th>TIME</th>\n",
              "      <th>実績(万kW)</th>\n",
              "    </tr>\n",
              "  </thead>\n",
              "  <tbody>\n",
              "    <tr>\n",
              "      <th>0</th>\n",
              "      <td>2021/1/1</td>\n",
              "      <td>0:00</td>\n",
              "      <td>3184</td>\n",
              "    </tr>\n",
              "    <tr>\n",
              "      <th>1</th>\n",
              "      <td>2021/1/1</td>\n",
              "      <td>1:00</td>\n",
              "      <td>2978</td>\n",
              "    </tr>\n",
              "    <tr>\n",
              "      <th>2</th>\n",
              "      <td>2021/1/1</td>\n",
              "      <td>2:00</td>\n",
              "      <td>2834</td>\n",
              "    </tr>\n",
              "    <tr>\n",
              "      <th>3</th>\n",
              "      <td>2021/1/1</td>\n",
              "      <td>3:00</td>\n",
              "      <td>2743</td>\n",
              "    </tr>\n",
              "    <tr>\n",
              "      <th>4</th>\n",
              "      <td>2021/1/1</td>\n",
              "      <td>4:00</td>\n",
              "      <td>2697</td>\n",
              "    </tr>\n",
              "  </tbody>\n",
              "</table>\n",
              "</div>"
            ],
            "text/plain": [
              "       DATE  TIME  実績(万kW)\n",
              "0  2021/1/1  0:00     3184\n",
              "1  2021/1/1  1:00     2978\n",
              "2  2021/1/1  2:00     2834\n",
              "3  2021/1/1  3:00     2743\n",
              "4  2021/1/1  4:00     2697"
            ]
          },
          "metadata": {
            "tags": []
          },
          "execution_count": 138
        }
      ]
    },
    {
      "cell_type": "markdown",
      "metadata": {
        "id": "lQCD5szzuqiL"
      },
      "source": [
        "###条件付きでのデータ取得"
      ]
    },
    {
      "cell_type": "code",
      "metadata": {
        "id": "gewsxq4ctTfn"
      },
      "source": [
        "forecast_2022 = forecast[forecast['ds'] >= dt(2022,1,1)].reset_index(drop=True)"
      ],
      "execution_count": null,
      "outputs": []
    },
    {
      "cell_type": "code",
      "metadata": {
        "colab": {
          "base_uri": "https://localhost:8080/",
          "height": 392
        },
        "id": "oznk0qJbtTct",
        "outputId": "19d07df3-676c-489b-9427-90433a4fc09c"
      },
      "source": [
        "forecast_2022.head()"
      ],
      "execution_count": null,
      "outputs": [
        {
          "output_type": "execute_result",
          "data": {
            "text/html": [
              "<div>\n",
              "<style scoped>\n",
              "    .dataframe tbody tr th:only-of-type {\n",
              "        vertical-align: middle;\n",
              "    }\n",
              "\n",
              "    .dataframe tbody tr th {\n",
              "        vertical-align: top;\n",
              "    }\n",
              "\n",
              "    .dataframe thead th {\n",
              "        text-align: right;\n",
              "    }\n",
              "</style>\n",
              "<table border=\"1\" class=\"dataframe\">\n",
              "  <thead>\n",
              "    <tr style=\"text-align: right;\">\n",
              "      <th></th>\n",
              "      <th>ds</th>\n",
              "      <th>trend</th>\n",
              "      <th>yhat_lower</th>\n",
              "      <th>yhat_upper</th>\n",
              "      <th>trend_lower</th>\n",
              "      <th>trend_upper</th>\n",
              "      <th>additive_terms</th>\n",
              "      <th>additive_terms_lower</th>\n",
              "      <th>additive_terms_upper</th>\n",
              "      <th>daily</th>\n",
              "      <th>daily_lower</th>\n",
              "      <th>daily_upper</th>\n",
              "      <th>weekly</th>\n",
              "      <th>weekly_lower</th>\n",
              "      <th>weekly_upper</th>\n",
              "      <th>yearly</th>\n",
              "      <th>yearly_lower</th>\n",
              "      <th>yearly_upper</th>\n",
              "      <th>multiplicative_terms</th>\n",
              "      <th>multiplicative_terms_lower</th>\n",
              "      <th>multiplicative_terms_upper</th>\n",
              "      <th>yhat</th>\n",
              "    </tr>\n",
              "  </thead>\n",
              "  <tbody>\n",
              "    <tr>\n",
              "      <th>0</th>\n",
              "      <td>2022-01-01 00:00:00</td>\n",
              "      <td>3708.618682</td>\n",
              "      <td>2554.195211</td>\n",
              "      <td>4580.177698</td>\n",
              "      <td>2738.896509</td>\n",
              "      <td>4630.560527</td>\n",
              "      <td>-112.959929</td>\n",
              "      <td>-112.959929</td>\n",
              "      <td>-112.959929</td>\n",
              "      <td>-500.258555</td>\n",
              "      <td>-500.258555</td>\n",
              "      <td>-500.258555</td>\n",
              "      <td>28.086745</td>\n",
              "      <td>28.086745</td>\n",
              "      <td>28.086745</td>\n",
              "      <td>359.211882</td>\n",
              "      <td>359.211882</td>\n",
              "      <td>359.211882</td>\n",
              "      <td>0.0</td>\n",
              "      <td>0.0</td>\n",
              "      <td>0.0</td>\n",
              "      <td>3595.658753</td>\n",
              "    </tr>\n",
              "    <tr>\n",
              "      <th>1</th>\n",
              "      <td>2022-01-01 01:00:00</td>\n",
              "      <td>3708.687271</td>\n",
              "      <td>2470.368643</td>\n",
              "      <td>4451.066310</td>\n",
              "      <td>2738.656665</td>\n",
              "      <td>4631.173063</td>\n",
              "      <td>-241.971703</td>\n",
              "      <td>-241.971703</td>\n",
              "      <td>-241.971703</td>\n",
              "      <td>-616.780552</td>\n",
              "      <td>-616.780552</td>\n",
              "      <td>-616.780552</td>\n",
              "      <td>15.469330</td>\n",
              "      <td>15.469330</td>\n",
              "      <td>15.469330</td>\n",
              "      <td>359.339518</td>\n",
              "      <td>359.339518</td>\n",
              "      <td>359.339518</td>\n",
              "      <td>0.0</td>\n",
              "      <td>0.0</td>\n",
              "      <td>0.0</td>\n",
              "      <td>3466.715567</td>\n",
              "    </tr>\n",
              "    <tr>\n",
              "      <th>2</th>\n",
              "      <td>2022-01-01 02:00:00</td>\n",
              "      <td>3708.755860</td>\n",
              "      <td>2331.848887</td>\n",
              "      <td>4333.278699</td>\n",
              "      <td>2738.416821</td>\n",
              "      <td>4631.785599</td>\n",
              "      <td>-319.809688</td>\n",
              "      <td>-319.809688</td>\n",
              "      <td>-319.809688</td>\n",
              "      <td>-681.350483</td>\n",
              "      <td>-681.350483</td>\n",
              "      <td>-681.350483</td>\n",
              "      <td>2.068704</td>\n",
              "      <td>2.068704</td>\n",
              "      <td>2.068704</td>\n",
              "      <td>359.472091</td>\n",
              "      <td>359.472091</td>\n",
              "      <td>359.472091</td>\n",
              "      <td>0.0</td>\n",
              "      <td>0.0</td>\n",
              "      <td>0.0</td>\n",
              "      <td>3388.946172</td>\n",
              "    </tr>\n",
              "    <tr>\n",
              "      <th>3</th>\n",
              "      <td>2022-01-01 03:00:00</td>\n",
              "      <td>3708.824449</td>\n",
              "      <td>2256.105627</td>\n",
              "      <td>4278.494891</td>\n",
              "      <td>2738.176976</td>\n",
              "      <td>4632.398135</td>\n",
              "      <td>-357.900171</td>\n",
              "      <td>-357.900171</td>\n",
              "      <td>-357.900171</td>\n",
              "      <td>-705.433524</td>\n",
              "      <td>-705.433524</td>\n",
              "      <td>-705.433524</td>\n",
              "      <td>-12.076253</td>\n",
              "      <td>-12.076253</td>\n",
              "      <td>-12.076253</td>\n",
              "      <td>359.609605</td>\n",
              "      <td>359.609605</td>\n",
              "      <td>359.609605</td>\n",
              "      <td>0.0</td>\n",
              "      <td>0.0</td>\n",
              "      <td>0.0</td>\n",
              "      <td>3350.924277</td>\n",
              "    </tr>\n",
              "    <tr>\n",
              "      <th>4</th>\n",
              "      <td>2022-01-01 04:00:00</td>\n",
              "      <td>3708.893038</td>\n",
              "      <td>2360.231876</td>\n",
              "      <td>4376.789053</td>\n",
              "      <td>2737.937132</td>\n",
              "      <td>4633.010671</td>\n",
              "      <td>-349.726210</td>\n",
              "      <td>-349.726210</td>\n",
              "      <td>-349.726210</td>\n",
              "      <td>-682.560148</td>\n",
              "      <td>-682.560148</td>\n",
              "      <td>-682.560148</td>\n",
              "      <td>-26.918129</td>\n",
              "      <td>-26.918129</td>\n",
              "      <td>-26.918129</td>\n",
              "      <td>359.752067</td>\n",
              "      <td>359.752067</td>\n",
              "      <td>359.752067</td>\n",
              "      <td>0.0</td>\n",
              "      <td>0.0</td>\n",
              "      <td>0.0</td>\n",
              "      <td>3359.166828</td>\n",
              "    </tr>\n",
              "  </tbody>\n",
              "</table>\n",
              "</div>"
            ],
            "text/plain": [
              "                   ds        trend  ...  multiplicative_terms_upper         yhat\n",
              "0 2022-01-01 00:00:00  3708.618682  ...                         0.0  3595.658753\n",
              "1 2022-01-01 01:00:00  3708.687271  ...                         0.0  3466.715567\n",
              "2 2022-01-01 02:00:00  3708.755860  ...                         0.0  3388.946172\n",
              "3 2022-01-01 03:00:00  3708.824449  ...                         0.0  3350.924277\n",
              "4 2022-01-01 04:00:00  3708.893038  ...                         0.0  3359.166828\n",
              "\n",
              "[5 rows x 22 columns]"
            ]
          },
          "metadata": {
            "tags": []
          },
          "execution_count": 140
        }
      ]
    },
    {
      "cell_type": "code",
      "metadata": {
        "colab": {
          "base_uri": "https://localhost:8080/",
          "height": 204
        },
        "id": "a_eQqBqRtTYT",
        "outputId": "d1bcf398-7cf7-4722-da8d-4064219116e0"
      },
      "source": [
        "df_2022 = df_2022.rename(columns={'実績(万kW)': 'y'})\n",
        "df_2022.head()"
      ],
      "execution_count": null,
      "outputs": [
        {
          "output_type": "execute_result",
          "data": {
            "text/html": [
              "<div>\n",
              "<style scoped>\n",
              "    .dataframe tbody tr th:only-of-type {\n",
              "        vertical-align: middle;\n",
              "    }\n",
              "\n",
              "    .dataframe tbody tr th {\n",
              "        vertical-align: top;\n",
              "    }\n",
              "\n",
              "    .dataframe thead th {\n",
              "        text-align: right;\n",
              "    }\n",
              "</style>\n",
              "<table border=\"1\" class=\"dataframe\">\n",
              "  <thead>\n",
              "    <tr style=\"text-align: right;\">\n",
              "      <th></th>\n",
              "      <th>DATE</th>\n",
              "      <th>TIME</th>\n",
              "      <th>y</th>\n",
              "    </tr>\n",
              "  </thead>\n",
              "  <tbody>\n",
              "    <tr>\n",
              "      <th>0</th>\n",
              "      <td>2021/1/1</td>\n",
              "      <td>0:00</td>\n",
              "      <td>3184</td>\n",
              "    </tr>\n",
              "    <tr>\n",
              "      <th>1</th>\n",
              "      <td>2021/1/1</td>\n",
              "      <td>1:00</td>\n",
              "      <td>2978</td>\n",
              "    </tr>\n",
              "    <tr>\n",
              "      <th>2</th>\n",
              "      <td>2021/1/1</td>\n",
              "      <td>2:00</td>\n",
              "      <td>2834</td>\n",
              "    </tr>\n",
              "    <tr>\n",
              "      <th>3</th>\n",
              "      <td>2021/1/1</td>\n",
              "      <td>3:00</td>\n",
              "      <td>2743</td>\n",
              "    </tr>\n",
              "    <tr>\n",
              "      <th>4</th>\n",
              "      <td>2021/1/1</td>\n",
              "      <td>4:00</td>\n",
              "      <td>2697</td>\n",
              "    </tr>\n",
              "  </tbody>\n",
              "</table>\n",
              "</div>"
            ],
            "text/plain": [
              "       DATE  TIME     y\n",
              "0  2021/1/1  0:00  3184\n",
              "1  2021/1/1  1:00  2978\n",
              "2  2021/1/1  2:00  2834\n",
              "3  2021/1/1  3:00  2743\n",
              "4  2021/1/1  4:00  2697"
            ]
          },
          "metadata": {
            "tags": []
          },
          "execution_count": 141
        }
      ]
    },
    {
      "cell_type": "markdown",
      "metadata": {
        "id": "2lLz--SUwG5W"
      },
      "source": [
        "yhat ⇒　予測値"
      ]
    },
    {
      "cell_type": "code",
      "metadata": {
        "id": "hIVf8tyftTVo"
      },
      "source": [
        "# forecast_2022['yhat']"
      ],
      "execution_count": null,
      "outputs": []
    },
    {
      "cell_type": "code",
      "metadata": {
        "id": "1QOuyEz5tTKc"
      },
      "source": [
        "results = pd.DataFrame()"
      ],
      "execution_count": null,
      "outputs": []
    },
    {
      "cell_type": "markdown",
      "metadata": {
        "id": "35vU09VkwxAV"
      },
      "source": [
        "df_2022は実測値が入っている\n",
        "\n",
        "results[t]のカラムに入れる\n",
        "\n",
        "どれぐらい予測値と実測値差があるのか確認する（diff(引き算))"
      ]
    },
    {
      "cell_type": "code",
      "metadata": {
        "colab": {
          "base_uri": "https://localhost:8080/",
          "height": 204
        },
        "id": "i7VGK8Gnwbj7",
        "outputId": "3cc38bcc-e83c-421b-ef09-9d728b81d156"
      },
      "source": [
        "#実測値\n",
        "results['t'] = df_2022['y']\n",
        "#予測値\n",
        "results['y'] = forecast_2022['yhat']\n",
        "#上記の引き算を行う\n",
        "results['diff'] = results['t'] - results['y']\n",
        "results.head()"
      ],
      "execution_count": null,
      "outputs": [
        {
          "output_type": "execute_result",
          "data": {
            "text/html": [
              "<div>\n",
              "<style scoped>\n",
              "    .dataframe tbody tr th:only-of-type {\n",
              "        vertical-align: middle;\n",
              "    }\n",
              "\n",
              "    .dataframe tbody tr th {\n",
              "        vertical-align: top;\n",
              "    }\n",
              "\n",
              "    .dataframe thead th {\n",
              "        text-align: right;\n",
              "    }\n",
              "</style>\n",
              "<table border=\"1\" class=\"dataframe\">\n",
              "  <thead>\n",
              "    <tr style=\"text-align: right;\">\n",
              "      <th></th>\n",
              "      <th>t</th>\n",
              "      <th>y</th>\n",
              "      <th>diff</th>\n",
              "    </tr>\n",
              "  </thead>\n",
              "  <tbody>\n",
              "    <tr>\n",
              "      <th>0</th>\n",
              "      <td>3184</td>\n",
              "      <td>3595.658753</td>\n",
              "      <td>-411.658753</td>\n",
              "    </tr>\n",
              "    <tr>\n",
              "      <th>1</th>\n",
              "      <td>2978</td>\n",
              "      <td>3466.715567</td>\n",
              "      <td>-488.715567</td>\n",
              "    </tr>\n",
              "    <tr>\n",
              "      <th>2</th>\n",
              "      <td>2834</td>\n",
              "      <td>3388.946172</td>\n",
              "      <td>-554.946172</td>\n",
              "    </tr>\n",
              "    <tr>\n",
              "      <th>3</th>\n",
              "      <td>2743</td>\n",
              "      <td>3350.924277</td>\n",
              "      <td>-607.924277</td>\n",
              "    </tr>\n",
              "    <tr>\n",
              "      <th>4</th>\n",
              "      <td>2697</td>\n",
              "      <td>3359.166828</td>\n",
              "      <td>-662.166828</td>\n",
              "    </tr>\n",
              "  </tbody>\n",
              "</table>\n",
              "</div>"
            ],
            "text/plain": [
              "      t            y        diff\n",
              "0  3184  3595.658753 -411.658753\n",
              "1  2978  3466.715567 -488.715567\n",
              "2  2834  3388.946172 -554.946172\n",
              "3  2743  3350.924277 -607.924277\n",
              "4  2697  3359.166828 -662.166828"
            ]
          },
          "metadata": {
            "tags": []
          },
          "execution_count": 144
        }
      ]
    },
    {
      "cell_type": "markdown",
      "metadata": {
        "id": "HB-2RcZ7yE7r"
      },
      "source": [
        "#評価指標（MAPE）\n",
        "予測結果が良かったのかどうかを評価していきます。"
      ]
    },
    {
      "cell_type": "code",
      "metadata": {
        "id": "aWn_uJRewbil"
      },
      "source": [
        "import numpy as np "
      ],
      "execution_count": null,
      "outputs": []
    },
    {
      "cell_type": "markdown",
      "metadata": {
        "id": "vfJLgTH6zXhD"
      },
      "source": [
        "全体的に〇％ずれていますという意味"
      ]
    },
    {
      "cell_type": "code",
      "metadata": {
        "colab": {
          "base_uri": "https://localhost:8080/"
        },
        "id": "omnf3fWMwbeu",
        "outputId": "431e3671-8702-440e-c20d-1c49e2023c1b"
      },
      "source": [
        "np.mean(abs((results['y']- results['t'])/results['y'] )*100)"
      ],
      "execution_count": null,
      "outputs": [
        {
          "output_type": "execute_result",
          "data": {
            "text/plain": [
              "16.364995369003317"
            ]
          },
          "metadata": {
            "tags": []
          },
          "execution_count": 146
        }
      ]
    },
    {
      "cell_type": "markdown",
      "metadata": {
        "id": "T_8-dzS2zkJc"
      },
      "source": [
        "評価指標をもう少し少なくできるように、データを追加していく。\n",
        "#精度向上のための施策\n",
        "（データの追加休日・猛暑日をいれてみる）"
      ]
    },
    {
      "cell_type": "code",
      "metadata": {
        "colab": {
          "base_uri": "https://localhost:8080/",
          "height": 204
        },
        "id": "II7NpWe5zs-B",
        "outputId": "647864c9-e76f-4510-a9d6-c5861e079c52"
      },
      "source": [
        "import pandas as pd\n",
        "df_holidays =pd.read_csv('holidays.csv')\n",
        "df_holidays.head()"
      ],
      "execution_count": null,
      "outputs": [
        {
          "output_type": "execute_result",
          "data": {
            "text/html": [
              "<div>\n",
              "<style scoped>\n",
              "    .dataframe tbody tr th:only-of-type {\n",
              "        vertical-align: middle;\n",
              "    }\n",
              "\n",
              "    .dataframe tbody tr th {\n",
              "        vertical-align: top;\n",
              "    }\n",
              "\n",
              "    .dataframe thead th {\n",
              "        text-align: right;\n",
              "    }\n",
              "</style>\n",
              "<table border=\"1\" class=\"dataframe\">\n",
              "  <thead>\n",
              "    <tr style=\"text-align: right;\">\n",
              "      <th></th>\n",
              "      <th>ds</th>\n",
              "      <th>holiday</th>\n",
              "      <th>lower_window</th>\n",
              "      <th>upper_window</th>\n",
              "    </tr>\n",
              "  </thead>\n",
              "  <tbody>\n",
              "    <tr>\n",
              "      <th>0</th>\n",
              "      <td>2017/01/01 0:00:00</td>\n",
              "      <td>holiday</td>\n",
              "      <td>0</td>\n",
              "      <td>1</td>\n",
              "    </tr>\n",
              "    <tr>\n",
              "      <th>1</th>\n",
              "      <td>2017/01/01 1:00:00</td>\n",
              "      <td>holiday</td>\n",
              "      <td>0</td>\n",
              "      <td>1</td>\n",
              "    </tr>\n",
              "    <tr>\n",
              "      <th>2</th>\n",
              "      <td>2017/01/01 10:00:00</td>\n",
              "      <td>holiday</td>\n",
              "      <td>0</td>\n",
              "      <td>1</td>\n",
              "    </tr>\n",
              "    <tr>\n",
              "      <th>3</th>\n",
              "      <td>2017/01/01 11:00:00</td>\n",
              "      <td>holiday</td>\n",
              "      <td>0</td>\n",
              "      <td>1</td>\n",
              "    </tr>\n",
              "    <tr>\n",
              "      <th>4</th>\n",
              "      <td>2017/01/01 12:00:00</td>\n",
              "      <td>holiday</td>\n",
              "      <td>0</td>\n",
              "      <td>1</td>\n",
              "    </tr>\n",
              "  </tbody>\n",
              "</table>\n",
              "</div>"
            ],
            "text/plain": [
              "                    ds  holiday  lower_window  upper_window\n",
              "0   2017/01/01 0:00:00  holiday             0             1\n",
              "1   2017/01/01 1:00:00  holiday             0             1\n",
              "2  2017/01/01 10:00:00  holiday             0             1\n",
              "3  2017/01/01 11:00:00  holiday             0             1\n",
              "4  2017/01/01 12:00:00  holiday             0             1"
            ]
          },
          "metadata": {
            "tags": []
          },
          "execution_count": 174
        }
      ]
    },
    {
      "cell_type": "code",
      "metadata": {
        "id": "nZmm7Bxmz7e3",
        "colab": {
          "base_uri": "https://localhost:8080/"
        },
        "outputId": "5ef66ad0-f9fc-460a-84d4-6c11b16161a4"
      },
      "source": [
        "#ｙ＝実測値\n",
        "df.y.max()"
      ],
      "execution_count": null,
      "outputs": [
        {
          "output_type": "execute_result",
          "data": {
            "text/plain": [
              "5604"
            ]
          },
          "metadata": {
            "tags": []
          },
          "execution_count": 175
        }
      ]
    },
    {
      "cell_type": "code",
      "metadata": {
        "id": "XvT7xVe1z7cY",
        "colab": {
          "base_uri": "https://localhost:8080/",
          "height": 204
        },
        "outputId": "1d98e7c3-8ded-4bd3-d70d-3d49005b8803"
      },
      "source": [
        "#cap = 推測値（上限）\n",
        "df['cap'] = 5700\n",
        "df.head()"
      ],
      "execution_count": null,
      "outputs": [
        {
          "output_type": "execute_result",
          "data": {
            "text/html": [
              "<div>\n",
              "<style scoped>\n",
              "    .dataframe tbody tr th:only-of-type {\n",
              "        vertical-align: middle;\n",
              "    }\n",
              "\n",
              "    .dataframe tbody tr th {\n",
              "        vertical-align: top;\n",
              "    }\n",
              "\n",
              "    .dataframe thead th {\n",
              "        text-align: right;\n",
              "    }\n",
              "</style>\n",
              "<table border=\"1\" class=\"dataframe\">\n",
              "  <thead>\n",
              "    <tr style=\"text-align: right;\">\n",
              "      <th></th>\n",
              "      <th>DATE</th>\n",
              "      <th>TIME</th>\n",
              "      <th>y</th>\n",
              "      <th>ds</th>\n",
              "      <th>cap</th>\n",
              "    </tr>\n",
              "  </thead>\n",
              "  <tbody>\n",
              "    <tr>\n",
              "      <th>0</th>\n",
              "      <td>2019/1/1</td>\n",
              "      <td>0:00</td>\n",
              "      <td>3017</td>\n",
              "      <td>2019-01-01 00:00:00</td>\n",
              "      <td>5700</td>\n",
              "    </tr>\n",
              "    <tr>\n",
              "      <th>1</th>\n",
              "      <td>2019/1/1</td>\n",
              "      <td>1:00</td>\n",
              "      <td>2849</td>\n",
              "      <td>2019-01-01 01:00:00</td>\n",
              "      <td>5700</td>\n",
              "    </tr>\n",
              "    <tr>\n",
              "      <th>2</th>\n",
              "      <td>2019/1/1</td>\n",
              "      <td>2:00</td>\n",
              "      <td>2730</td>\n",
              "      <td>2019-01-01 02:00:00</td>\n",
              "      <td>5700</td>\n",
              "    </tr>\n",
              "    <tr>\n",
              "      <th>3</th>\n",
              "      <td>2019/1/1</td>\n",
              "      <td>3:00</td>\n",
              "      <td>2636</td>\n",
              "      <td>2019-01-01 03:00:00</td>\n",
              "      <td>5700</td>\n",
              "    </tr>\n",
              "    <tr>\n",
              "      <th>4</th>\n",
              "      <td>2019/1/1</td>\n",
              "      <td>4:00</td>\n",
              "      <td>2579</td>\n",
              "      <td>2019-01-01 04:00:00</td>\n",
              "      <td>5700</td>\n",
              "    </tr>\n",
              "  </tbody>\n",
              "</table>\n",
              "</div>"
            ],
            "text/plain": [
              "       DATE  TIME     y                  ds   cap\n",
              "0  2019/1/1  0:00  3017 2019-01-01 00:00:00  5700\n",
              "1  2019/1/1  1:00  2849 2019-01-01 01:00:00  5700\n",
              "2  2019/1/1  2:00  2730 2019-01-01 02:00:00  5700\n",
              "3  2019/1/1  3:00  2636 2019-01-01 03:00:00  5700\n",
              "4  2019/1/1  4:00  2579 2019-01-01 04:00:00  5700"
            ]
          },
          "metadata": {
            "tags": []
          },
          "execution_count": 176
        }
      ]
    },
    {
      "cell_type": "code",
      "metadata": {
        "id": "6sYJW_dbz7Z-"
      },
      "source": [
        "model = Prophet(growth='logistic',\n",
        "                yearly_seasonality=True,\n",
        "                weekly_seasonality=True,\n",
        "                daily_seasonality=True,\n",
        "                holidays=df_holidays\n",
        ")"
      ],
      "execution_count": null,
      "outputs": []
    },
    {
      "cell_type": "code",
      "metadata": {
        "id": "qVJ9M8Mvz7XD",
        "colab": {
          "base_uri": "https://localhost:8080/"
        },
        "outputId": "42510e2b-1ee4-4468-b54d-6cd19c05dbfa"
      },
      "source": [
        "model.fit(df)"
      ],
      "execution_count": null,
      "outputs": [
        {
          "output_type": "execute_result",
          "data": {
            "text/plain": [
              "<fbprophet.forecaster.Prophet at 0x7f525d6d8750>"
            ]
          },
          "metadata": {
            "tags": []
          },
          "execution_count": 178
        }
      ]
    },
    {
      "cell_type": "code",
      "metadata": {
        "id": "9eHAN6PuAozw"
      },
      "source": [
        "future['cap'] = 5700"
      ],
      "execution_count": null,
      "outputs": []
    },
    {
      "cell_type": "code",
      "metadata": {
        "id": "4-eaQphsAonS"
      },
      "source": [
        "forecast = model.predict(future)"
      ],
      "execution_count": null,
      "outputs": []
    },
    {
      "cell_type": "code",
      "metadata": {
        "colab": {
          "base_uri": "https://localhost:8080/",
          "height": 441
        },
        "id": "pa5uti-VBCxf",
        "outputId": "73b3c139-a207-466c-cbad-a75e32574a7d"
      },
      "source": [
        "model.plot(forecast)\n",
        "plt.xlim(dt(2019,1,1),dt(2019,1,10))\n",
        "plt.show()"
      ],
      "execution_count": null,
      "outputs": [
        {
          "output_type": "display_data",
          "data": {
            "image/png": "[encoded data removed]",
            "text/plain": [
              "<Figure size 720x432 with 1 Axes>"
            ]
          },
          "metadata": {
            "tags": []
          }
        }
      ]
    },
    {
      "cell_type": "code",
      "metadata": {
        "id": "5IyLXqm0BCq_"
      },
      "source": [
        "forecast_2022 = forecast[forecast['ds'] >= dt(2022,1,1)].reset_index(drop=True)"
      ],
      "execution_count": null,
      "outputs": []
    },
    {
      "cell_type": "code",
      "metadata": {
        "colab": {
          "base_uri": "https://localhost:8080/",
          "height": 204
        },
        "id": "LGcp6FHmByjs",
        "outputId": "2a542441-d6c7-445b-fc27-f0fe1b5fc13e"
      },
      "source": [
        "#実測値\n",
        "results['t'] = df_2022['y']\n",
        "#予測値\n",
        "results['y'] = forecast_2022['yhat']\n",
        "#上記の引き算を行う\n",
        "results['diff'] = results['t'] - results['y']\n",
        "results.head()"
      ],
      "execution_count": null,
      "outputs": [
        {
          "output_type": "execute_result",
          "data": {
            "text/html": [
              "<div>\n",
              "<style scoped>\n",
              "    .dataframe tbody tr th:only-of-type {\n",
              "        vertical-align: middle;\n",
              "    }\n",
              "\n",
              "    .dataframe tbody tr th {\n",
              "        vertical-align: top;\n",
              "    }\n",
              "\n",
              "    .dataframe thead th {\n",
              "        text-align: right;\n",
              "    }\n",
              "</style>\n",
              "<table border=\"1\" class=\"dataframe\">\n",
              "  <thead>\n",
              "    <tr style=\"text-align: right;\">\n",
              "      <th></th>\n",
              "      <th>t</th>\n",
              "      <th>y</th>\n",
              "      <th>diff</th>\n",
              "    </tr>\n",
              "  </thead>\n",
              "  <tbody>\n",
              "    <tr>\n",
              "      <th>0</th>\n",
              "      <td>3184</td>\n",
              "      <td>3227.606302</td>\n",
              "      <td>-43.606302</td>\n",
              "    </tr>\n",
              "    <tr>\n",
              "      <th>1</th>\n",
              "      <td>2978</td>\n",
              "      <td>3098.402262</td>\n",
              "      <td>-120.402262</td>\n",
              "    </tr>\n",
              "    <tr>\n",
              "      <th>2</th>\n",
              "      <td>2834</td>\n",
              "      <td>3020.430567</td>\n",
              "      <td>-186.430567</td>\n",
              "    </tr>\n",
              "    <tr>\n",
              "      <th>3</th>\n",
              "      <td>2743</td>\n",
              "      <td>2982.254523</td>\n",
              "      <td>-239.254523</td>\n",
              "    </tr>\n",
              "    <tr>\n",
              "      <th>4</th>\n",
              "      <td>2697</td>\n",
              "      <td>2990.344044</td>\n",
              "      <td>-293.344044</td>\n",
              "    </tr>\n",
              "  </tbody>\n",
              "</table>\n",
              "</div>"
            ],
            "text/plain": [
              "      t            y        diff\n",
              "0  3184  3227.606302  -43.606302\n",
              "1  2978  3098.402262 -120.402262\n",
              "2  2834  3020.430567 -186.430567\n",
              "3  2743  2982.254523 -239.254523\n",
              "4  2697  2990.344044 -293.344044"
            ]
          },
          "metadata": {
            "tags": []
          },
          "execution_count": 188
        }
      ]
    },
    {
      "cell_type": "markdown",
      "metadata": {
        "id": "Xbf4m9i7CHDx"
      },
      "source": [
        "先ほど16％の利率が10％まで減少させることができた（猛暑日等のデータを入れることで）"
      ]
    },
    {
      "cell_type": "code",
      "metadata": {
        "id": "HBrlRqDowbcE",
        "colab": {
          "base_uri": "https://localhost:8080/"
        },
        "outputId": "52fedc1e-a7d3-4107-c2dc-b319f1a4342c"
      },
      "source": [
        "np.mean(abs((results['y']- results['t'])/results['y'] )*100)"
      ],
      "execution_count": null,
      "outputs": [
        {
          "output_type": "execute_result",
          "data": {
            "text/plain": [
              "10.644199440638527"
            ]
          },
          "metadata": {
            "tags": []
          },
          "execution_count": 189
        }
      ]
    },
    {
      "cell_type": "markdown",
      "metadata": {
        "id": "KXR1l6dmCW8m"
      },
      "source": [
        "#周期性の確認"
      ]
    },
    {
      "cell_type": "code",
      "metadata": {
        "colab": {
          "base_uri": "https://localhost:8080/",
          "height": 1000
        },
        "id": "96in_pkXChsH",
        "outputId": "d3792945-35c3-4b84-e142-ad362d7452ec"
      },
      "source": [
        "model.plot_components(forecast)\n",
        "plt.show()"
      ],
      "execution_count": null,
      "outputs": [
        {
          "output_type": "display_data",
          "data": {
            "image/png": "[encoded data removed]",
            "text/plain": [
              "<Figure size 648x1080 with 5 Axes>"
            ]
          },
          "metadata": {
            "tags": []
          }
        }
      ]
    },
    {
      "cell_type": "code",
      "metadata": {
        "id": "vG39RPfiCiem"
      },
      "source": [
        ""
      ],
      "execution_count": null,
      "outputs": []
    },
    {
      "cell_type": "code",
      "metadata": {
        "id": "GSplngqLCiX0"
      },
      "source": [
        ""
      ],
      "execution_count": null,
      "outputs": []
    },
    {
      "cell_type": "code",
      "metadata": {
        "id": "JkldpcWECiQX"
      },
      "source": [
        ""
      ],
      "execution_count": null,
      "outputs": []
    },
    {
      "cell_type": "code",
      "metadata": {
        "id": "kCn3CTsACiC_"
      },
      "source": [
        ""
      ],
      "execution_count": null,
      "outputs": []
    }
  ]
}