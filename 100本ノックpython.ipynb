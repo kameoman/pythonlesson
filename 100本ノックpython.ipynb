{
  "nbformat": 4,
  "nbformat_minor": 0,
  "metadata": {
    "colab": {
      "name": "100本ノックpython.ipynb",
      "provenance": [],
      "collapsed_sections": [],
      "authorship_tag": "ABX9TyN9m2yklC/PiZlUfg/ju11N",
      "include_colab_link": true
    },
    "kernelspec": {
      "name": "python3",
      "display_name": "Python 3"
    },
    "language_info": {
      "name": "python"
    }
  },
  "cells": [
    {
      "cell_type": "markdown",
      "metadata": {
        "id": "view-in-github",
        "colab_type": "text"
      },
      "source": [
        "<a href=\"https://colab.research.google.com/github/kameoman/pythonlesson/blob/main/100%E6%9C%AC%E3%83%8E%E3%83%83%E3%82%AFpython.ipynb\" target=\"_parent\"><img src=\"https://colab.research.google.com/assets/colab-badge.svg\" alt=\"Open In Colab\"/></a>"
      ]
    },
    {
      "cell_type": "code",
      "metadata": {
        "colab": {
          "base_uri": "https://localhost:8080/",
          "height": 35
        },
        "id": "Qb0GqPlcQniN",
        "outputId": "62a282c0-aa30-4bf1-f441-e037c5e1a631"
      },
      "source": [
        "name = 'かめ'\n",
        "birthplace = '兵庫'\n",
        "\n",
        "'私は{}です。出身は{}です。'.format(name, birthplace)"
      ],
      "execution_count": 2,
      "outputs": [
        {
          "output_type": "execute_result",
          "data": {
            "application/vnd.google.colaboratory.intrinsic+json": {
              "type": "string"
            },
            "text/plain": [
              "'私はかめです。出身は兵庫です。'"
            ]
          },
          "metadata": {
            "tags": []
          },
          "execution_count": 2
        }
      ]
    },
    {
      "cell_type": "code",
      "metadata": {
        "colab": {
          "base_uri": "https://localhost:8080/",
          "height": 35
        },
        "id": "U_KVE9d6ROwW",
        "outputId": "437fc33c-241a-4454-dc2f-a350d6ce5f45"
      },
      "source": [
        "f'私は{name}です。出身は{birthplace}です。'"
      ],
      "execution_count": 3,
      "outputs": [
        {
          "output_type": "execute_result",
          "data": {
            "application/vnd.google.colaboratory.intrinsic+json": {
              "type": "string"
            },
            "text/plain": [
              "'私はかめです。出身は兵庫です。'"
            ]
          },
          "metadata": {
            "tags": []
          },
          "execution_count": 3
        }
      ]
    },
    {
      "cell_type": "code",
      "metadata": {
        "colab": {
          "base_uri": "https://localhost:8080/"
        },
        "id": "mcIjm5fCQ2f6",
        "outputId": "3ea4db34-65af-4bbc-8112-f548caaa84b2"
      },
      "source": [
        "print('私はかめです。\\n出身は兵庫です。')"
      ],
      "execution_count": 6,
      "outputs": [
        {
          "output_type": "stream",
          "text": [
            "私はかめです。\n",
            "出身は兵庫です。\n"
          ],
          "name": "stdout"
        }
      ]
    },
    {
      "cell_type": "code",
      "metadata": {
        "colab": {
          "base_uri": "https://localhost:8080/"
        },
        "id": "6LE32oP1Q3i3",
        "outputId": "3efe3152-c4a5-4f4f-c8e3-c52b85927dab"
      },
      "source": [
        "print(\"10進数=%d, 16進数=%x, 10進浮動小数点=%f\" % (16, 16, 16))"
      ],
      "execution_count": 7,
      "outputs": [
        {
          "output_type": "stream",
          "text": [
            "10進数=16, 16進数=10, 10進浮動小数点=16.000000\n"
          ],
          "name": "stdout"
        }
      ]
    },
    {
      "cell_type": "code",
      "metadata": {
        "colab": {
          "base_uri": "https://localhost:8080/",
          "height": 35
        },
        "id": "s0XpwJCbQ3sV",
        "outputId": "c981b55e-5f68-4d45-af6d-2d2da4b8b221"
      },
      "source": [
        "'hello'.upper()"
      ],
      "execution_count": 8,
      "outputs": [
        {
          "output_type": "execute_result",
          "data": {
            "application/vnd.google.colaboratory.intrinsic+json": {
              "type": "string"
            },
            "text/plain": [
              "'HELLO'"
            ]
          },
          "metadata": {
            "tags": []
          },
          "execution_count": 8
        }
      ]
    },
    {
      "cell_type": "code",
      "metadata": {
        "colab": {
          "base_uri": "https://localhost:8080/",
          "height": 35
        },
        "id": "59qVdWIaQ3zm",
        "outputId": "e14ca890-1896-49de-bb2e-b0fb1d25242b"
      },
      "source": [
        "'WORlD'.lower()"
      ],
      "execution_count": 10,
      "outputs": [
        {
          "output_type": "execute_result",
          "data": {
            "application/vnd.google.colaboratory.intrinsic+json": {
              "type": "string"
            },
            "text/plain": [
              "'world'"
            ]
          },
          "metadata": {
            "tags": []
          },
          "execution_count": 10
        }
      ]
    },
    {
      "cell_type": "code",
      "metadata": {
        "colab": {
          "base_uri": "https://localhost:8080/"
        },
        "id": "v5V35oceQ34w",
        "outputId": "4700e8c0-b108-4079-88b5-232b2ed679a6"
      },
      "source": [
        "message = 'こんにちは。\\n私はAIのロボットです。'\n",
        "print(message)"
      ],
      "execution_count": 11,
      "outputs": [
        {
          "output_type": "stream",
          "text": [
            "こんにちは。\n",
            "私はAIのロボットです。\n"
          ],
          "name": "stdout"
        }
      ]
    },
    {
      "cell_type": "code",
      "metadata": {
        "colab": {
          "base_uri": "https://localhost:8080/"
        },
        "id": "IlxxG9VPQ3-f",
        "outputId": "4ab573fe-ebc1-49e0-a649-d2a0c1ea02bf"
      },
      "source": [
        "message.split('\\n')"
      ],
      "execution_count": 12,
      "outputs": [
        {
          "output_type": "execute_result",
          "data": {
            "text/plain": [
              "['こんにちは。', '私はAIのロボットです。']"
            ]
          },
          "metadata": {
            "tags": []
          },
          "execution_count": 12
        }
      ]
    },
    {
      "cell_type": "code",
      "metadata": {
        "colab": {
          "base_uri": "https://localhost:8080/"
        },
        "id": "kWT3VSfCQ4DH",
        "outputId": "0b0b1b3f-9851-4579-b864-b9fbfaf76fb0"
      },
      "source": [
        "messages = message.split('\\n')\n",
        "messages"
      ],
      "execution_count": 13,
      "outputs": [
        {
          "output_type": "execute_result",
          "data": {
            "text/plain": [
              "['こんにちは。', '私はAIのロボットです。']"
            ]
          },
          "metadata": {
            "tags": []
          },
          "execution_count": 13
        }
      ]
    },
    {
      "cell_type": "code",
      "metadata": {
        "colab": {
          "base_uri": "https://localhost:8080/",
          "height": 35
        },
        "id": "SAFM8x0uQ4Q6",
        "outputId": "9cd95e1b-2b24-405d-9b67-6dc7a7fe0e43"
      },
      "source": [
        "''.join(messages)"
      ],
      "execution_count": 14,
      "outputs": [
        {
          "output_type": "execute_result",
          "data": {
            "application/vnd.google.colaboratory.intrinsic+json": {
              "type": "string"
            },
            "text/plain": [
              "'こんにちは。私はAIのロボットです。'"
            ]
          },
          "metadata": {
            "tags": []
          },
          "execution_count": 14
        }
      ]
    },
    {
      "cell_type": "code",
      "metadata": {
        "colab": {
          "base_uri": "https://localhost:8080/"
        },
        "id": "35RQn1a2Q5CT",
        "outputId": "b9708119-23df-46ed-9ba4-e909e8ed280d"
      },
      "source": [
        "message = '　こんにちは。私はAIのロボットです。　'\n",
        "print(message.strip())"
      ],
      "execution_count": 21,
      "outputs": [
        {
          "output_type": "stream",
          "text": [
            "こんにちは。私はAIのロボットです。\n"
          ],
          "name": "stdout"
        }
      ]
    },
    {
      "cell_type": "code",
      "metadata": {
        "colab": {
          "base_uri": "https://localhost:8080/",
          "height": 35
        },
        "id": "mNEE7u9NQ5IP",
        "outputId": "25b71bf3-b9e5-4727-afa1-b28d5e595af4"
      },
      "source": [
        "message.strip()"
      ],
      "execution_count": 22,
      "outputs": [
        {
          "output_type": "execute_result",
          "data": {
            "application/vnd.google.colaboratory.intrinsic+json": {
              "type": "string"
            },
            "text/plain": [
              "'こんにちは。私はAIのロボットです。'"
            ]
          },
          "metadata": {
            "tags": []
          },
          "execution_count": 22
        }
      ]
    },
    {
      "cell_type": "code",
      "metadata": {
        "colab": {
          "base_uri": "https://localhost:8080/",
          "height": 35
        },
        "id": "OrQEQC2jQ5Of",
        "outputId": "e95413cd-482a-41bd-850b-da6f107586d0"
      },
      "source": [
        "message = '今日は晴れです。'\n",
        "message.replace('晴れ', '雨')"
      ],
      "execution_count": 23,
      "outputs": [
        {
          "output_type": "execute_result",
          "data": {
            "application/vnd.google.colaboratory.intrinsic+json": {
              "type": "string"
            },
            "text/plain": [
              "'今日は雨です。'"
            ]
          },
          "metadata": {
            "tags": []
          },
          "execution_count": 23
        }
      ]
    },
    {
      "cell_type": "code",
      "metadata": {
        "colab": {
          "base_uri": "https://localhost:8080/"
        },
        "id": "1F45GVWlQ5UJ",
        "outputId": "70b0c421-5ae1-44ce-e60f-2a0595dd874f"
      },
      "source": [
        "message = '今日は晴れです。'\n",
        "message.find('晴れ')"
      ],
      "execution_count": 24,
      "outputs": [
        {
          "output_type": "execute_result",
          "data": {
            "text/plain": [
              "3"
            ]
          },
          "metadata": {
            "tags": []
          },
          "execution_count": 24
        }
      ]
    },
    {
      "cell_type": "code",
      "metadata": {
        "colab": {
          "base_uri": "https://localhost:8080/",
          "height": 35
        },
        "id": "94vo397SQ5Y8",
        "outputId": "94762a67-ba93-4f51-d142-4cb12553b48c"
      },
      "source": [
        "x = 1\n",
        "str(x)"
      ],
      "execution_count": 27,
      "outputs": [
        {
          "output_type": "execute_result",
          "data": {
            "application/vnd.google.colaboratory.intrinsic+json": {
              "type": "string"
            },
            "text/plain": [
              "'1'"
            ]
          },
          "metadata": {
            "tags": []
          },
          "execution_count": 27
        }
      ]
    },
    {
      "cell_type": "code",
      "metadata": {
        "id": "b9WI85i7Q5d1"
      },
      "source": [
        "a,b = 'sba', 'gasba'"
      ],
      "execution_count": 28,
      "outputs": []
    },
    {
      "cell_type": "code",
      "metadata": {
        "colab": {
          "base_uri": "https://localhost:8080/"
        },
        "id": "FQxqh1b1Q5iy",
        "outputId": "bf154ca5-54ba-4ba9-e9c8-77986b678462"
      },
      "source": [
        "a in b"
      ],
      "execution_count": 30,
      "outputs": [
        {
          "output_type": "execute_result",
          "data": {
            "text/plain": [
              "False"
            ]
          },
          "metadata": {
            "tags": []
          },
          "execution_count": 30
        }
      ]
    },
    {
      "cell_type": "code",
      "metadata": {
        "id": "onG7F30JQ5nr"
      },
      "source": [
        "a,b = 'xdh', 'orweit'"
      ],
      "execution_count": 29,
      "outputs": []
    },
    {
      "cell_type": "code",
      "metadata": {
        "colab": {
          "base_uri": "https://localhost:8080/"
        },
        "id": "-xaye2wBQ5tI",
        "outputId": "38fe2b83-c331-4060-b13e-754ed57d4ab2"
      },
      "source": [
        "a in b"
      ],
      "execution_count": 31,
      "outputs": [
        {
          "output_type": "execute_result",
          "data": {
            "text/plain": [
              "False"
            ]
          },
          "metadata": {
            "tags": []
          },
          "execution_count": 31
        }
      ]
    },
    {
      "cell_type": "markdown",
      "metadata": {
        "id": "c0PLCkqRWVqS"
      },
      "source": [
        "14.特定の値を抽出"
      ]
    },
    {
      "cell_type": "code",
      "metadata": {
        "id": "QG01rv8gQ5xy"
      },
      "source": [
        "numbers = [0, 3, 8, -4, 9, 1]"
      ],
      "execution_count": 2,
      "outputs": []
    },
    {
      "cell_type": "code",
      "metadata": {
        "colab": {
          "base_uri": "https://localhost:8080/"
        },
        "id": "TXNyRuUqQ52M",
        "outputId": "837ce0bf-24bf-48b1-a0f1-2497ca649040"
      },
      "source": [
        "numbers[1]"
      ],
      "execution_count": 3,
      "outputs": [
        {
          "output_type": "execute_result",
          "data": {
            "text/plain": [
              "3"
            ]
          },
          "metadata": {
            "tags": []
          },
          "execution_count": 3
        }
      ]
    },
    {
      "cell_type": "code",
      "metadata": {
        "colab": {
          "base_uri": "https://localhost:8080/"
        },
        "id": "JNF2X2H5Q57N",
        "outputId": "cf256d8b-1100-4f05-c202-e22fe4930e13"
      },
      "source": [
        "numbers.append(2)\n",
        "numbers"
      ],
      "execution_count": 4,
      "outputs": [
        {
          "output_type": "execute_result",
          "data": {
            "text/plain": [
              "[0, 3, 8, -4, 9, 1, 2]"
            ]
          },
          "metadata": {
            "tags": []
          },
          "execution_count": 4
        }
      ]
    },
    {
      "cell_type": "code",
      "metadata": {
        "id": "k4NRspo2Q5_n"
      },
      "source": [
        "numbers.insert(0, 5)"
      ],
      "execution_count": 5,
      "outputs": []
    },
    {
      "cell_type": "code",
      "metadata": {
        "colab": {
          "base_uri": "https://localhost:8080/"
        },
        "id": "2OBhp2ANQ6EK",
        "outputId": "0ab8e20e-8d2f-49a8-cdfc-41b2deb55bca"
      },
      "source": [
        "numbers"
      ],
      "execution_count": 6,
      "outputs": [
        {
          "output_type": "execute_result",
          "data": {
            "text/plain": [
              "[5, 0, 3, 8, -4, 9, 1, 2]"
            ]
          },
          "metadata": {
            "tags": []
          },
          "execution_count": 6
        }
      ]
    },
    {
      "cell_type": "code",
      "metadata": {
        "colab": {
          "base_uri": "https://localhost:8080/"
        },
        "id": "SsFbHauYQ6JH",
        "outputId": "b0dd4a05-eec0-4f8b-8f0d-730a4daa55cc"
      },
      "source": [
        "numbers.insert(-2, 3)\n",
        "numbers"
      ],
      "execution_count": 8,
      "outputs": [
        {
          "output_type": "execute_result",
          "data": {
            "text/plain": [
              "[5, 0, 3, 8, -4, 9, 3, 3, 1, 2]"
            ]
          },
          "metadata": {
            "tags": []
          },
          "execution_count": 8
        }
      ]
    },
    {
      "cell_type": "code",
      "metadata": {
        "colab": {
          "base_uri": "https://localhost:8080/"
        },
        "id": "snBfLvQXQ6N0",
        "outputId": "c2d70f0b-3dcc-444a-9e87-530acb758cad"
      },
      "source": [
        "numbers.remove(3)\n",
        "numbers"
      ],
      "execution_count": 9,
      "outputs": [
        {
          "output_type": "execute_result",
          "data": {
            "text/plain": [
              "[5, 0, 8, -4, 9, 3, 3, 1, 2]"
            ]
          },
          "metadata": {
            "tags": []
          },
          "execution_count": 9
        }
      ]
    },
    {
      "cell_type": "code",
      "metadata": {
        "colab": {
          "base_uri": "https://localhost:8080/"
        },
        "id": "HIRrNe5KQ6Sc",
        "outputId": "4e93527a-c125-4475-a3a6-49b5037e06d8"
      },
      "source": [
        "numbers.remove(3)\n",
        "numbers"
      ],
      "execution_count": 11,
      "outputs": [
        {
          "output_type": "execute_result",
          "data": {
            "text/plain": [
              "[5, 0, 8, -4, 9, 1, 2]"
            ]
          },
          "metadata": {
            "tags": []
          },
          "execution_count": 11
        }
      ]
    },
    {
      "cell_type": "code",
      "metadata": {
        "colab": {
          "base_uri": "https://localhost:8080/"
        },
        "id": "06p9-iQ6Q6XQ",
        "outputId": "6f7fc5fb-59c4-449f-d4a0-bd2ac6c3fbf4"
      },
      "source": [
        "numbers.pop(-3)\n",
        "numbers"
      ],
      "execution_count": 13,
      "outputs": [
        {
          "output_type": "execute_result",
          "data": {
            "text/plain": [
              "[5, 0, 8, 1, 2]"
            ]
          },
          "metadata": {
            "tags": []
          },
          "execution_count": 13
        }
      ]
    },
    {
      "cell_type": "code",
      "metadata": {
        "id": "1j78tetxQ6bj"
      },
      "source": [
        "def isEven(number):\n",
        "    if number % 2 == 0:\n",
        "        print(f'This number, {number} is even!')\n",
        "        return True\n",
        "    else:\n",
        "        print(f'This number, {number} is odd!')\n",
        "        return False"
      ],
      "execution_count": 14,
      "outputs": []
    },
    {
      "cell_type": "code",
      "metadata": {
        "colab": {
          "base_uri": "https://localhost:8080/"
        },
        "id": "SLtBgEj_qvfm",
        "outputId": "12906ea6-afc9-4d61-ea00-f4971f17816a"
      },
      "source": [
        "list(filter (isEven, numbers))\n"
      ],
      "execution_count": 17,
      "outputs": [
        {
          "output_type": "stream",
          "text": [
            "This number, 5 is odd!\n",
            "This number, 0 is even!\n",
            "This number, 8 is even!\n",
            "This number, 1 is odd!\n",
            "This number, 2 is even!\n"
          ],
          "name": "stdout"
        },
        {
          "output_type": "execute_result",
          "data": {
            "text/plain": [
              "[0, 8, 2]"
            ]
          },
          "metadata": {
            "tags": []
          },
          "execution_count": 17
        }
      ]
    },
    {
      "cell_type": "code",
      "metadata": {
        "colab": {
          "base_uri": "https://localhost:8080/"
        },
        "id": "0mihXUONQ6gT",
        "outputId": "b1f0c124-440b-4038-c106-f58f9960c330"
      },
      "source": [
        "isEven(2)"
      ],
      "execution_count": 15,
      "outputs": [
        {
          "output_type": "stream",
          "text": [
            "This number, 2 is even!\n"
          ],
          "name": "stdout"
        },
        {
          "output_type": "execute_result",
          "data": {
            "text/plain": [
              "True"
            ]
          },
          "metadata": {
            "tags": []
          },
          "execution_count": 15
        }
      ]
    },
    {
      "cell_type": "code",
      "metadata": {
        "colab": {
          "base_uri": "https://localhost:8080/"
        },
        "id": "Fa8SgP6WRSFC",
        "outputId": "59e79ea5-45a5-4d80-8e33-b2aa86eeab59"
      },
      "source": [
        "numbers.append(-4)\n",
        "numbers"
      ],
      "execution_count": 19,
      "outputs": [
        {
          "output_type": "execute_result",
          "data": {
            "text/plain": [
              "[5, 0, 8, 1, 2, -4, -4]"
            ]
          },
          "metadata": {
            "tags": []
          },
          "execution_count": 19
        }
      ]
    },
    {
      "cell_type": "code",
      "metadata": {
        "colab": {
          "base_uri": "https://localhost:8080/"
        },
        "id": "v6-pLTuZRT2z",
        "outputId": "cfa95ceb-3ec1-4479-a3c6-35fa7c0b0286"
      },
      "source": [
        "numbers.insert(2,-4)\n",
        "numbers"
      ],
      "execution_count": 20,
      "outputs": [
        {
          "output_type": "execute_result",
          "data": {
            "text/plain": [
              "[5, 0, -4, 8, 1, 2, -4, -4]"
            ]
          },
          "metadata": {
            "tags": []
          },
          "execution_count": 20
        }
      ]
    },
    {
      "cell_type": "code",
      "metadata": {
        "colab": {
          "base_uri": "https://localhost:8080/"
        },
        "id": "A_78KnTPRUFn",
        "outputId": "b53176e9-8879-4ab4-e083-24cba7eca946"
      },
      "source": [
        "numbers.index(-4)\n"
      ],
      "execution_count": 21,
      "outputs": [
        {
          "output_type": "execute_result",
          "data": {
            "text/plain": [
              "2"
            ]
          },
          "metadata": {
            "tags": []
          },
          "execution_count": 21
        }
      ]
    },
    {
      "cell_type": "code",
      "metadata": {
        "colab": {
          "base_uri": "https://localhost:8080/"
        },
        "id": "SX6sbajKRUQ3",
        "outputId": "dbc69e79-477a-40fe-ae64-ab5f9550fdf8"
      },
      "source": [
        "numbers.sort()\n",
        "numbers"
      ],
      "execution_count": 23,
      "outputs": [
        {
          "output_type": "execute_result",
          "data": {
            "text/plain": [
              "[-4, -4, -4, 0, 1, 2, 5, 8]"
            ]
          },
          "metadata": {
            "tags": []
          },
          "execution_count": 23
        }
      ]
    },
    {
      "cell_type": "code",
      "metadata": {
        "colab": {
          "base_uri": "https://localhost:8080/"
        },
        "id": "5G4uGqzhRUbl",
        "outputId": "9e776ec1-9e98-43fc-8cc5-c2b437721a05"
      },
      "source": [
        "numbers.sort(reverse=True)\n",
        "numbers"
      ],
      "execution_count": 24,
      "outputs": [
        {
          "output_type": "execute_result",
          "data": {
            "text/plain": [
              "[8, 5, 2, 1, 0, -4, -4, -4]"
            ]
          },
          "metadata": {
            "tags": []
          },
          "execution_count": 24
        }
      ]
    },
    {
      "cell_type": "code",
      "metadata": {
        "colab": {
          "base_uri": "https://localhost:8080/"
        },
        "id": "55vdfJPLRUmP",
        "outputId": "601bce4f-0112-4046-ce52-380ea5959a04"
      },
      "source": [
        "dictionary = {\n",
        "    'A': '今西',\n",
        "    'B': '航平',\n",
        "    'C': '男性',\n",
        "    'D': '東京都',\n",
        "    'E': '海外旅行',\n",
        "\n",
        "}\n",
        "dictionary"
      ],
      "execution_count": 25,
      "outputs": [
        {
          "output_type": "execute_result",
          "data": {
            "text/plain": [
              "{'A': '今西', 'B': '航平', 'C': '男性', 'D': '東京都', 'E': '海外旅行'}"
            ]
          },
          "metadata": {
            "tags": []
          },
          "execution_count": 25
        }
      ]
    },
    {
      "cell_type": "code",
      "metadata": {
        "colab": {
          "base_uri": "https://localhost:8080/",
          "height": 35
        },
        "id": "-9PFKC9_RUzi",
        "outputId": "9a8b9252-8699-4575-f986-d5c3ac0880fe"
      },
      "source": [
        "dictionary.pop('A')"
      ],
      "execution_count": 26,
      "outputs": [
        {
          "output_type": "execute_result",
          "data": {
            "application/vnd.google.colaboratory.intrinsic+json": {
              "type": "string"
            },
            "text/plain": [
              "'今西'"
            ]
          },
          "metadata": {
            "tags": []
          },
          "execution_count": 26
        }
      ]
    },
    {
      "cell_type": "code",
      "metadata": {
        "colab": {
          "base_uri": "https://localhost:8080/",
          "height": 35
        },
        "id": "Fz44i8H8RVUR",
        "outputId": "3b7bb487-0a68-45d6-d978-f3f1c5d91284"
      },
      "source": [
        "dictionary.pop('B')"
      ],
      "execution_count": 27,
      "outputs": [
        {
          "output_type": "execute_result",
          "data": {
            "application/vnd.google.colaboratory.intrinsic+json": {
              "type": "string"
            },
            "text/plain": [
              "'航平'"
            ]
          },
          "metadata": {
            "tags": []
          },
          "execution_count": 27
        }
      ]
    },
    {
      "cell_type": "code",
      "metadata": {
        "colab": {
          "base_uri": "https://localhost:8080/"
        },
        "id": "wtAXvb1BRVfV",
        "outputId": "2c18a2b3-eede-4f84-bd6a-1847929bdffe"
      },
      "source": [
        "dictionary.clear()\n",
        "dictionary"
      ],
      "execution_count": 29,
      "outputs": [
        {
          "output_type": "execute_result",
          "data": {
            "text/plain": [
              "{}"
            ]
          },
          "metadata": {
            "tags": []
          },
          "execution_count": 29
        }
      ]
    },
    {
      "cell_type": "code",
      "metadata": {
        "colab": {
          "base_uri": "https://localhost:8080/"
        },
        "id": "7SAcr6h8s-sY",
        "outputId": "5c6207e2-9dd2-42a1-f147-2bcc5360ab57"
      },
      "source": [
        "dictionary = {\n",
        "    'A': '今西',\n",
        "    'B': '航平',\n",
        "    'C': '男性',\n",
        "    'D': '東京都',\n",
        "    'E': '海外旅行',\n",
        "\n",
        "}\n",
        "dictionary"
      ],
      "execution_count": 30,
      "outputs": [
        {
          "output_type": "execute_result",
          "data": {
            "text/plain": [
              "{'A': '今西', 'B': '航平', 'C': '男性', 'D': '東京都', 'E': '海外旅行'}"
            ]
          },
          "metadata": {
            "tags": []
          },
          "execution_count": 30
        }
      ]
    },
    {
      "cell_type": "code",
      "metadata": {
        "colab": {
          "base_uri": "https://localhost:8080/"
        },
        "id": "zRtMBv0rs-pb",
        "outputId": "f69e6ced-28a9-47a1-9533-fa44b2bd8f21"
      },
      "source": [
        "dictionary.keys()"
      ],
      "execution_count": 32,
      "outputs": [
        {
          "output_type": "execute_result",
          "data": {
            "text/plain": [
              "dict_keys(['A', 'B', 'C', 'D', 'E'])"
            ]
          },
          "metadata": {
            "tags": []
          },
          "execution_count": 32
        }
      ]
    },
    {
      "cell_type": "code",
      "metadata": {
        "colab": {
          "base_uri": "https://localhost:8080/"
        },
        "id": "b8W_wJQts-nv",
        "outputId": "87e9add4-fb15-4c85-c6ad-6d64fb5f8695"
      },
      "source": [
        "dictionary.values()"
      ],
      "execution_count": 33,
      "outputs": [
        {
          "output_type": "execute_result",
          "data": {
            "text/plain": [
              "dict_values(['今西', '航平', '男性', '東京都', '海外旅行'])"
            ]
          },
          "metadata": {
            "tags": []
          },
          "execution_count": 33
        }
      ]
    },
    {
      "cell_type": "code",
      "metadata": {
        "colab": {
          "base_uri": "https://localhost:8080/"
        },
        "id": "48IUG7TCs-kN",
        "outputId": "778d8372-3a52-497f-9ae4-e17da6f0f7cc"
      },
      "source": [
        "'男性' in dictionary.values()"
      ],
      "execution_count": 34,
      "outputs": [
        {
          "output_type": "execute_result",
          "data": {
            "text/plain": [
              "True"
            ]
          },
          "metadata": {
            "tags": []
          },
          "execution_count": 34
        }
      ]
    },
    {
      "cell_type": "code",
      "metadata": {
        "colab": {
          "base_uri": "https://localhost:8080/"
        },
        "id": "xIQjuWXls-iW",
        "outputId": "db018e5a-cdc7-4f2a-a853-b6004aa3a81e"
      },
      "source": [
        "for key, value in dictionary.items():\n",
        "    print(f'キーは、{key},バリューは、{value}')"
      ],
      "execution_count": 35,
      "outputs": [
        {
          "output_type": "stream",
          "text": [
            "キーは、A,バリューは、今西\n",
            "キーは、B,バリューは、航平\n",
            "キーは、C,バリューは、男性\n",
            "キーは、D,バリューは、東京都\n",
            "キーは、E,バリューは、海外旅行\n"
          ],
          "name": "stdout"
        }
      ]
    },
    {
      "cell_type": "code",
      "metadata": {
        "colab": {
          "base_uri": "https://localhost:8080/"
        },
        "id": "9WJrsbbus-e4",
        "outputId": "f16f9513-6cd0-42b2-de95-3b5d02bb794d"
      },
      "source": [
        "num = -1\n",
        "\n",
        "if num > 0:\n",
        "    print('正の値です')\n",
        "elif num == 0:\n",
        "    print('0です')\n",
        "else:\n",
        "    print('負の値です')"
      ],
      "execution_count": 37,
      "outputs": [
        {
          "output_type": "stream",
          "text": [
            "負の値です\n"
          ],
          "name": "stdout"
        }
      ]
    },
    {
      "cell_type": "code",
      "metadata": {
        "colab": {
          "base_uri": "https://localhost:8080/"
        },
        "id": "8cT_u8U_s-b5",
        "outputId": "4516ebce-4f73-4763-b518-5841b6053781"
      },
      "source": [
        "a = 4\n",
        "\n",
        "if 0 <= a < 10 and a % 2 == 0:\n",
        "    print('一桁の整数です')\n",
        "elif a < 0 and a % 2 == 1:\n",
        "    print('負の奇数です')\n",
        "else:\n",
        "    print('整数です')"
      ],
      "execution_count": 40,
      "outputs": [
        {
          "output_type": "stream",
          "text": [
            "一桁の整数です\n"
          ],
          "name": "stdout"
        }
      ]
    },
    {
      "cell_type": "code",
      "metadata": {
        "id": "dZvHfyQzs-ZC"
      },
      "source": [
        "names = ['John', 'Kevin', 'Lousi']"
      ],
      "execution_count": 41,
      "outputs": []
    },
    {
      "cell_type": "code",
      "metadata": {
        "colab": {
          "base_uri": "https://localhost:8080/"
        },
        "id": "7T3P5E9is-Wx",
        "outputId": "217ea10a-fdf6-4384-a530-fb8735c251c8"
      },
      "source": [
        "for name in names:\n",
        "    print(name)"
      ],
      "execution_count": 42,
      "outputs": [
        {
          "output_type": "stream",
          "text": [
            "John\n",
            "Kevin\n",
            "Lousi\n"
          ],
          "name": "stdout"
        }
      ]
    },
    {
      "cell_type": "code",
      "metadata": {
        "colab": {
          "base_uri": "https://localhost:8080/"
        },
        "id": "-nP-Kkf5s-UR",
        "outputId": "943155bd-66e5-48b5-a783-0341acc8add1"
      },
      "source": [
        "for i in range(1,10):\n",
        "    if i == 6:\n",
        "        print('終了')\n",
        "        break\n",
        "    print(i)"
      ],
      "execution_count": 45,
      "outputs": [
        {
          "output_type": "stream",
          "text": [
            "1\n",
            "2\n",
            "3\n",
            "4\n",
            "5\n",
            "終了\n"
          ],
          "name": "stdout"
        }
      ]
    },
    {
      "cell_type": "code",
      "metadata": {
        "id": "9AxUIPJjs-R0"
      },
      "source": [
        "for i in range(1,10):\n",
        "    if i == 3:\n",
        "        continue\n",
        "    print(i)"
      ],
      "execution_count": null,
      "outputs": []
    },
    {
      "cell_type": "code",
      "metadata": {
        "colab": {
          "base_uri": "https://localhost:8080/"
        },
        "id": "R4nnBc1Ws-QS",
        "outputId": "90d5fe3c-762b-4ac9-ed0d-7da906c39448"
      },
      "source": [
        "lasts = ['加藤','佐藤','田中']\n",
        "firsts = ['雄一','拓也', '太郎']\n",
        "for last, first in zip(lasts, firsts):\n",
        "    print(last+first)"
      ],
      "execution_count": 47,
      "outputs": [
        {
          "output_type": "stream",
          "text": [
            "加藤雄一\n",
            "佐藤拓也\n",
            "田中太郎\n"
          ],
          "name": "stdout"
        }
      ]
    },
    {
      "cell_type": "code",
      "metadata": {
        "id": "N-1vJXtVs-OE"
      },
      "source": [
        "lasts = ['加藤','佐藤','田中']"
      ],
      "execution_count": null,
      "outputs": []
    },
    {
      "cell_type": "code",
      "metadata": {
        "colab": {
          "base_uri": "https://localhost:8080/"
        },
        "id": "IxQORS8Ms-Kr",
        "outputId": "5d627d97-804e-47c7-d127-30eb0694b2e5"
      },
      "source": [
        "for i, last in enumerate(lasts):\n",
        "    print(f'{i}番目は、{last}です。')"
      ],
      "execution_count": 50,
      "outputs": [
        {
          "output_type": "stream",
          "text": [
            "0番目は、加藤です。\n",
            "1番目は、佐藤です。\n",
            "2番目は、田中です。\n"
          ],
          "name": "stdout"
        }
      ]
    },
    {
      "cell_type": "code",
      "metadata": {
        "colab": {
          "base_uri": "https://localhost:8080/"
        },
        "id": "QA7l06hYs-IU",
        "outputId": "90333a73-9b3c-46e8-fcd1-ee388a45d196"
      },
      "source": [
        "nums = []\n",
        "nums"
      ],
      "execution_count": 51,
      "outputs": [
        {
          "output_type": "execute_result",
          "data": {
            "text/plain": [
              "[]"
            ]
          },
          "metadata": {
            "tags": []
          },
          "execution_count": 51
        }
      ]
    },
    {
      "cell_type": "code",
      "metadata": {
        "id": "lMT9AC4Vs-F-"
      },
      "source": [
        "for i in range(5):\n",
        "    nums.append(2 * i)"
      ],
      "execution_count": 55,
      "outputs": []
    },
    {
      "cell_type": "code",
      "metadata": {
        "colab": {
          "base_uri": "https://localhost:8080/"
        },
        "id": "MrqS5Xbls-DT",
        "outputId": "992446b8-8c9d-40e1-8525-9c2b656dbbd8"
      },
      "source": [
        "nums"
      ],
      "execution_count": 56,
      "outputs": [
        {
          "output_type": "execute_result",
          "data": {
            "text/plain": [
              "[0, 2, 4, 6, 8]"
            ]
          },
          "metadata": {
            "tags": []
          },
          "execution_count": 56
        }
      ]
    },
    {
      "cell_type": "code",
      "metadata": {
        "id": "cwq1_BRPs-A5"
      },
      "source": [
        "numbers = [2*i for i in range(5)]"
      ],
      "execution_count": 57,
      "outputs": []
    },
    {
      "cell_type": "code",
      "metadata": {
        "colab": {
          "base_uri": "https://localhost:8080/"
        },
        "id": "uRIuSBuos95K",
        "outputId": "ae010446-ea2e-400c-d9b9-17d3f582f8c6"
      },
      "source": [
        "numbers"
      ],
      "execution_count": 58,
      "outputs": [
        {
          "output_type": "execute_result",
          "data": {
            "text/plain": [
              "[0, 2, 4, 6, 8]"
            ]
          },
          "metadata": {
            "tags": []
          },
          "execution_count": 58
        }
      ]
    },
    {
      "cell_type": "code",
      "metadata": {
        "colab": {
          "base_uri": "https://localhost:8080/"
        },
        "id": "ApREH_eSzKJE",
        "outputId": "5fa2a072-f6a2-4148-a27a-8ffb0786538a"
      },
      "source": [
        "num = 4\n",
        "try:\n",
        "    print(f'計算結果:{10/num}')\n",
        "except:\n",
        "    print('エラー')"
      ],
      "execution_count": 63,
      "outputs": [
        {
          "output_type": "stream",
          "text": [
            "計算結果:2.5\n"
          ],
          "name": "stdout"
        }
      ]
    },
    {
      "cell_type": "code",
      "metadata": {
        "colab": {
          "base_uri": "https://localhost:8080/"
        },
        "id": "DTBi-_hr0Kv7",
        "outputId": "265f82f5-8ae1-427e-96d3-3a99a773826c"
      },
      "source": [
        "num = 0\n",
        "try:\n",
        "    print(f'計算結果:{10/num}')\n",
        "except ZeroDivisionError as e:\n",
        "    print(e)"
      ],
      "execution_count": 66,
      "outputs": [
        {
          "output_type": "stream",
          "text": [
            "division by zero\n"
          ],
          "name": "stdout"
        }
      ]
    },
    {
      "cell_type": "code",
      "metadata": {
        "colab": {
          "base_uri": "https://localhost:8080/",
          "height": 185
        },
        "id": "dnLbjBr2zKHA",
        "outputId": "afe7debb-6a17-4f46-a4d2-d2d73fae3a27"
      },
      "source": [
        "num = 0\n",
        "print(f'計算結果:{10/num}')"
      ],
      "execution_count": 65,
      "outputs": [
        {
          "output_type": "error",
          "ename": "ZeroDivisionError",
          "evalue": "ignored",
          "traceback": [
            "\u001b[0;31m---------------------------------------------------------------------------\u001b[0m",
            "\u001b[0;31mZeroDivisionError\u001b[0m                         Traceback (most recent call last)",
            "\u001b[0;32m<ipython-input-65-bb4f15c85cf9>\u001b[0m in \u001b[0;36m<module>\u001b[0;34m()\u001b[0m\n\u001b[1;32m      1\u001b[0m \u001b[0mnum\u001b[0m \u001b[0;34m=\u001b[0m \u001b[0;36m0\u001b[0m\u001b[0;34m\u001b[0m\u001b[0;34m\u001b[0m\u001b[0m\n\u001b[0;32m----> 2\u001b[0;31m \u001b[0mprint\u001b[0m\u001b[0;34m(\u001b[0m\u001b[0;34mf'計算結果:{10/num}'\u001b[0m\u001b[0;34m)\u001b[0m\u001b[0;34m\u001b[0m\u001b[0;34m\u001b[0m\u001b[0m\n\u001b[0m",
            "\u001b[0;31mZeroDivisionError\u001b[0m: division by zero"
          ]
        }
      ]
    },
    {
      "cell_type": "code",
      "metadata": {
        "id": "2lVzwWjUzKD9"
      },
      "source": [
        "def divide(a,b):\n",
        "    try:\n",
        "        print(f'計算結果:{a/b}')\n",
        "    except ZeroDivisionError as e:\n",
        "        print(e)\n",
        "    except TypeError as e:\n",
        "        # print(e)\n",
        "        pass\n",
        "        print('数値以外は入力できません')\n",
        "    finally:\n",
        "        print('正常に終了しました')"
      ],
      "execution_count": 82,
      "outputs": []
    },
    {
      "cell_type": "code",
      "metadata": {
        "colab": {
          "base_uri": "https://localhost:8080/"
        },
        "id": "T-DHLTugzKBg",
        "outputId": "1462c19c-04aa-474d-8a0f-c472ef28b037"
      },
      "source": [
        "divide(10,'kame')"
      ],
      "execution_count": 83,
      "outputs": [
        {
          "output_type": "stream",
          "text": [
            "数値以外は入力できません\n",
            "正常に終了しました\n"
          ],
          "name": "stdout"
        }
      ]
    },
    {
      "cell_type": "code",
      "metadata": {
        "colab": {
          "base_uri": "https://localhost:8080/"
        },
        "id": "GVrvIqm0zJ_B",
        "outputId": "4fb47e57-1cd9-4a0b-a403-87a688cad7c1"
      },
      "source": [
        "divide(10,2)"
      ],
      "execution_count": 81,
      "outputs": [
        {
          "output_type": "stream",
          "text": [
            "計算結果:5.0\n",
            "正常に終了しました\n"
          ],
          "name": "stdout"
        }
      ]
    },
    {
      "cell_type": "code",
      "metadata": {
        "id": "z35EapsYzJ9d"
      },
      "source": [
        ""
      ],
      "execution_count": null,
      "outputs": []
    },
    {
      "cell_type": "code",
      "metadata": {
        "id": "iTlLwvGSzJ5-"
      },
      "source": [
        ""
      ],
      "execution_count": null,
      "outputs": []
    },
    {
      "cell_type": "code",
      "metadata": {
        "id": "IfChRhqMzJ3w"
      },
      "source": [
        ""
      ],
      "execution_count": null,
      "outputs": []
    },
    {
      "cell_type": "code",
      "metadata": {
        "id": "pugtnGZXzJ1-"
      },
      "source": [
        ""
      ],
      "execution_count": null,
      "outputs": []
    }
  ]
}