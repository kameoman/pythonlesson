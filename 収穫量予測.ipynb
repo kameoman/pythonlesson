{
  "nbformat": 4,
  "nbformat_minor": 0,
  "metadata": {
    "colab": {
      "name": "収穫量予測.ipynb",
      "provenance": [],
      "collapsed_sections": [],
      "authorship_tag": "ABX9TyMldsEl2wO6jCdp9tbhPkrl",
      "include_colab_link": true
    },
    "kernelspec": {
      "name": "python3",
      "display_name": "Python 3"
    },
    "language_info": {
      "name": "python"
    }
  },
  "cells": [
    {
      "cell_type": "markdown",
      "metadata": {
        "id": "view-in-github",
        "colab_type": "text"
      },
      "source": [
        "<a href=\"https://colab.research.google.com/github/kameoman/pythonlesson/blob/main/%E5%8F%8E%E7%A9%AB%E9%87%8F%E4%BA%88%E6%B8%AC.ipynb\" target=\"_parent\"><img src=\"https://colab.research.google.com/assets/colab-badge.svg\" alt=\"Open In Colab\"/></a>"
      ]
    },
    {
      "cell_type": "code",
      "metadata": {
        "colab": {
          "base_uri": "https://localhost:8080/"
        },
        "id": "-rOOChCAGYtr",
        "outputId": "7f6013ca-ed68-46b5-af58-fd06d2ec3135"
      },
      "source": [
        "!pip install pystan\n",
        "!pip install fbprophet"
      ],
      "execution_count": 1,
      "outputs": [
        {
          "output_type": "stream",
          "text": [
            "Requirement already satisfied: pystan in /usr/local/lib/python3.7/dist-packages (2.19.1.1)\n",
            "Requirement already satisfied: numpy>=1.7 in /usr/local/lib/python3.7/dist-packages (from pystan) (1.19.5)\n",
            "Requirement already satisfied: Cython!=0.25.1,>=0.22 in /usr/local/lib/python3.7/dist-packages (from pystan) (0.29.23)\n",
            "Requirement already satisfied: fbprophet in /usr/local/lib/python3.7/dist-packages (0.7.1)\n",
            "Requirement already satisfied: Cython>=0.22 in /usr/local/lib/python3.7/dist-packages (from fbprophet) (0.29.23)\n",
            "Requirement already satisfied: cmdstanpy==0.9.5 in /usr/local/lib/python3.7/dist-packages (from fbprophet) (0.9.5)\n",
            "Requirement already satisfied: pystan>=2.14 in /usr/local/lib/python3.7/dist-packages (from fbprophet) (2.19.1.1)\n",
            "Requirement already satisfied: numpy>=1.15.4 in /usr/local/lib/python3.7/dist-packages (from fbprophet) (1.19.5)\n",
            "Requirement already satisfied: pandas>=1.0.4 in /usr/local/lib/python3.7/dist-packages (from fbprophet) (1.1.5)\n",
            "Requirement already satisfied: matplotlib>=2.0.0 in /usr/local/lib/python3.7/dist-packages (from fbprophet) (3.2.2)\n",
            "Requirement already satisfied: LunarCalendar>=0.0.9 in /usr/local/lib/python3.7/dist-packages (from fbprophet) (0.0.9)\n",
            "Requirement already satisfied: convertdate>=2.1.2 in /usr/local/lib/python3.7/dist-packages (from fbprophet) (2.3.2)\n",
            "Requirement already satisfied: holidays>=0.10.2 in /usr/local/lib/python3.7/dist-packages (from fbprophet) (0.10.5.2)\n",
            "Requirement already satisfied: setuptools-git>=1.2 in /usr/local/lib/python3.7/dist-packages (from fbprophet) (1.2)\n",
            "Requirement already satisfied: python-dateutil>=2.8.0 in /usr/local/lib/python3.7/dist-packages (from fbprophet) (2.8.1)\n",
            "Requirement already satisfied: tqdm>=4.36.1 in /usr/local/lib/python3.7/dist-packages (from fbprophet) (4.41.1)\n",
            "Requirement already satisfied: pytz>=2014.10 in /usr/local/lib/python3.7/dist-packages (from convertdate>=2.1.2->fbprophet) (2018.9)\n",
            "Requirement already satisfied: pymeeus<=1,>=0.3.13 in /usr/local/lib/python3.7/dist-packages (from convertdate>=2.1.2->fbprophet) (0.5.11)\n",
            "Requirement already satisfied: korean-lunar-calendar in /usr/local/lib/python3.7/dist-packages (from holidays>=0.10.2->fbprophet) (0.2.1)\n",
            "Requirement already satisfied: six in /usr/local/lib/python3.7/dist-packages (from holidays>=0.10.2->fbprophet) (1.15.0)\n",
            "Requirement already satisfied: hijri-converter in /usr/local/lib/python3.7/dist-packages (from holidays>=0.10.2->fbprophet) (2.1.3)\n",
            "Requirement already satisfied: ephem>=3.7.5.3 in /usr/local/lib/python3.7/dist-packages (from LunarCalendar>=0.0.9->fbprophet) (4.0.0.2)\n",
            "Requirement already satisfied: pyparsing!=2.0.4,!=2.1.2,!=2.1.6,>=2.0.1 in /usr/local/lib/python3.7/dist-packages (from matplotlib>=2.0.0->fbprophet) (2.4.7)\n",
            "Requirement already satisfied: cycler>=0.10 in /usr/local/lib/python3.7/dist-packages (from matplotlib>=2.0.0->fbprophet) (0.10.0)\n",
            "Requirement already satisfied: kiwisolver>=1.0.1 in /usr/local/lib/python3.7/dist-packages (from matplotlib>=2.0.0->fbprophet) (1.3.1)\n"
          ],
          "name": "stdout"
        }
      ]
    },
    {
      "cell_type": "code",
      "metadata": {
        "id": "eUds39aXGgFf"
      },
      "source": [
        "import pandas as pd\n",
        "from fbprophet import Prophet"
      ],
      "execution_count": 50,
      "outputs": []
    },
    {
      "cell_type": "code",
      "metadata": {
        "id": "7eLQMFrkGgDD"
      },
      "source": [
        "years = [2018, 2019, 2020]\n",
        "df = pd.DataFrame()\n",
        "for year in years:\n",
        "    _df = pd.read_csv(f'/content/syukaku{year}.csv', encoding=\"cp932\")\n",
        "    df = pd.concat([df, _df], axis=0)"
      ],
      "execution_count": 122,
      "outputs": []
    },
    {
      "cell_type": "code",
      "metadata": {
        "colab": {
          "base_uri": "https://localhost:8080/",
          "height": 204
        },
        "id": "4DlR1Q7NGgAh",
        "outputId": "7fcf0e20-c847-46ca-cebf-88484a365e47"
      },
      "source": [
        "df.tail()"
      ],
      "execution_count": 125,
      "outputs": [
        {
          "output_type": "execute_result",
          "data": {
            "text/html": [
              "<div>\n",
              "<style scoped>\n",
              "    .dataframe tbody tr th:only-of-type {\n",
              "        vertical-align: middle;\n",
              "    }\n",
              "\n",
              "    .dataframe tbody tr th {\n",
              "        vertical-align: top;\n",
              "    }\n",
              "\n",
              "    .dataframe thead th {\n",
              "        text-align: right;\n",
              "    }\n",
              "</style>\n",
              "<table border=\"1\" class=\"dataframe\">\n",
              "  <thead>\n",
              "    <tr style=\"text-align: right;\">\n",
              "      <th></th>\n",
              "      <th>DATE</th>\n",
              "      <th>出荷実績</th>\n",
              "    </tr>\n",
              "  </thead>\n",
              "  <tbody>\n",
              "    <tr>\n",
              "      <th>361</th>\n",
              "      <td>2020/12/27</td>\n",
              "      <td>0</td>\n",
              "    </tr>\n",
              "    <tr>\n",
              "      <th>362</th>\n",
              "      <td>2020/12/28</td>\n",
              "      <td>0</td>\n",
              "    </tr>\n",
              "    <tr>\n",
              "      <th>363</th>\n",
              "      <td>2020/12/29</td>\n",
              "      <td>0</td>\n",
              "    </tr>\n",
              "    <tr>\n",
              "      <th>364</th>\n",
              "      <td>2020/12/30</td>\n",
              "      <td>0</td>\n",
              "    </tr>\n",
              "    <tr>\n",
              "      <th>365</th>\n",
              "      <td>2020/12/31</td>\n",
              "      <td>0</td>\n",
              "    </tr>\n",
              "  </tbody>\n",
              "</table>\n",
              "</div>"
            ],
            "text/plain": [
              "           DATE  出荷実績\n",
              "361  2020/12/27     0\n",
              "362  2020/12/28     0\n",
              "363  2020/12/29     0\n",
              "364  2020/12/30     0\n",
              "365  2020/12/31     0"
            ]
          },
          "metadata": {
            "tags": []
          },
          "execution_count": 125
        }
      ]
    },
    {
      "cell_type": "code",
      "metadata": {
        "id": "_QMElXivKwAE"
      },
      "source": [
        "datas = []\n",
        "\n",
        "for index,datum in df.iterrows():\n",
        "    count = datum['出荷実績']\n",
        "    data = f'{count}'\n",
        "\n",
        "    datas.append(data)\n",
        "\n"
      ],
      "execution_count": 126,
      "outputs": []
    },
    {
      "cell_type": "code",
      "metadata": {
        "colab": {
          "base_uri": "https://localhost:8080/"
        },
        "id": "t_-Z6gO0MCOP",
        "outputId": "e586dc3f-8b88-425b-86de-cdefee47f6bc"
      },
      "source": [
        "datas[:3]\n"
      ],
      "execution_count": 127,
      "outputs": [
        {
          "output_type": "execute_result",
          "data": {
            "text/plain": [
              "['0', '0', '0']"
            ]
          },
          "metadata": {
            "tags": []
          },
          "execution_count": 127
        }
      ]
    },
    {
      "cell_type": "code",
      "metadata": {
        "id": "z2K2O2jrMX8u"
      },
      "source": [
        "df['y'] = datas"
      ],
      "execution_count": 128,
      "outputs": []
    },
    {
      "cell_type": "code",
      "metadata": {
        "colab": {
          "base_uri": "https://localhost:8080/",
          "height": 204
        },
        "id": "UjkNaetDMctD",
        "outputId": "e4a7acd9-662e-4e8b-b5ce-f69b9f6359b9"
      },
      "source": [
        "df.head()"
      ],
      "execution_count": 129,
      "outputs": [
        {
          "output_type": "execute_result",
          "data": {
            "text/html": [
              "<div>\n",
              "<style scoped>\n",
              "    .dataframe tbody tr th:only-of-type {\n",
              "        vertical-align: middle;\n",
              "    }\n",
              "\n",
              "    .dataframe tbody tr th {\n",
              "        vertical-align: top;\n",
              "    }\n",
              "\n",
              "    .dataframe thead th {\n",
              "        text-align: right;\n",
              "    }\n",
              "</style>\n",
              "<table border=\"1\" class=\"dataframe\">\n",
              "  <thead>\n",
              "    <tr style=\"text-align: right;\">\n",
              "      <th></th>\n",
              "      <th>DATE</th>\n",
              "      <th>出荷実績</th>\n",
              "      <th>y</th>\n",
              "    </tr>\n",
              "  </thead>\n",
              "  <tbody>\n",
              "    <tr>\n",
              "      <th>0</th>\n",
              "      <td>2018/1/1</td>\n",
              "      <td>0</td>\n",
              "      <td>0</td>\n",
              "    </tr>\n",
              "    <tr>\n",
              "      <th>1</th>\n",
              "      <td>2018/1/2</td>\n",
              "      <td>0</td>\n",
              "      <td>0</td>\n",
              "    </tr>\n",
              "    <tr>\n",
              "      <th>2</th>\n",
              "      <td>2018/1/3</td>\n",
              "      <td>0</td>\n",
              "      <td>0</td>\n",
              "    </tr>\n",
              "    <tr>\n",
              "      <th>3</th>\n",
              "      <td>2018/1/4</td>\n",
              "      <td>0</td>\n",
              "      <td>0</td>\n",
              "    </tr>\n",
              "    <tr>\n",
              "      <th>4</th>\n",
              "      <td>2018/1/5</td>\n",
              "      <td>0</td>\n",
              "      <td>0</td>\n",
              "    </tr>\n",
              "  </tbody>\n",
              "</table>\n",
              "</div>"
            ],
            "text/plain": [
              "       DATE  出荷実績  y\n",
              "0  2018/1/1     0  0\n",
              "1  2018/1/2     0  0\n",
              "2  2018/1/3     0  0\n",
              "3  2018/1/4     0  0\n",
              "4  2018/1/5     0  0"
            ]
          },
          "metadata": {
            "tags": []
          },
          "execution_count": 129
        }
      ]
    },
    {
      "cell_type": "code",
      "metadata": {
        "id": "asO2neoMGf79"
      },
      "source": [
        "dates = []\n",
        "\n",
        "for index, datum in df.iterrows():\n",
        "    date = datum['DATE']\n",
        "    str_date = f'{date}'\n",
        "    dates.append(date)\n",
        "    \n"
      ],
      "execution_count": 130,
      "outputs": []
    },
    {
      "cell_type": "code",
      "metadata": {
        "id": "CYIMMTwHm1CD"
      },
      "source": [
        "from datetime import datetime as dt"
      ],
      "execution_count": 152,
      "outputs": []
    },
    {
      "cell_type": "code",
      "metadata": {
        "colab": {
          "base_uri": "https://localhost:8080/"
        },
        "id": "rc6sH3fKN91b",
        "outputId": "51bd49e1-54ac-4a8f-a8e7-fb28d3fea53d"
      },
      "source": [
        "dates[:3]"
      ],
      "execution_count": 153,
      "outputs": [
        {
          "output_type": "execute_result",
          "data": {
            "text/plain": [
              "['2018/1/1', '2018/1/2', '2018/1/3']"
            ]
          },
          "metadata": {
            "tags": []
          },
          "execution_count": 153
        }
      ]
    },
    {
      "cell_type": "code",
      "metadata": {
        "id": "xb86PawqOF2z"
      },
      "source": [
        "df['ds'] = dates"
      ],
      "execution_count": 154,
      "outputs": []
    },
    {
      "cell_type": "code",
      "metadata": {
        "colab": {
          "base_uri": "https://localhost:8080/",
          "height": 204
        },
        "id": "rp_d5dbeONvQ",
        "outputId": "f8b50532-ff05-46fc-b791-e17b258cd8b9"
      },
      "source": [
        "df.head()"
      ],
      "execution_count": 155,
      "outputs": [
        {
          "output_type": "execute_result",
          "data": {
            "text/html": [
              "<div>\n",
              "<style scoped>\n",
              "    .dataframe tbody tr th:only-of-type {\n",
              "        vertical-align: middle;\n",
              "    }\n",
              "\n",
              "    .dataframe tbody tr th {\n",
              "        vertical-align: top;\n",
              "    }\n",
              "\n",
              "    .dataframe thead th {\n",
              "        text-align: right;\n",
              "    }\n",
              "</style>\n",
              "<table border=\"1\" class=\"dataframe\">\n",
              "  <thead>\n",
              "    <tr style=\"text-align: right;\">\n",
              "      <th></th>\n",
              "      <th>DATE</th>\n",
              "      <th>出荷実績</th>\n",
              "      <th>y</th>\n",
              "      <th>ds</th>\n",
              "    </tr>\n",
              "  </thead>\n",
              "  <tbody>\n",
              "    <tr>\n",
              "      <th>0</th>\n",
              "      <td>2018/1/1</td>\n",
              "      <td>0</td>\n",
              "      <td>0</td>\n",
              "      <td>2018/1/1</td>\n",
              "    </tr>\n",
              "    <tr>\n",
              "      <th>1</th>\n",
              "      <td>2018/1/2</td>\n",
              "      <td>0</td>\n",
              "      <td>0</td>\n",
              "      <td>2018/1/2</td>\n",
              "    </tr>\n",
              "    <tr>\n",
              "      <th>2</th>\n",
              "      <td>2018/1/3</td>\n",
              "      <td>0</td>\n",
              "      <td>0</td>\n",
              "      <td>2018/1/3</td>\n",
              "    </tr>\n",
              "    <tr>\n",
              "      <th>3</th>\n",
              "      <td>2018/1/4</td>\n",
              "      <td>0</td>\n",
              "      <td>0</td>\n",
              "      <td>2018/1/4</td>\n",
              "    </tr>\n",
              "    <tr>\n",
              "      <th>4</th>\n",
              "      <td>2018/1/5</td>\n",
              "      <td>0</td>\n",
              "      <td>0</td>\n",
              "      <td>2018/1/5</td>\n",
              "    </tr>\n",
              "  </tbody>\n",
              "</table>\n",
              "</div>"
            ],
            "text/plain": [
              "       DATE  出荷実績  y        ds\n",
              "0  2018/1/1     0  0  2018/1/1\n",
              "1  2018/1/2     0  0  2018/1/2\n",
              "2  2018/1/3     0  0  2018/1/3\n",
              "3  2018/1/4     0  0  2018/1/4\n",
              "4  2018/1/5     0  0  2018/1/5"
            ]
          },
          "metadata": {
            "tags": []
          },
          "execution_count": 155
        }
      ]
    },
    {
      "cell_type": "code",
      "metadata": {
        "id": "-LG0TtWzGf5j"
      },
      "source": [
        "model = Prophet()"
      ],
      "execution_count": 156,
      "outputs": []
    },
    {
      "cell_type": "code",
      "metadata": {
        "id": "fY_u5_PuGf3K",
        "colab": {
          "base_uri": "https://localhost:8080/"
        },
        "outputId": "175a4246-af36-4359-ebc2-2736eef8c31f"
      },
      "source": [
        "model.fit(df)"
      ],
      "execution_count": 157,
      "outputs": [
        {
          "output_type": "stream",
          "text": [
            "INFO:fbprophet:Disabling daily seasonality. Run prophet with daily_seasonality=True to override this.\n"
          ],
          "name": "stderr"
        },
        {
          "output_type": "execute_result",
          "data": {
            "text/plain": [
              "<fbprophet.forecaster.Prophet at 0x7fb806c926d0>"
            ]
          },
          "metadata": {
            "tags": []
          },
          "execution_count": 157
        }
      ]
    },
    {
      "cell_type": "code",
      "metadata": {
        "id": "s8RFgNvqGf1B",
        "colab": {
          "base_uri": "https://localhost:8080/"
        },
        "outputId": "4bfaf38f-a1cf-4dbc-943b-787c8761c93c"
      },
      "source": [
        "future = model.make_future_dataframe(24*365, freq='H')\n",
        "future.tail"
      ],
      "execution_count": 158,
      "outputs": [
        {
          "output_type": "execute_result",
          "data": {
            "text/plain": [
              "<bound method NDFrame.tail of                       ds\n",
              "0    2018-01-01 00:00:00\n",
              "1    2018-01-02 00:00:00\n",
              "2    2018-01-03 00:00:00\n",
              "3    2018-01-04 00:00:00\n",
              "4    2018-01-05 00:00:00\n",
              "...                  ...\n",
              "9851 2021-12-30 20:00:00\n",
              "9852 2021-12-30 21:00:00\n",
              "9853 2021-12-30 22:00:00\n",
              "9854 2021-12-30 23:00:00\n",
              "9855 2021-12-31 00:00:00\n",
              "\n",
              "[9856 rows x 1 columns]>"
            ]
          },
          "metadata": {
            "tags": []
          },
          "execution_count": 158
        }
      ]
    },
    {
      "cell_type": "code",
      "metadata": {
        "id": "Myhfa3tthD0G"
      },
      "source": [
        "forecast = model.predict(future)"
      ],
      "execution_count": 159,
      "outputs": []
    },
    {
      "cell_type": "code",
      "metadata": {
        "id": "9WldEN2JGfyg"
      },
      "source": [
        "import matplotlib.pyplot as plt"
      ],
      "execution_count": 160,
      "outputs": []
    },
    {
      "cell_type": "code",
      "metadata": {
        "id": "9kBvyvFzGfwW",
        "colab": {
          "base_uri": "https://localhost:8080/",
          "height": 441
        },
        "outputId": "a9d8aad5-3f7e-45f1-f303-a20cef3d07ef"
      },
      "source": [
        "model.plot(forecast)\n",
        "plt.show()"
      ],
      "execution_count": 161,
      "outputs": [
        {
          "output_type": "display_data",
          "data": {
            "image/png": "[encoded data removed]",
            "text/plain": [
              "<Figure size 720x432 with 1 Axes>"
            ]
          },
          "metadata": {
            "tags": []
          }
        }
      ]
    },
    {
      "cell_type": "code",
      "metadata": {
        "id": "HBd8p8yIGfuP"
      },
      "source": [
        "df_2020 = pd.read_csv(f'/content/syukaku2020.csv', encoding=\"cp932\")"
      ],
      "execution_count": 162,
      "outputs": []
    },
    {
      "cell_type": "code",
      "metadata": {
        "id": "Fl52hnsjGfr9",
        "colab": {
          "base_uri": "https://localhost:8080/",
          "height": 204
        },
        "outputId": "b30535c2-eee3-4844-cdff-17d8452f7c3a"
      },
      "source": [
        "df_2020.head()"
      ],
      "execution_count": 163,
      "outputs": [
        {
          "output_type": "execute_result",
          "data": {
            "text/html": [
              "<div>\n",
              "<style scoped>\n",
              "    .dataframe tbody tr th:only-of-type {\n",
              "        vertical-align: middle;\n",
              "    }\n",
              "\n",
              "    .dataframe tbody tr th {\n",
              "        vertical-align: top;\n",
              "    }\n",
              "\n",
              "    .dataframe thead th {\n",
              "        text-align: right;\n",
              "    }\n",
              "</style>\n",
              "<table border=\"1\" class=\"dataframe\">\n",
              "  <thead>\n",
              "    <tr style=\"text-align: right;\">\n",
              "      <th></th>\n",
              "      <th>DATE</th>\n",
              "      <th>出荷実績</th>\n",
              "    </tr>\n",
              "  </thead>\n",
              "  <tbody>\n",
              "    <tr>\n",
              "      <th>0</th>\n",
              "      <td>2020/1/1</td>\n",
              "      <td>0</td>\n",
              "    </tr>\n",
              "    <tr>\n",
              "      <th>1</th>\n",
              "      <td>2020/1/2</td>\n",
              "      <td>0</td>\n",
              "    </tr>\n",
              "    <tr>\n",
              "      <th>2</th>\n",
              "      <td>2020/1/3</td>\n",
              "      <td>0</td>\n",
              "    </tr>\n",
              "    <tr>\n",
              "      <th>3</th>\n",
              "      <td>2020/1/4</td>\n",
              "      <td>0</td>\n",
              "    </tr>\n",
              "    <tr>\n",
              "      <th>4</th>\n",
              "      <td>2020/1/5</td>\n",
              "      <td>0</td>\n",
              "    </tr>\n",
              "  </tbody>\n",
              "</table>\n",
              "</div>"
            ],
            "text/plain": [
              "       DATE  出荷実績\n",
              "0  2020/1/1     0\n",
              "1  2020/1/2     0\n",
              "2  2020/1/3     0\n",
              "3  2020/1/4     0\n",
              "4  2020/1/5     0"
            ]
          },
          "metadata": {
            "tags": []
          },
          "execution_count": 163
        }
      ]
    },
    {
      "cell_type": "code",
      "metadata": {
        "id": "BJGoJpm6Gfpj",
        "colab": {
          "base_uri": "https://localhost:8080/",
          "height": 309
        },
        "outputId": "20a6ceff-7d80-4357-b877-d80e7ff1e19e"
      },
      "source": [
        "forecast_2020 = forecast[forecast['ds'] >= dt(2020, 1, 1)].reset_index(drop=True)\n",
        "forecast_2020.head()"
      ],
      "execution_count": 171,
      "outputs": [
        {
          "output_type": "execute_result",
          "data": {
            "text/html": [
              "<div>\n",
              "<style scoped>\n",
              "    .dataframe tbody tr th:only-of-type {\n",
              "        vertical-align: middle;\n",
              "    }\n",
              "\n",
              "    .dataframe tbody tr th {\n",
              "        vertical-align: top;\n",
              "    }\n",
              "\n",
              "    .dataframe thead th {\n",
              "        text-align: right;\n",
              "    }\n",
              "</style>\n",
              "<table border=\"1\" class=\"dataframe\">\n",
              "  <thead>\n",
              "    <tr style=\"text-align: right;\">\n",
              "      <th></th>\n",
              "      <th>ds</th>\n",
              "      <th>trend</th>\n",
              "      <th>yhat_lower</th>\n",
              "      <th>yhat_upper</th>\n",
              "      <th>trend_lower</th>\n",
              "      <th>trend_upper</th>\n",
              "      <th>additive_terms</th>\n",
              "      <th>additive_terms_lower</th>\n",
              "      <th>additive_terms_upper</th>\n",
              "      <th>weekly</th>\n",
              "      <th>weekly_lower</th>\n",
              "      <th>weekly_upper</th>\n",
              "      <th>yearly</th>\n",
              "      <th>yearly_lower</th>\n",
              "      <th>yearly_upper</th>\n",
              "      <th>multiplicative_terms</th>\n",
              "      <th>multiplicative_terms_lower</th>\n",
              "      <th>multiplicative_terms_upper</th>\n",
              "      <th>yhat</th>\n",
              "    </tr>\n",
              "  </thead>\n",
              "  <tbody>\n",
              "    <tr>\n",
              "      <th>0</th>\n",
              "      <td>2020-01-01</td>\n",
              "      <td>17.619758</td>\n",
              "      <td>-15.425307</td>\n",
              "      <td>13.493254</td>\n",
              "      <td>17.619758</td>\n",
              "      <td>17.619758</td>\n",
              "      <td>-19.227021</td>\n",
              "      <td>-19.227021</td>\n",
              "      <td>-19.227021</td>\n",
              "      <td>0.508596</td>\n",
              "      <td>0.508596</td>\n",
              "      <td>0.508596</td>\n",
              "      <td>-19.735616</td>\n",
              "      <td>-19.735616</td>\n",
              "      <td>-19.735616</td>\n",
              "      <td>0.0</td>\n",
              "      <td>0.0</td>\n",
              "      <td>0.0</td>\n",
              "      <td>-1.607263</td>\n",
              "    </tr>\n",
              "    <tr>\n",
              "      <th>1</th>\n",
              "      <td>2020-01-02</td>\n",
              "      <td>17.615827</td>\n",
              "      <td>-15.650848</td>\n",
              "      <td>12.447681</td>\n",
              "      <td>17.615827</td>\n",
              "      <td>17.615827</td>\n",
              "      <td>-19.283532</td>\n",
              "      <td>-19.283532</td>\n",
              "      <td>-19.283532</td>\n",
              "      <td>0.512223</td>\n",
              "      <td>0.512223</td>\n",
              "      <td>0.512223</td>\n",
              "      <td>-19.795755</td>\n",
              "      <td>-19.795755</td>\n",
              "      <td>-19.795755</td>\n",
              "      <td>0.0</td>\n",
              "      <td>0.0</td>\n",
              "      <td>0.0</td>\n",
              "      <td>-1.667706</td>\n",
              "    </tr>\n",
              "    <tr>\n",
              "      <th>2</th>\n",
              "      <td>2020-01-03</td>\n",
              "      <td>17.611896</td>\n",
              "      <td>-15.953309</td>\n",
              "      <td>10.827627</td>\n",
              "      <td>17.611896</td>\n",
              "      <td>17.611896</td>\n",
              "      <td>-20.080657</td>\n",
              "      <td>-20.080657</td>\n",
              "      <td>-20.080657</td>\n",
              "      <td>-0.273644</td>\n",
              "      <td>-0.273644</td>\n",
              "      <td>-0.273644</td>\n",
              "      <td>-19.807013</td>\n",
              "      <td>-19.807013</td>\n",
              "      <td>-19.807013</td>\n",
              "      <td>0.0</td>\n",
              "      <td>0.0</td>\n",
              "      <td>0.0</td>\n",
              "      <td>-2.468761</td>\n",
              "    </tr>\n",
              "    <tr>\n",
              "      <th>3</th>\n",
              "      <td>2020-01-04</td>\n",
              "      <td>17.607965</td>\n",
              "      <td>-16.865729</td>\n",
              "      <td>11.070585</td>\n",
              "      <td>17.607965</td>\n",
              "      <td>17.607965</td>\n",
              "      <td>-20.425710</td>\n",
              "      <td>-20.425710</td>\n",
              "      <td>-20.425710</td>\n",
              "      <td>-0.655146</td>\n",
              "      <td>-0.655146</td>\n",
              "      <td>-0.655146</td>\n",
              "      <td>-19.770564</td>\n",
              "      <td>-19.770564</td>\n",
              "      <td>-19.770564</td>\n",
              "      <td>0.0</td>\n",
              "      <td>0.0</td>\n",
              "      <td>0.0</td>\n",
              "      <td>-2.817746</td>\n",
              "    </tr>\n",
              "    <tr>\n",
              "      <th>4</th>\n",
              "      <td>2020-01-05</td>\n",
              "      <td>17.604033</td>\n",
              "      <td>-17.288199</td>\n",
              "      <td>11.622008</td>\n",
              "      <td>17.604033</td>\n",
              "      <td>17.604033</td>\n",
              "      <td>-20.340942</td>\n",
              "      <td>-20.340942</td>\n",
              "      <td>-20.340942</td>\n",
              "      <td>-0.651799</td>\n",
              "      <td>-0.651799</td>\n",
              "      <td>-0.651799</td>\n",
              "      <td>-19.689143</td>\n",
              "      <td>-19.689143</td>\n",
              "      <td>-19.689143</td>\n",
              "      <td>0.0</td>\n",
              "      <td>0.0</td>\n",
              "      <td>0.0</td>\n",
              "      <td>-2.736909</td>\n",
              "    </tr>\n",
              "  </tbody>\n",
              "</table>\n",
              "</div>"
            ],
            "text/plain": [
              "          ds      trend  ...  multiplicative_terms_upper      yhat\n",
              "0 2020-01-01  17.619758  ...                         0.0 -1.607263\n",
              "1 2020-01-02  17.615827  ...                         0.0 -1.667706\n",
              "2 2020-01-03  17.611896  ...                         0.0 -2.468761\n",
              "3 2020-01-04  17.607965  ...                         0.0 -2.817746\n",
              "4 2020-01-05  17.604033  ...                         0.0 -2.736909\n",
              "\n",
              "[5 rows x 19 columns]"
            ]
          },
          "metadata": {
            "tags": []
          },
          "execution_count": 171
        }
      ]
    },
    {
      "cell_type": "code",
      "metadata": {
        "colab": {
          "base_uri": "https://localhost:8080/",
          "height": 204
        },
        "id": "OJ5LMAMWnTtp",
        "outputId": "398bb855-3db4-4406-9fcf-bec17e41eea9"
      },
      "source": [
        "df_2020 = df_2020.rename(columns={'出荷実績': 'y'})\n",
        "df_2020.head()"
      ],
      "execution_count": 172,
      "outputs": [
        {
          "output_type": "execute_result",
          "data": {
            "text/html": [
              "<div>\n",
              "<style scoped>\n",
              "    .dataframe tbody tr th:only-of-type {\n",
              "        vertical-align: middle;\n",
              "    }\n",
              "\n",
              "    .dataframe tbody tr th {\n",
              "        vertical-align: top;\n",
              "    }\n",
              "\n",
              "    .dataframe thead th {\n",
              "        text-align: right;\n",
              "    }\n",
              "</style>\n",
              "<table border=\"1\" class=\"dataframe\">\n",
              "  <thead>\n",
              "    <tr style=\"text-align: right;\">\n",
              "      <th></th>\n",
              "      <th>DATE</th>\n",
              "      <th>y</th>\n",
              "    </tr>\n",
              "  </thead>\n",
              "  <tbody>\n",
              "    <tr>\n",
              "      <th>0</th>\n",
              "      <td>2020/1/1</td>\n",
              "      <td>0</td>\n",
              "    </tr>\n",
              "    <tr>\n",
              "      <th>1</th>\n",
              "      <td>2020/1/2</td>\n",
              "      <td>0</td>\n",
              "    </tr>\n",
              "    <tr>\n",
              "      <th>2</th>\n",
              "      <td>2020/1/3</td>\n",
              "      <td>0</td>\n",
              "    </tr>\n",
              "    <tr>\n",
              "      <th>3</th>\n",
              "      <td>2020/1/4</td>\n",
              "      <td>0</td>\n",
              "    </tr>\n",
              "    <tr>\n",
              "      <th>4</th>\n",
              "      <td>2020/1/5</td>\n",
              "      <td>0</td>\n",
              "    </tr>\n",
              "  </tbody>\n",
              "</table>\n",
              "</div>"
            ],
            "text/plain": [
              "       DATE  y\n",
              "0  2020/1/1  0\n",
              "1  2020/1/2  0\n",
              "2  2020/1/3  0\n",
              "3  2020/1/4  0\n",
              "4  2020/1/5  0"
            ]
          },
          "metadata": {
            "tags": []
          },
          "execution_count": 172
        }
      ]
    },
    {
      "cell_type": "code",
      "metadata": {
        "colab": {
          "base_uri": "https://localhost:8080/",
          "height": 669
        },
        "id": "tIGViQAvpyqF",
        "outputId": "ffef2370-2601-4abc-b4b5-60615e3380d3"
      },
      "source": [
        "results = pd.DataFrame()\n",
        "#実測値\n",
        "results['t'] = df_2020['y']\n",
        "#予測値\n",
        "results['y'] = forecast_2020['yhat']\n",
        "\n",
        "results['diff'] = results['t'] - results['y']\n",
        "\n",
        "results[180:200]"
      ],
      "execution_count": 178,
      "outputs": [
        {
          "output_type": "execute_result",
          "data": {
            "text/html": [
              "<div>\n",
              "<style scoped>\n",
              "    .dataframe tbody tr th:only-of-type {\n",
              "        vertical-align: middle;\n",
              "    }\n",
              "\n",
              "    .dataframe tbody tr th {\n",
              "        vertical-align: top;\n",
              "    }\n",
              "\n",
              "    .dataframe thead th {\n",
              "        text-align: right;\n",
              "    }\n",
              "</style>\n",
              "<table border=\"1\" class=\"dataframe\">\n",
              "  <thead>\n",
              "    <tr style=\"text-align: right;\">\n",
              "      <th></th>\n",
              "      <th>t</th>\n",
              "      <th>y</th>\n",
              "      <th>diff</th>\n",
              "    </tr>\n",
              "  </thead>\n",
              "  <tbody>\n",
              "    <tr>\n",
              "      <th>180</th>\n",
              "      <td>60</td>\n",
              "      <td>68.674482</td>\n",
              "      <td>-8.674482</td>\n",
              "    </tr>\n",
              "    <tr>\n",
              "      <th>181</th>\n",
              "      <td>100</td>\n",
              "      <td>72.314932</td>\n",
              "      <td>27.685068</td>\n",
              "    </tr>\n",
              "    <tr>\n",
              "      <th>182</th>\n",
              "      <td>100</td>\n",
              "      <td>74.837060</td>\n",
              "      <td>25.162940</td>\n",
              "    </tr>\n",
              "    <tr>\n",
              "      <th>183</th>\n",
              "      <td>100</td>\n",
              "      <td>77.678126</td>\n",
              "      <td>22.321874</td>\n",
              "    </tr>\n",
              "    <tr>\n",
              "      <th>184</th>\n",
              "      <td>80</td>\n",
              "      <td>79.762399</td>\n",
              "      <td>0.237601</td>\n",
              "    </tr>\n",
              "    <tr>\n",
              "      <th>185</th>\n",
              "      <td>100</td>\n",
              "      <td>82.248924</td>\n",
              "      <td>17.751076</td>\n",
              "    </tr>\n",
              "    <tr>\n",
              "      <th>186</th>\n",
              "      <td>80</td>\n",
              "      <td>85.080623</td>\n",
              "      <td>-5.080623</td>\n",
              "    </tr>\n",
              "    <tr>\n",
              "      <th>187</th>\n",
              "      <td>100</td>\n",
              "      <td>88.281509</td>\n",
              "      <td>11.718491</td>\n",
              "    </tr>\n",
              "    <tr>\n",
              "      <th>188</th>\n",
              "      <td>100</td>\n",
              "      <td>91.869334</td>\n",
              "      <td>8.130666</td>\n",
              "    </tr>\n",
              "    <tr>\n",
              "      <th>189</th>\n",
              "      <td>80</td>\n",
              "      <td>94.084027</td>\n",
              "      <td>-14.084027</td>\n",
              "    </tr>\n",
              "    <tr>\n",
              "      <th>190</th>\n",
              "      <td>100</td>\n",
              "      <td>96.348858</td>\n",
              "      <td>3.651142</td>\n",
              "    </tr>\n",
              "    <tr>\n",
              "      <th>191</th>\n",
              "      <td>70</td>\n",
              "      <td>97.578607</td>\n",
              "      <td>-27.578607</td>\n",
              "    </tr>\n",
              "    <tr>\n",
              "      <th>192</th>\n",
              "      <td>70</td>\n",
              "      <td>98.927790</td>\n",
              "      <td>-28.927790</td>\n",
              "    </tr>\n",
              "    <tr>\n",
              "      <th>193</th>\n",
              "      <td>70</td>\n",
              "      <td>100.340116</td>\n",
              "      <td>-30.340116</td>\n",
              "    </tr>\n",
              "    <tr>\n",
              "      <th>194</th>\n",
              "      <td>70</td>\n",
              "      <td>101.845925</td>\n",
              "      <td>-31.845925</td>\n",
              "    </tr>\n",
              "    <tr>\n",
              "      <th>195</th>\n",
              "      <td>100</td>\n",
              "      <td>103.474947</td>\n",
              "      <td>-3.474947</td>\n",
              "    </tr>\n",
              "    <tr>\n",
              "      <th>196</th>\n",
              "      <td>100</td>\n",
              "      <td>103.484702</td>\n",
              "      <td>-3.484702</td>\n",
              "    </tr>\n",
              "    <tr>\n",
              "      <th>197</th>\n",
              "      <td>100</td>\n",
              "      <td>103.321497</td>\n",
              "      <td>-3.321497</td>\n",
              "    </tr>\n",
              "    <tr>\n",
              "      <th>198</th>\n",
              "      <td>100</td>\n",
              "      <td>101.928283</td>\n",
              "      <td>-1.928283</td>\n",
              "    </tr>\n",
              "    <tr>\n",
              "      <th>199</th>\n",
              "      <td>70</td>\n",
              "      <td>100.492445</td>\n",
              "      <td>-30.492445</td>\n",
              "    </tr>\n",
              "  </tbody>\n",
              "</table>\n",
              "</div>"
            ],
            "text/plain": [
              "       t           y       diff\n",
              "180   60   68.674482  -8.674482\n",
              "181  100   72.314932  27.685068\n",
              "182  100   74.837060  25.162940\n",
              "183  100   77.678126  22.321874\n",
              "184   80   79.762399   0.237601\n",
              "185  100   82.248924  17.751076\n",
              "186   80   85.080623  -5.080623\n",
              "187  100   88.281509  11.718491\n",
              "188  100   91.869334   8.130666\n",
              "189   80   94.084027 -14.084027\n",
              "190  100   96.348858   3.651142\n",
              "191   70   97.578607 -27.578607\n",
              "192   70   98.927790 -28.927790\n",
              "193   70  100.340116 -30.340116\n",
              "194   70  101.845925 -31.845925\n",
              "195  100  103.474947  -3.474947\n",
              "196  100  103.484702  -3.484702\n",
              "197  100  103.321497  -3.321497\n",
              "198  100  101.928283  -1.928283\n",
              "199   70  100.492445 -30.492445"
            ]
          },
          "metadata": {
            "tags": []
          },
          "execution_count": 178
        }
      ]
    },
    {
      "cell_type": "code",
      "metadata": {
        "id": "ygjm8hrvpyml"
      },
      "source": [
        ""
      ],
      "execution_count": null,
      "outputs": []
    },
    {
      "cell_type": "code",
      "metadata": {
        "id": "rt0OLnlFpykd"
      },
      "source": [
        ""
      ],
      "execution_count": null,
      "outputs": []
    },
    {
      "cell_type": "code",
      "metadata": {
        "id": "Mt3eYlsGpyiI"
      },
      "source": [
        ""
      ],
      "execution_count": null,
      "outputs": []
    },
    {
      "cell_type": "code",
      "metadata": {
        "id": "CIVWQLVXpyf2"
      },
      "source": [
        ""
      ],
      "execution_count": null,
      "outputs": []
    },
    {
      "cell_type": "code",
      "metadata": {
        "id": "3T32l0JTpyeY"
      },
      "source": [
        ""
      ],
      "execution_count": null,
      "outputs": []
    },
    {
      "cell_type": "code",
      "metadata": {
        "id": "fQBaEN99pyb2"
      },
      "source": [
        ""
      ],
      "execution_count": null,
      "outputs": []
    },
    {
      "cell_type": "code",
      "metadata": {
        "id": "5BY9TDT_pyZb"
      },
      "source": [
        ""
      ],
      "execution_count": null,
      "outputs": []
    },
    {
      "cell_type": "code",
      "metadata": {
        "id": "zZldPKiQpyXk"
      },
      "source": [
        ""
      ],
      "execution_count": null,
      "outputs": []
    },
    {
      "cell_type": "code",
      "metadata": {
        "id": "VvB2Mfd0pyVW"
      },
      "source": [
        ""
      ],
      "execution_count": null,
      "outputs": []
    },
    {
      "cell_type": "code",
      "metadata": {
        "id": "zmFFxfB_pyS9"
      },
      "source": [
        ""
      ],
      "execution_count": null,
      "outputs": []
    },
    {
      "cell_type": "code",
      "metadata": {
        "id": "nMDUZ7OopyQv"
      },
      "source": [
        ""
      ],
      "execution_count": null,
      "outputs": []
    }
  ]
}