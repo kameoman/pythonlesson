{
  "nbformat": 4,
  "nbformat_minor": 0,
  "metadata": {
    "colab": {
      "name": "写真から文字出力（完成版）.ipynb",
      "provenance": [],
      "authorship_tag": "ABX9TyP9xWX6VpeJjqIqX8H/dapW",
      "include_colab_link": true
    },
    "kernelspec": {
      "name": "python3",
      "display_name": "Python 3"
    },
    "language_info": {
      "name": "python"
    }
  },
  "cells": [
    {
      "cell_type": "markdown",
      "metadata": {
        "id": "view-in-github",
        "colab_type": "text"
      },
      "source": [
        "<a href=\"https://colab.research.google.com/github/kameoman/pythonlesson/blob/main/%E5%86%99%E7%9C%9F%E3%81%8B%E3%82%89%E6%96%87%E5%AD%97%E5%87%BA%E5%8A%9B%EF%BC%88%E5%AE%8C%E6%88%90%E7%89%88%EF%BC%89.ipynb\" target=\"_parent\"><img src=\"https://colab.research.google.com/assets/colab-badge.svg\" alt=\"Open In Colab\"/></a>"
      ]
    },
    {
      "cell_type": "code",
      "metadata": {
        "id": "CFmFmsHWmwcF"
      },
      "source": [
        "!apt install tesseract-ocr libtesseract-dev tesseract-ocr-jpn"
      ],
      "execution_count": null,
      "outputs": []
    },
    {
      "cell_type": "code",
      "metadata": {
        "id": "0tVTg-ugmxQz"
      },
      "source": [
        "!pip install pyocr"
      ],
      "execution_count": null,
      "outputs": []
    },
    {
      "cell_type": "code",
      "metadata": {
        "id": "cKd98zEYmxOR"
      },
      "source": [
        "from IPython.display import Image,display_png"
      ],
      "execution_count": 3,
      "outputs": []
    },
    {
      "cell_type": "code",
      "metadata": {
        "id": "xVs-eT1ZmxMH"
      },
      "source": [
        "from PIL import Image\n",
        "import pyocr\n",
        "import pyocr.builders\n",
        "import cv2\n",
        "\n",
        "\n",
        "tools = pyocr.get_available_tools()\n",
        "\n",
        "#OCRが使えるかチェック\n",
        "if len(tools) == 0:\n",
        "    print('OCRツールが使えません')\n",
        "    sys.exit(1)\n",
        "\n",
        "tool = tools[0]\n",
        "\n",
        "langs = tool.get_available_languages()\n",
        "\n",
        "\n",
        "#OCRを行う画像を読み込み\n",
        "from google.colab import files\n",
        "f = files.upload()\n",
        "#読み込んだ画像のファイル名\n",
        "filename2 = list(f)[0]\n",
        "\n",
        "results = tool.image_to_string( \n",
        "    Image.open(filename2), #ここを変更\n",
        "    lang='jpn', \n",
        "    builder=pyocr.builders.WordBoxBuilder(tesseract_layout=6)\n",
        ")\n",
        "\n",
        "out = cv2.imread(filename2)\n",
        "for box in results:\n",
        "    cv2.rectangle(out, box.position[0], box.position[1],(0,0,255), 2)\n",
        "cv2.imwrite('output.png', out)\n",
        "\n",
        "# OCRを実行する画像イメージや言語指定、オプション指定\n",
        "txt = tool.image_to_string( \n",
        "    Image.open(filename2), #ここを変更\n",
        "    lang='jpn', \n",
        "    builder=pyocr.builders.TextBuilder(tesseract_layout=3)\n",
        ")\n",
        "print(txt)"
      ],
      "execution_count": null,
      "outputs": []
    },
    {
      "cell_type": "code",
      "metadata": {
        "id": "r1jl2AzJmxJt"
      },
      "source": [
        "img_out = Image.open('output.png')\n",
        "img_out"
      ],
      "execution_count": null,
      "outputs": []
    },
    {
      "cell_type": "code",
      "metadata": {
        "id": "0dhjDfg3mxHS"
      },
      "source": [
        ""
      ],
      "execution_count": null,
      "outputs": []
    },
    {
      "cell_type": "code",
      "metadata": {
        "id": "fVdLf8g7mxFH"
      },
      "source": [
        ""
      ],
      "execution_count": null,
      "outputs": []
    },
    {
      "cell_type": "code",
      "metadata": {
        "id": "Vwd_fnfEmxC6"
      },
      "source": [
        ""
      ],
      "execution_count": null,
      "outputs": []
    },
    {
      "cell_type": "code",
      "metadata": {
        "id": "NYYnfTvvmxAd"
      },
      "source": [
        ""
      ],
      "execution_count": null,
      "outputs": []
    },
    {
      "cell_type": "code",
      "metadata": {
        "id": "Wq0MpsAkmw-H"
      },
      "source": [
        ""
      ],
      "execution_count": null,
      "outputs": []
    }
  ]
}