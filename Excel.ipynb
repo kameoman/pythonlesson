{
  "nbformat": 4,
  "nbformat_minor": 0,
  "metadata": {
    "colab": {
      "name": "Excel.ipynb",
      "provenance": [],
      "authorship_tag": "ABX9TyM8apBQ0snsxc2NH0Om9aQW",
      "include_colab_link": true
    },
    "kernelspec": {
      "name": "python3",
      "display_name": "Python 3"
    },
    "language_info": {
      "name": "python"
    }
  },
  "cells": [
    {
      "cell_type": "markdown",
      "metadata": {
        "id": "view-in-github",
        "colab_type": "text"
      },
      "source": [
        "<a href=\"https://colab.research.google.com/github/kameoman/pythonlesson/blob/main/Excel.ipynb\" target=\"_parent\"><img src=\"https://colab.research.google.com/assets/colab-badge.svg\" alt=\"Open In Colab\"/></a>"
      ]
    },
    {
      "cell_type": "code",
      "metadata": {
        "id": "Lw9lht1BgpvP"
      },
      "source": [
        "import pandas as pd\n",
        "from glob import glob"
      ],
      "execution_count": 1,
      "outputs": []
    },
    {
      "cell_type": "code",
      "metadata": {
        "colab": {
          "base_uri": "https://localhost:8080/"
        },
        "id": "GVdn5hPQgxvj",
        "outputId": "6ff05665-8e2f-4f51-d8a4-7543365f9796"
      },
      "source": [
        "filepaths = glob('*.xlsx')\n",
        "filepaths"
      ],
      "execution_count": 9,
      "outputs": [
        {
          "output_type": "execute_result",
          "data": {
            "text/plain": [
              "['請求書_10月_TTTInc.xlsx', '請求書_11月_XYZ株式会社.xlsx', '請求書_12月_株式会社ABC.xlsx']"
            ]
          },
          "metadata": {},
          "execution_count": 9
        }
      ]
    },
    {
      "cell_type": "code",
      "metadata": {
        "id": "CoVKVIePgxsa"
      },
      "source": [
        "filepath = filepaths[0]"
      ],
      "execution_count": 10,
      "outputs": []
    },
    {
      "cell_type": "code",
      "metadata": {
        "id": "ViTlFJDtgxp-",
        "colab": {
          "base_uri": "https://localhost:8080/",
          "height": 35
        },
        "outputId": "a76ded21-78f5-42cf-8726-f360d98a790c"
      },
      "source": [
        "filepath"
      ],
      "execution_count": 11,
      "outputs": [
        {
          "output_type": "execute_result",
          "data": {
            "application/vnd.google.colaboratory.intrinsic+json": {
              "type": "string"
            },
            "text/plain": [
              "'請求書_10月_TTTInc.xlsx'"
            ]
          },
          "metadata": {},
          "execution_count": 11
        }
      ]
    },
    {
      "cell_type": "code",
      "metadata": {
        "id": "i63ynHGegxnm"
      },
      "source": [
        "_df = pd.read_excel(filepath)\n",
        "_df"
      ],
      "execution_count": null,
      "outputs": []
    },
    {
      "cell_type": "code",
      "metadata": {
        "id": "42fRpy97gxlh",
        "colab": {
          "base_uri": "https://localhost:8080/"
        },
        "outputId": "a470feec-a08a-4c92-ad20-7fd4b237e019"
      },
      "source": [
        "!pip3 install openpyxl"
      ],
      "execution_count": 13,
      "outputs": [
        {
          "output_type": "stream",
          "text": [
            "Requirement already satisfied: openpyxl in /usr/local/lib/python3.7/dist-packages (2.5.9)\n",
            "Requirement already satisfied: et-xmlfile in /usr/local/lib/python3.7/dist-packages (from openpyxl) (1.1.0)\n",
            "Requirement already satisfied: jdcal in /usr/local/lib/python3.7/dist-packages (from openpyxl) (1.4.1)\n"
          ],
          "name": "stdout"
        }
      ]
    },
    {
      "cell_type": "code",
      "metadata": {
        "id": "IMJkwEmMgxjR",
        "colab": {
          "base_uri": "https://localhost:8080/"
        },
        "outputId": "267a5997-abe4-48a0-c8b0-38b8deebc2f6"
      },
      "source": [
        "columns = _df.iloc[10, [1,2,4,10,11,14]]\n",
        "columns"
      ],
      "execution_count": 16,
      "outputs": [
        {
          "output_type": "execute_result",
          "data": {
            "text/plain": [
              "Unnamed: 1                 日付\n",
              "Unnamed: 2              商品コード\n",
              "Unnamed: 4                 品名\n",
              "Unnamed: 10      数量[L] or [-]\n",
              "Unnamed: 11    単価[¥/L] or [¥]\n",
              "Unnamed: 14                金額\n",
              "Name: 10, dtype: object"
            ]
          },
          "metadata": {},
          "execution_count": 16
        }
      ]
    },
    {
      "cell_type": "code",
      "metadata": {
        "id": "cAT1KfIugxhK"
      },
      "source": [
        "df = _df.iloc[11:23, [1,2,4,10,11,14]]"
      ],
      "execution_count": 23,
      "outputs": []
    },
    {
      "cell_type": "code",
      "metadata": {
        "id": "FhMMXAVTgxe3"
      },
      "source": [
        "df.columns = columns"
      ],
      "execution_count": 24,
      "outputs": []
    },
    {
      "cell_type": "code",
      "metadata": {
        "id": "TfnyTKs_gxcr",
        "colab": {
          "base_uri": "https://localhost:8080/",
          "height": 418
        },
        "outputId": "06da7267-4390-4723-be6f-5bbaf1b6d651"
      },
      "source": [
        "df"
      ],
      "execution_count": 25,
      "outputs": [
        {
          "output_type": "execute_result",
          "data": {
            "text/html": [
              "<div>\n",
              "<style scoped>\n",
              "    .dataframe tbody tr th:only-of-type {\n",
              "        vertical-align: middle;\n",
              "    }\n",
              "\n",
              "    .dataframe tbody tr th {\n",
              "        vertical-align: top;\n",
              "    }\n",
              "\n",
              "    .dataframe thead th {\n",
              "        text-align: right;\n",
              "    }\n",
              "</style>\n",
              "<table border=\"1\" class=\"dataframe\">\n",
              "  <thead>\n",
              "    <tr style=\"text-align: right;\">\n",
              "      <th>10</th>\n",
              "      <th>日付</th>\n",
              "      <th>商品コード</th>\n",
              "      <th>品名</th>\n",
              "      <th>数量[L] or [-]</th>\n",
              "      <th>単価[¥/L] or [¥]</th>\n",
              "      <th>金額</th>\n",
              "    </tr>\n",
              "  </thead>\n",
              "  <tbody>\n",
              "    <tr>\n",
              "      <th>11</th>\n",
              "      <td>2020-10-04 00:00:00</td>\n",
              "      <td>GSL0001</td>\n",
              "      <td>レギュラー</td>\n",
              "      <td>20</td>\n",
              "      <td>120</td>\n",
              "      <td>2400</td>\n",
              "    </tr>\n",
              "    <tr>\n",
              "      <th>12</th>\n",
              "      <td>2020-10-05 00:00:00</td>\n",
              "      <td>GSL0002</td>\n",
              "      <td>ハイオク</td>\n",
              "      <td>45</td>\n",
              "      <td>160</td>\n",
              "      <td>7200</td>\n",
              "    </tr>\n",
              "    <tr>\n",
              "      <th>13</th>\n",
              "      <td>2020-10-06 00:00:00</td>\n",
              "      <td>GSL0003</td>\n",
              "      <td>軽油</td>\n",
              "      <td>50</td>\n",
              "      <td>100</td>\n",
              "      <td>5000</td>\n",
              "    </tr>\n",
              "    <tr>\n",
              "      <th>14</th>\n",
              "      <td>2020-10-07 00:00:00</td>\n",
              "      <td>GSL0002</td>\n",
              "      <td>ハイオク</td>\n",
              "      <td>45</td>\n",
              "      <td>160</td>\n",
              "      <td>7200</td>\n",
              "    </tr>\n",
              "    <tr>\n",
              "      <th>15</th>\n",
              "      <td>2020-10-08 00:00:00</td>\n",
              "      <td>GSL0003</td>\n",
              "      <td>軽油</td>\n",
              "      <td>50</td>\n",
              "      <td>100</td>\n",
              "      <td>5000</td>\n",
              "    </tr>\n",
              "    <tr>\n",
              "      <th>16</th>\n",
              "      <td>2020-10-09 00:00:00</td>\n",
              "      <td>CMT0002</td>\n",
              "      <td>洗車 B</td>\n",
              "      <td>1</td>\n",
              "      <td>1500</td>\n",
              "      <td>1500</td>\n",
              "    </tr>\n",
              "    <tr>\n",
              "      <th>17</th>\n",
              "      <td>2020-10-10 00:00:00</td>\n",
              "      <td>GSL0003</td>\n",
              "      <td>軽油</td>\n",
              "      <td>50</td>\n",
              "      <td>100</td>\n",
              "      <td>5000</td>\n",
              "    </tr>\n",
              "    <tr>\n",
              "      <th>18</th>\n",
              "      <td>2020-10-11 00:00:00</td>\n",
              "      <td>GSL0002</td>\n",
              "      <td>ハイオク</td>\n",
              "      <td>40</td>\n",
              "      <td>160</td>\n",
              "      <td>6400</td>\n",
              "    </tr>\n",
              "    <tr>\n",
              "      <th>19</th>\n",
              "      <td>2020-10-12 00:00:00</td>\n",
              "      <td>GSL0002</td>\n",
              "      <td>ハイオク</td>\n",
              "      <td>30</td>\n",
              "      <td>160</td>\n",
              "      <td>4800</td>\n",
              "    </tr>\n",
              "    <tr>\n",
              "      <th>20</th>\n",
              "      <td>2020-10-13 00:00:00</td>\n",
              "      <td>GSL0003</td>\n",
              "      <td>軽油</td>\n",
              "      <td>50</td>\n",
              "      <td>100</td>\n",
              "      <td>5000</td>\n",
              "    </tr>\n",
              "    <tr>\n",
              "      <th>21</th>\n",
              "      <td>2020-10-14 00:00:00</td>\n",
              "      <td>GSL0003</td>\n",
              "      <td>軽油</td>\n",
              "      <td>50</td>\n",
              "      <td>100</td>\n",
              "      <td>5000</td>\n",
              "    </tr>\n",
              "    <tr>\n",
              "      <th>22</th>\n",
              "      <td>NaN</td>\n",
              "      <td>NaN</td>\n",
              "      <td>NaN</td>\n",
              "      <td>NaN</td>\n",
              "      <td>NaN</td>\n",
              "      <td>0</td>\n",
              "    </tr>\n",
              "  </tbody>\n",
              "</table>\n",
              "</div>"
            ],
            "text/plain": [
              "10                   日付    商品コード     品名 数量[L] or [-] 単価[¥/L] or [¥]    金額\n",
              "11  2020-10-04 00:00:00  GSL0001  レギュラー           20            120  2400\n",
              "12  2020-10-05 00:00:00  GSL0002   ハイオク           45            160  7200\n",
              "13  2020-10-06 00:00:00  GSL0003     軽油           50            100  5000\n",
              "14  2020-10-07 00:00:00  GSL0002   ハイオク           45            160  7200\n",
              "15  2020-10-08 00:00:00  GSL0003     軽油           50            100  5000\n",
              "16  2020-10-09 00:00:00  CMT0002   洗車 B            1           1500  1500\n",
              "17  2020-10-10 00:00:00  GSL0003     軽油           50            100  5000\n",
              "18  2020-10-11 00:00:00  GSL0002   ハイオク           40            160  6400\n",
              "19  2020-10-12 00:00:00  GSL0002   ハイオク           30            160  4800\n",
              "20  2020-10-13 00:00:00  GSL0003     軽油           50            100  5000\n",
              "21  2020-10-14 00:00:00  GSL0003     軽油           50            100  5000\n",
              "22                  NaN      NaN    NaN          NaN            NaN     0"
            ]
          },
          "metadata": {},
          "execution_count": 25
        }
      ]
    },
    {
      "cell_type": "code",
      "metadata": {
        "colab": {
          "base_uri": "https://localhost:8080/",
          "height": 203
        },
        "id": "jG4H1xYIdfRW",
        "outputId": "55cdb3ff-191e-420a-83b2-d44729879c89"
      },
      "source": [
        "df['企業名'] = _df.iloc[2,0]\n",
        "df.head()"
      ],
      "execution_count": 26,
      "outputs": [
        {
          "output_type": "execute_result",
          "data": {
            "text/html": [
              "<div>\n",
              "<style scoped>\n",
              "    .dataframe tbody tr th:only-of-type {\n",
              "        vertical-align: middle;\n",
              "    }\n",
              "\n",
              "    .dataframe tbody tr th {\n",
              "        vertical-align: top;\n",
              "    }\n",
              "\n",
              "    .dataframe thead th {\n",
              "        text-align: right;\n",
              "    }\n",
              "</style>\n",
              "<table border=\"1\" class=\"dataframe\">\n",
              "  <thead>\n",
              "    <tr style=\"text-align: right;\">\n",
              "      <th>10</th>\n",
              "      <th>日付</th>\n",
              "      <th>商品コード</th>\n",
              "      <th>品名</th>\n",
              "      <th>数量[L] or [-]</th>\n",
              "      <th>単価[¥/L] or [¥]</th>\n",
              "      <th>金額</th>\n",
              "      <th>企業名</th>\n",
              "    </tr>\n",
              "  </thead>\n",
              "  <tbody>\n",
              "    <tr>\n",
              "      <th>11</th>\n",
              "      <td>2020-10-04 00:00:00</td>\n",
              "      <td>GSL0001</td>\n",
              "      <td>レギュラー</td>\n",
              "      <td>20</td>\n",
              "      <td>120</td>\n",
              "      <td>2400</td>\n",
              "      <td>TTT Inc.</td>\n",
              "    </tr>\n",
              "    <tr>\n",
              "      <th>12</th>\n",
              "      <td>2020-10-05 00:00:00</td>\n",
              "      <td>GSL0002</td>\n",
              "      <td>ハイオク</td>\n",
              "      <td>45</td>\n",
              "      <td>160</td>\n",
              "      <td>7200</td>\n",
              "      <td>TTT Inc.</td>\n",
              "    </tr>\n",
              "    <tr>\n",
              "      <th>13</th>\n",
              "      <td>2020-10-06 00:00:00</td>\n",
              "      <td>GSL0003</td>\n",
              "      <td>軽油</td>\n",
              "      <td>50</td>\n",
              "      <td>100</td>\n",
              "      <td>5000</td>\n",
              "      <td>TTT Inc.</td>\n",
              "    </tr>\n",
              "    <tr>\n",
              "      <th>14</th>\n",
              "      <td>2020-10-07 00:00:00</td>\n",
              "      <td>GSL0002</td>\n",
              "      <td>ハイオク</td>\n",
              "      <td>45</td>\n",
              "      <td>160</td>\n",
              "      <td>7200</td>\n",
              "      <td>TTT Inc.</td>\n",
              "    </tr>\n",
              "    <tr>\n",
              "      <th>15</th>\n",
              "      <td>2020-10-08 00:00:00</td>\n",
              "      <td>GSL0003</td>\n",
              "      <td>軽油</td>\n",
              "      <td>50</td>\n",
              "      <td>100</td>\n",
              "      <td>5000</td>\n",
              "      <td>TTT Inc.</td>\n",
              "    </tr>\n",
              "  </tbody>\n",
              "</table>\n",
              "</div>"
            ],
            "text/plain": [
              "10                   日付    商品コード     品名  ... 単価[¥/L] or [¥]    金額       企業名\n",
              "11  2020-10-04 00:00:00  GSL0001  レギュラー  ...            120  2400  TTT Inc.\n",
              "12  2020-10-05 00:00:00  GSL0002   ハイオク  ...            160  7200  TTT Inc.\n",
              "13  2020-10-06 00:00:00  GSL0003     軽油  ...            100  5000  TTT Inc.\n",
              "14  2020-10-07 00:00:00  GSL0002   ハイオク  ...            160  7200  TTT Inc.\n",
              "15  2020-10-08 00:00:00  GSL0003     軽油  ...            100  5000  TTT Inc.\n",
              "\n",
              "[5 rows x 7 columns]"
            ]
          },
          "metadata": {},
          "execution_count": 26
        }
      ]
    },
    {
      "cell_type": "code",
      "metadata": {
        "colab": {
          "base_uri": "https://localhost:8080/",
          "height": 654
        },
        "id": "5ALtSSSBdfOE",
        "outputId": "f6d3e91b-987e-4e00-8d20-cd186373f096"
      },
      "source": [
        "df['企業コード'] = _df.iloc[3,4]\n",
        "df['請求書No'] = _df.iloc[2,12]\n",
        "df['発行日'] = _df.iloc[3,12]\n",
        "df['発行者'] = _df.iloc[4,12]\n",
        "df['発行者コード'] = _df.iloc[4,13]\n",
        "df"
      ],
      "execution_count": 28,
      "outputs": [
        {
          "output_type": "execute_result",
          "data": {
            "text/html": [
              "<div>\n",
              "<style scoped>\n",
              "    .dataframe tbody tr th:only-of-type {\n",
              "        vertical-align: middle;\n",
              "    }\n",
              "\n",
              "    .dataframe tbody tr th {\n",
              "        vertical-align: top;\n",
              "    }\n",
              "\n",
              "    .dataframe thead th {\n",
              "        text-align: right;\n",
              "    }\n",
              "</style>\n",
              "<table border=\"1\" class=\"dataframe\">\n",
              "  <thead>\n",
              "    <tr style=\"text-align: right;\">\n",
              "      <th>10</th>\n",
              "      <th>日付</th>\n",
              "      <th>商品コード</th>\n",
              "      <th>品名</th>\n",
              "      <th>数量[L] or [-]</th>\n",
              "      <th>単価[¥/L] or [¥]</th>\n",
              "      <th>金額</th>\n",
              "      <th>企業名</th>\n",
              "      <th>企業コード</th>\n",
              "      <th>請求書No</th>\n",
              "      <th>発行日</th>\n",
              "      <th>発行者</th>\n",
              "      <th>発行者コード</th>\n",
              "    </tr>\n",
              "  </thead>\n",
              "  <tbody>\n",
              "    <tr>\n",
              "      <th>11</th>\n",
              "      <td>2020-10-04 00:00:00</td>\n",
              "      <td>GSL0001</td>\n",
              "      <td>レギュラー</td>\n",
              "      <td>20</td>\n",
              "      <td>120</td>\n",
              "      <td>2400</td>\n",
              "      <td>TTT Inc.</td>\n",
              "      <td>6</td>\n",
              "      <td>012</td>\n",
              "      <td>2020/10/31</td>\n",
              "      <td>岸辺</td>\n",
              "      <td>2.0</td>\n",
              "    </tr>\n",
              "    <tr>\n",
              "      <th>12</th>\n",
              "      <td>2020-10-05 00:00:00</td>\n",
              "      <td>GSL0002</td>\n",
              "      <td>ハイオク</td>\n",
              "      <td>45</td>\n",
              "      <td>160</td>\n",
              "      <td>7200</td>\n",
              "      <td>TTT Inc.</td>\n",
              "      <td>6</td>\n",
              "      <td>012</td>\n",
              "      <td>2020/10/31</td>\n",
              "      <td>岸辺</td>\n",
              "      <td>2.0</td>\n",
              "    </tr>\n",
              "    <tr>\n",
              "      <th>13</th>\n",
              "      <td>2020-10-06 00:00:00</td>\n",
              "      <td>GSL0003</td>\n",
              "      <td>軽油</td>\n",
              "      <td>50</td>\n",
              "      <td>100</td>\n",
              "      <td>5000</td>\n",
              "      <td>TTT Inc.</td>\n",
              "      <td>6</td>\n",
              "      <td>012</td>\n",
              "      <td>2020/10/31</td>\n",
              "      <td>岸辺</td>\n",
              "      <td>2.0</td>\n",
              "    </tr>\n",
              "    <tr>\n",
              "      <th>14</th>\n",
              "      <td>2020-10-07 00:00:00</td>\n",
              "      <td>GSL0002</td>\n",
              "      <td>ハイオク</td>\n",
              "      <td>45</td>\n",
              "      <td>160</td>\n",
              "      <td>7200</td>\n",
              "      <td>TTT Inc.</td>\n",
              "      <td>6</td>\n",
              "      <td>012</td>\n",
              "      <td>2020/10/31</td>\n",
              "      <td>岸辺</td>\n",
              "      <td>2.0</td>\n",
              "    </tr>\n",
              "    <tr>\n",
              "      <th>15</th>\n",
              "      <td>2020-10-08 00:00:00</td>\n",
              "      <td>GSL0003</td>\n",
              "      <td>軽油</td>\n",
              "      <td>50</td>\n",
              "      <td>100</td>\n",
              "      <td>5000</td>\n",
              "      <td>TTT Inc.</td>\n",
              "      <td>6</td>\n",
              "      <td>012</td>\n",
              "      <td>2020/10/31</td>\n",
              "      <td>岸辺</td>\n",
              "      <td>2.0</td>\n",
              "    </tr>\n",
              "    <tr>\n",
              "      <th>16</th>\n",
              "      <td>2020-10-09 00:00:00</td>\n",
              "      <td>CMT0002</td>\n",
              "      <td>洗車 B</td>\n",
              "      <td>1</td>\n",
              "      <td>1500</td>\n",
              "      <td>1500</td>\n",
              "      <td>TTT Inc.</td>\n",
              "      <td>6</td>\n",
              "      <td>012</td>\n",
              "      <td>2020/10/31</td>\n",
              "      <td>岸辺</td>\n",
              "      <td>2.0</td>\n",
              "    </tr>\n",
              "    <tr>\n",
              "      <th>17</th>\n",
              "      <td>2020-10-10 00:00:00</td>\n",
              "      <td>GSL0003</td>\n",
              "      <td>軽油</td>\n",
              "      <td>50</td>\n",
              "      <td>100</td>\n",
              "      <td>5000</td>\n",
              "      <td>TTT Inc.</td>\n",
              "      <td>6</td>\n",
              "      <td>012</td>\n",
              "      <td>2020/10/31</td>\n",
              "      <td>岸辺</td>\n",
              "      <td>2.0</td>\n",
              "    </tr>\n",
              "    <tr>\n",
              "      <th>18</th>\n",
              "      <td>2020-10-11 00:00:00</td>\n",
              "      <td>GSL0002</td>\n",
              "      <td>ハイオク</td>\n",
              "      <td>40</td>\n",
              "      <td>160</td>\n",
              "      <td>6400</td>\n",
              "      <td>TTT Inc.</td>\n",
              "      <td>6</td>\n",
              "      <td>012</td>\n",
              "      <td>2020/10/31</td>\n",
              "      <td>岸辺</td>\n",
              "      <td>2.0</td>\n",
              "    </tr>\n",
              "    <tr>\n",
              "      <th>19</th>\n",
              "      <td>2020-10-12 00:00:00</td>\n",
              "      <td>GSL0002</td>\n",
              "      <td>ハイオク</td>\n",
              "      <td>30</td>\n",
              "      <td>160</td>\n",
              "      <td>4800</td>\n",
              "      <td>TTT Inc.</td>\n",
              "      <td>6</td>\n",
              "      <td>012</td>\n",
              "      <td>2020/10/31</td>\n",
              "      <td>岸辺</td>\n",
              "      <td>2.0</td>\n",
              "    </tr>\n",
              "    <tr>\n",
              "      <th>20</th>\n",
              "      <td>2020-10-13 00:00:00</td>\n",
              "      <td>GSL0003</td>\n",
              "      <td>軽油</td>\n",
              "      <td>50</td>\n",
              "      <td>100</td>\n",
              "      <td>5000</td>\n",
              "      <td>TTT Inc.</td>\n",
              "      <td>6</td>\n",
              "      <td>012</td>\n",
              "      <td>2020/10/31</td>\n",
              "      <td>岸辺</td>\n",
              "      <td>2.0</td>\n",
              "    </tr>\n",
              "    <tr>\n",
              "      <th>21</th>\n",
              "      <td>2020-10-14 00:00:00</td>\n",
              "      <td>GSL0003</td>\n",
              "      <td>軽油</td>\n",
              "      <td>50</td>\n",
              "      <td>100</td>\n",
              "      <td>5000</td>\n",
              "      <td>TTT Inc.</td>\n",
              "      <td>6</td>\n",
              "      <td>012</td>\n",
              "      <td>2020/10/31</td>\n",
              "      <td>岸辺</td>\n",
              "      <td>2.0</td>\n",
              "    </tr>\n",
              "    <tr>\n",
              "      <th>22</th>\n",
              "      <td>NaN</td>\n",
              "      <td>NaN</td>\n",
              "      <td>NaN</td>\n",
              "      <td>NaN</td>\n",
              "      <td>NaN</td>\n",
              "      <td>0</td>\n",
              "      <td>TTT Inc.</td>\n",
              "      <td>6</td>\n",
              "      <td>012</td>\n",
              "      <td>2020/10/31</td>\n",
              "      <td>岸辺</td>\n",
              "      <td>2.0</td>\n",
              "    </tr>\n",
              "  </tbody>\n",
              "</table>\n",
              "</div>"
            ],
            "text/plain": [
              "10                   日付    商品コード     品名  ...         発行日 発行者 発行者コード\n",
              "11  2020-10-04 00:00:00  GSL0001  レギュラー  ...  2020/10/31  岸辺    2.0\n",
              "12  2020-10-05 00:00:00  GSL0002   ハイオク  ...  2020/10/31  岸辺    2.0\n",
              "13  2020-10-06 00:00:00  GSL0003     軽油  ...  2020/10/31  岸辺    2.0\n",
              "14  2020-10-07 00:00:00  GSL0002   ハイオク  ...  2020/10/31  岸辺    2.0\n",
              "15  2020-10-08 00:00:00  GSL0003     軽油  ...  2020/10/31  岸辺    2.0\n",
              "16  2020-10-09 00:00:00  CMT0002   洗車 B  ...  2020/10/31  岸辺    2.0\n",
              "17  2020-10-10 00:00:00  GSL0003     軽油  ...  2020/10/31  岸辺    2.0\n",
              "18  2020-10-11 00:00:00  GSL0002   ハイオク  ...  2020/10/31  岸辺    2.0\n",
              "19  2020-10-12 00:00:00  GSL0002   ハイオク  ...  2020/10/31  岸辺    2.0\n",
              "20  2020-10-13 00:00:00  GSL0003     軽油  ...  2020/10/31  岸辺    2.0\n",
              "21  2020-10-14 00:00:00  GSL0003     軽油  ...  2020/10/31  岸辺    2.0\n",
              "22                  NaN      NaN    NaN  ...  2020/10/31  岸辺    2.0\n",
              "\n",
              "[12 rows x 12 columns]"
            ]
          },
          "metadata": {},
          "execution_count": 28
        }
      ]
    },
    {
      "cell_type": "code",
      "metadata": {
        "id": "Mt5h0BBydfMA"
      },
      "source": [
        "def extract(filepath):\n",
        "    _df = pd.read_excel(filepath)\n",
        "    columns = _df.iloc[10, [1,2,4,10,11,14]]\n",
        "    df = _df.iloc[11:23, [1,2,4,10,11,14]]\n",
        "    df.columns = columns\n",
        "    df['企業名'] = _df.iloc[2,0]\n",
        "    df['企業コード'] = _df.iloc[3,4]\n",
        "    df['請求書No'] = _df.iloc[2,12]\n",
        "    df['発行日'] = _df.iloc[3,12]\n",
        "    df['発行者'] = _df.iloc[4,12]\n",
        "    df['発行者コード'] = _df.iloc[4,13]\n",
        "    return df"
      ],
      "execution_count": 30,
      "outputs": []
    },
    {
      "cell_type": "code",
      "metadata": {
        "id": "spEjdE7gdfJN"
      },
      "source": [
        "df = extract(filepath)\n",
        "df.head()"
      ],
      "execution_count": null,
      "outputs": []
    },
    {
      "cell_type": "code",
      "metadata": {
        "id": "QCR8XppgdfGy"
      },
      "source": [
        ""
      ],
      "execution_count": null,
      "outputs": []
    },
    {
      "cell_type": "code",
      "metadata": {
        "id": "wvuhzHdtdfEK"
      },
      "source": [
        ""
      ],
      "execution_count": null,
      "outputs": []
    },
    {
      "cell_type": "code",
      "metadata": {
        "id": "GcFBfRZ9dfBk"
      },
      "source": [
        ""
      ],
      "execution_count": null,
      "outputs": []
    },
    {
      "cell_type": "code",
      "metadata": {
        "id": "PWqki1TKde_E"
      },
      "source": [
        ""
      ],
      "execution_count": null,
      "outputs": []
    },
    {
      "cell_type": "code",
      "metadata": {
        "id": "-OJi3UK0de8m"
      },
      "source": [
        ""
      ],
      "execution_count": null,
      "outputs": []
    },
    {
      "cell_type": "code",
      "metadata": {
        "id": "_DBio7WLde6A"
      },
      "source": [
        ""
      ],
      "execution_count": null,
      "outputs": []
    },
    {
      "cell_type": "code",
      "metadata": {
        "id": "Qk5u3IaOde3i"
      },
      "source": [
        ""
      ],
      "execution_count": null,
      "outputs": []
    },
    {
      "cell_type": "code",
      "metadata": {
        "id": "dR5iaWCMde1m"
      },
      "source": [
        ""
      ],
      "execution_count": null,
      "outputs": []
    },
    {
      "cell_type": "code",
      "metadata": {
        "id": "LsYZ1qsHdeyi"
      },
      "source": [
        ""
      ],
      "execution_count": null,
      "outputs": []
    },
    {
      "cell_type": "code",
      "metadata": {
        "id": "e6SegAGudev-"
      },
      "source": [
        ""
      ],
      "execution_count": null,
      "outputs": []
    },
    {
      "cell_type": "code",
      "metadata": {
        "id": "XQePaEMydet6"
      },
      "source": [
        ""
      ],
      "execution_count": null,
      "outputs": []
    },
    {
      "cell_type": "code",
      "metadata": {
        "id": "mmeb9YkEderA"
      },
      "source": [
        ""
      ],
      "execution_count": null,
      "outputs": []
    },
    {
      "cell_type": "code",
      "metadata": {
        "id": "jt_tTuEWdeoS"
      },
      "source": [
        ""
      ],
      "execution_count": null,
      "outputs": []
    },
    {
      "cell_type": "code",
      "metadata": {
        "id": "_AX36EvIdelr"
      },
      "source": [
        ""
      ],
      "execution_count": null,
      "outputs": []
    },
    {
      "cell_type": "code",
      "metadata": {
        "id": "jyEbhyCqdejI"
      },
      "source": [
        ""
      ],
      "execution_count": null,
      "outputs": []
    },
    {
      "cell_type": "code",
      "metadata": {
        "id": "GhsyE2Ktdeg4"
      },
      "source": [
        ""
      ],
      "execution_count": null,
      "outputs": []
    },
    {
      "cell_type": "code",
      "metadata": {
        "id": "CDs98__ndeeW"
      },
      "source": [
        ""
      ],
      "execution_count": null,
      "outputs": []
    },
    {
      "cell_type": "code",
      "metadata": {
        "id": "wGTLC-9Kdeb2"
      },
      "source": [
        ""
      ],
      "execution_count": null,
      "outputs": []
    },
    {
      "cell_type": "code",
      "metadata": {
        "id": "DOa7drHXdeZZ"
      },
      "source": [
        ""
      ],
      "execution_count": null,
      "outputs": []
    },
    {
      "cell_type": "code",
      "metadata": {
        "id": "GhaTtUgKdeXn"
      },
      "source": [
        ""
      ],
      "execution_count": null,
      "outputs": []
    },
    {
      "cell_type": "code",
      "metadata": {
        "id": "ykSdnXGtdeUw"
      },
      "source": [
        ""
      ],
      "execution_count": null,
      "outputs": []
    },
    {
      "cell_type": "code",
      "metadata": {
        "id": "MmgyDGILdeSa"
      },
      "source": [
        ""
      ],
      "execution_count": null,
      "outputs": []
    },
    {
      "cell_type": "code",
      "metadata": {
        "id": "deTF8RX8deQO"
      },
      "source": [
        ""
      ],
      "execution_count": null,
      "outputs": []
    },
    {
      "cell_type": "code",
      "metadata": {
        "id": "GrS-TvthdeN9"
      },
      "source": [
        ""
      ],
      "execution_count": null,
      "outputs": []
    },
    {
      "cell_type": "code",
      "metadata": {
        "id": "laBFQpFJdeL4"
      },
      "source": [
        ""
      ],
      "execution_count": null,
      "outputs": []
    },
    {
      "cell_type": "code",
      "metadata": {
        "id": "bghYNFgCdeJj"
      },
      "source": [
        ""
      ],
      "execution_count": null,
      "outputs": []
    },
    {
      "cell_type": "code",
      "metadata": {
        "id": "7V47IWj1deHX"
      },
      "source": [
        ""
      ],
      "execution_count": null,
      "outputs": []
    },
    {
      "cell_type": "code",
      "metadata": {
        "id": "rT32GVu0deE_"
      },
      "source": [
        ""
      ],
      "execution_count": null,
      "outputs": []
    }
  ]
}