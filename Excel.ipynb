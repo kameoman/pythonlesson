{
  "nbformat": 4,
  "nbformat_minor": 0,
  "metadata": {
    "colab": {
      "name": "Excel.ipynb",
      "provenance": [],
      "authorship_tag": "ABX9TyPKqeGHXdlQ4tgWLjJ+D8b/",
      "include_colab_link": true
    },
    "kernelspec": {
      "name": "python3",
      "display_name": "Python 3"
    },
    "language_info": {
      "name": "python"
    }
  },
  "cells": [
    {
      "cell_type": "markdown",
      "metadata": {
        "id": "view-in-github",
        "colab_type": "text"
      },
      "source": [
        "<a href=\"https://colab.research.google.com/github/kameoman/pythonlesson/blob/main/Excel.ipynb\" target=\"_parent\"><img src=\"https://colab.research.google.com/assets/colab-badge.svg\" alt=\"Open In Colab\"/></a>"
      ]
    },
    {
      "cell_type": "code",
      "metadata": {
        "id": "Lw9lht1BgpvP"
      },
      "source": [
        "import pandas as pd\n",
        "from glob import glob"
      ],
      "execution_count": null,
      "outputs": []
    },
    {
      "cell_type": "code",
      "metadata": {
        "colab": {
          "base_uri": "https://localhost:8080/"
        },
        "id": "GVdn5hPQgxvj",
        "outputId": "03ab9677-ed09-49f7-c539-513dcbb08b78"
      },
      "source": [
        "filepaths = glob('*.xlsx')\n",
        "filepaths"
      ],
      "execution_count": 10,
      "outputs": [
        {
          "output_type": "execute_result",
          "data": {
            "text/plain": [
              "['請求書_12月_株式会社ABC.xlsx', '請求書_11月_XYZ株式会社.xlsx', '請求書_10月_TTTInc.xlsx']"
            ]
          },
          "metadata": {
            "tags": []
          },
          "execution_count": 10
        }
      ]
    },
    {
      "cell_type": "code",
      "metadata": {
        "id": "CoVKVIePgxsa"
      },
      "source": [
        "filepath = filepaths[0]"
      ],
      "execution_count": 11,
      "outputs": []
    },
    {
      "cell_type": "code",
      "metadata": {
        "id": "ViTlFJDtgxp-",
        "colab": {
          "base_uri": "https://localhost:8080/",
          "height": 35
        },
        "outputId": "cb93dbed-291c-4864-8cdd-5266218984ac"
      },
      "source": [
        "filepath"
      ],
      "execution_count": 12,
      "outputs": [
        {
          "output_type": "execute_result",
          "data": {
            "application/vnd.google.colaboratory.intrinsic+json": {
              "type": "string"
            },
            "text/plain": [
              "'請求書_12月_株式会社ABC.xlsx'"
            ]
          },
          "metadata": {
            "tags": []
          },
          "execution_count": 12
        }
      ]
    },
    {
      "cell_type": "code",
      "metadata": {
        "id": "i63ynHGegxnm"
      },
      "source": [
        "_df = pd.read_excel(filepath)\n",
        "_df"
      ],
      "execution_count": null,
      "outputs": []
    },
    {
      "cell_type": "code",
      "metadata": {
        "id": "42fRpy97gxlh",
        "colab": {
          "base_uri": "https://localhost:8080/"
        },
        "outputId": "3049bb6f-77fd-46de-b2f1-96e216141f29"
      },
      "source": [
        "!pip3 install openpyxl"
      ],
      "execution_count": 15,
      "outputs": [
        {
          "output_type": "stream",
          "text": [
            "Requirement already satisfied: openpyxl in /usr/local/lib/python3.7/dist-packages (2.5.9)\n",
            "Requirement already satisfied: et-xmlfile in /usr/local/lib/python3.7/dist-packages (from openpyxl) (1.1.0)\n",
            "Requirement already satisfied: jdcal in /usr/local/lib/python3.7/dist-packages (from openpyxl) (1.4.1)\n"
          ],
          "name": "stdout"
        }
      ]
    },
    {
      "cell_type": "code",
      "metadata": {
        "id": "IMJkwEmMgxjR",
        "colab": {
          "base_uri": "https://localhost:8080/"
        },
        "outputId": "419c7079-2c28-422c-b5f9-e313a3dfd141"
      },
      "source": [
        "columns = _df.iloc[10, [1,2,4,10,11,14]]\n",
        "columns"
      ],
      "execution_count": 18,
      "outputs": [
        {
          "output_type": "execute_result",
          "data": {
            "text/plain": [
              "Unnamed: 1                 日付\n",
              "Unnamed: 2              商品コード\n",
              "Unnamed: 4                 品名\n",
              "Unnamed: 10      数量[L] or [-]\n",
              "Unnamed: 11    単価[¥/L] or [¥]\n",
              "Unnamed: 14                金額\n",
              "Name: 10, dtype: object"
            ]
          },
          "metadata": {
            "tags": []
          },
          "execution_count": 18
        }
      ]
    },
    {
      "cell_type": "code",
      "metadata": {
        "id": "cAT1KfIugxhK"
      },
      "source": [
        "df = _df.iloc[11:23, [1,2,4,10,11,14]]"
      ],
      "execution_count": 22,
      "outputs": []
    },
    {
      "cell_type": "code",
      "metadata": {
        "id": "FhMMXAVTgxe3"
      },
      "source": [
        "df.columns = columns"
      ],
      "execution_count": 23,
      "outputs": []
    },
    {
      "cell_type": "code",
      "metadata": {
        "id": "TfnyTKs_gxcr",
        "colab": {
          "base_uri": "https://localhost:8080/",
          "height": 418
        },
        "outputId": "bff9c56a-2667-4efe-b07f-fd211dd38f58"
      },
      "source": [
        "df"
      ],
      "execution_count": 24,
      "outputs": [
        {
          "output_type": "execute_result",
          "data": {
            "text/html": [
              "<div>\n",
              "<style scoped>\n",
              "    .dataframe tbody tr th:only-of-type {\n",
              "        vertical-align: middle;\n",
              "    }\n",
              "\n",
              "    .dataframe tbody tr th {\n",
              "        vertical-align: top;\n",
              "    }\n",
              "\n",
              "    .dataframe thead th {\n",
              "        text-align: right;\n",
              "    }\n",
              "</style>\n",
              "<table border=\"1\" class=\"dataframe\">\n",
              "  <thead>\n",
              "    <tr style=\"text-align: right;\">\n",
              "      <th>10</th>\n",
              "      <th>日付</th>\n",
              "      <th>商品コード</th>\n",
              "      <th>品名</th>\n",
              "      <th>数量[L] or [-]</th>\n",
              "      <th>単価[¥/L] or [¥]</th>\n",
              "      <th>金額</th>\n",
              "    </tr>\n",
              "  </thead>\n",
              "  <tbody>\n",
              "    <tr>\n",
              "      <th>11</th>\n",
              "      <td>2020-12-01 00:00:00</td>\n",
              "      <td>GSL0001</td>\n",
              "      <td>レギュラー</td>\n",
              "      <td>20</td>\n",
              "      <td>120</td>\n",
              "      <td>2400</td>\n",
              "    </tr>\n",
              "    <tr>\n",
              "      <th>12</th>\n",
              "      <td>2020-12-05 00:00:00</td>\n",
              "      <td>GSL0002</td>\n",
              "      <td>ハイオク</td>\n",
              "      <td>45</td>\n",
              "      <td>160</td>\n",
              "      <td>7200</td>\n",
              "    </tr>\n",
              "    <tr>\n",
              "      <th>13</th>\n",
              "      <td>2020-12-07 00:00:00</td>\n",
              "      <td>GSL0003</td>\n",
              "      <td>軽油</td>\n",
              "      <td>50</td>\n",
              "      <td>100</td>\n",
              "      <td>5000</td>\n",
              "    </tr>\n",
              "    <tr>\n",
              "      <th>14</th>\n",
              "      <td>2020-12-08 00:00:00</td>\n",
              "      <td>GSL0004</td>\n",
              "      <td>灯油</td>\n",
              "      <td>30</td>\n",
              "      <td>80</td>\n",
              "      <td>2400</td>\n",
              "    </tr>\n",
              "    <tr>\n",
              "      <th>15</th>\n",
              "      <td>2020-12-11 00:00:00</td>\n",
              "      <td>CMT0001</td>\n",
              "      <td>洗車 A</td>\n",
              "      <td>1</td>\n",
              "      <td>500</td>\n",
              "      <td>500</td>\n",
              "    </tr>\n",
              "    <tr>\n",
              "      <th>16</th>\n",
              "      <td>2020-12-15 00:00:00</td>\n",
              "      <td>CMT0002</td>\n",
              "      <td>洗車 B</td>\n",
              "      <td>1</td>\n",
              "      <td>1500</td>\n",
              "      <td>1500</td>\n",
              "    </tr>\n",
              "    <tr>\n",
              "      <th>17</th>\n",
              "      <td>2020-12-18 00:00:00</td>\n",
              "      <td>CMT0003</td>\n",
              "      <td>洗車 C</td>\n",
              "      <td>1</td>\n",
              "      <td>3000</td>\n",
              "      <td>3000</td>\n",
              "    </tr>\n",
              "    <tr>\n",
              "      <th>18</th>\n",
              "      <td>2020-12-20 00:00:00</td>\n",
              "      <td>CMT0004</td>\n",
              "      <td>オイル交換</td>\n",
              "      <td>1</td>\n",
              "      <td>1000</td>\n",
              "      <td>1000</td>\n",
              "    </tr>\n",
              "    <tr>\n",
              "      <th>19</th>\n",
              "      <td>2020-12-22 00:00:00</td>\n",
              "      <td>CMT0005</td>\n",
              "      <td>タイヤ交換</td>\n",
              "      <td>1</td>\n",
              "      <td>4000</td>\n",
              "      <td>4000</td>\n",
              "    </tr>\n",
              "    <tr>\n",
              "      <th>20</th>\n",
              "      <td>2020-12-22 00:00:00</td>\n",
              "      <td>GDS0001</td>\n",
              "      <td>タイヤ</td>\n",
              "      <td>4</td>\n",
              "      <td>8000</td>\n",
              "      <td>32000</td>\n",
              "    </tr>\n",
              "    <tr>\n",
              "      <th>21</th>\n",
              "      <td>2020-12-22 00:00:00</td>\n",
              "      <td>GDS0002</td>\n",
              "      <td>コロン</td>\n",
              "      <td>1</td>\n",
              "      <td>800</td>\n",
              "      <td>800</td>\n",
              "    </tr>\n",
              "    <tr>\n",
              "      <th>22</th>\n",
              "      <td>2020-12-22 00:00:00</td>\n",
              "      <td>GDS0003</td>\n",
              "      <td>スナック</td>\n",
              "      <td>3</td>\n",
              "      <td>100</td>\n",
              "      <td>300</td>\n",
              "    </tr>\n",
              "  </tbody>\n",
              "</table>\n",
              "</div>"
            ],
            "text/plain": [
              "10                   日付    商品コード     品名 数量[L] or [-] 単価[¥/L] or [¥]     金額\n",
              "11  2020-12-01 00:00:00  GSL0001  レギュラー           20            120   2400\n",
              "12  2020-12-05 00:00:00  GSL0002   ハイオク           45            160   7200\n",
              "13  2020-12-07 00:00:00  GSL0003     軽油           50            100   5000\n",
              "14  2020-12-08 00:00:00  GSL0004     灯油           30             80   2400\n",
              "15  2020-12-11 00:00:00  CMT0001   洗車 A            1            500    500\n",
              "16  2020-12-15 00:00:00  CMT0002   洗車 B            1           1500   1500\n",
              "17  2020-12-18 00:00:00  CMT0003   洗車 C            1           3000   3000\n",
              "18  2020-12-20 00:00:00  CMT0004  オイル交換            1           1000   1000\n",
              "19  2020-12-22 00:00:00  CMT0005  タイヤ交換            1           4000   4000\n",
              "20  2020-12-22 00:00:00  GDS0001    タイヤ            4           8000  32000\n",
              "21  2020-12-22 00:00:00  GDS0002    コロン            1            800    800\n",
              "22  2020-12-22 00:00:00  GDS0003   スナック            3            100    300"
            ]
          },
          "metadata": {
            "tags": []
          },
          "execution_count": 24
        }
      ]
    }
  ]
}