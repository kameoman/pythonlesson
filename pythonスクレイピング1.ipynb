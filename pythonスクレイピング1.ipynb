{
  "nbformat": 4,
  "nbformat_minor": 0,
  "metadata": {
    "colab": {
      "name": "pythonスクレイピング1.ipynb",
      "provenance": [],
      "mount_file_id": "1uP6NbAAxl3xGQbcHl6msweCbkJpo6LmN",
      "authorship_tag": "ABX9TyNeHSkB14+xTzZA328M3ALh",
      "include_colab_link": true
    },
    "kernelspec": {
      "name": "python3",
      "display_name": "Python 3"
    },
    "language_info": {
      "name": "python"
    }
  },
  "cells": [
    {
      "cell_type": "markdown",
      "metadata": {
        "id": "view-in-github",
        "colab_type": "text"
      },
      "source": [
        "<a href=\"https://colab.research.google.com/github/kameoman/pythonlesson/blob/main/python%E3%82%B9%E3%82%AF%E3%83%AC%E3%82%A4%E3%83%94%E3%83%B3%E3%82%B01.ipynb\" target=\"_parent\"><img src=\"https://colab.research.google.com/assets/colab-badge.svg\" alt=\"Open In Colab\"/></a>"
      ]
    },
    {
      "cell_type": "markdown",
      "metadata": {
        "id": "Hvl-5Gl4dgDb"
      },
      "source": [
        "##BeautifulSoupでスクレイピング"
      ]
    },
    {
      "cell_type": "code",
      "metadata": {
        "id": "m5flDYdSdRPH"
      },
      "source": [
        "import requests\n",
        "\n",
        "from bs4 import BeautifulSoup"
      ],
      "execution_count": 1,
      "outputs": []
    },
    {
      "cell_type": "code",
      "metadata": {
        "id": "wv_XR-xTdep4"
      },
      "source": [
        "!apt-get update\n",
        "!apt install chromium-chromedriver\n",
        "!cp /usr/lib/chromium-browser/chromedriver /usr/bin\n",
        "!pip install selenium\n",
        "\n",
        "from selenium import webdriver\n",
        "\n",
        "options = webdriver.ChromeOptions()\n",
        "options.add_argument('--headless')\n",
        "options.add_argument('--no-sandbox')\n",
        "options.add_argument('--disable-dev-shm-usage')\n",
        "driver = webdriver.Chrome('chromedriver',options=options)\n",
        "driver.implicitly_wait(10)\n"
      ],
      "execution_count": null,
      "outputs": []
    },
    {
      "cell_type": "code",
      "metadata": {
        "colab": {
          "base_uri": "https://localhost:8080/",
          "height": 36
        },
        "id": "ktxqjXs4dent",
        "outputId": "24c84a0f-50ad-4cd1-9768-be898e452914"
      },
      "source": [
        "query = \"橋本環奈\"\n",
        "url = \"https://www.google.com/search?q={}&hl=ja&tbm=isch\".format(query)\n",
        "url"
      ],
      "execution_count": 7,
      "outputs": [
        {
          "output_type": "execute_result",
          "data": {
            "application/vnd.google.colaboratory.intrinsic+json": {
              "type": "string"
            },
            "text/plain": [
              "'https://www.google.com/search?q=橋本環奈&hl=ja&tbm=isch'"
            ]
          },
          "metadata": {},
          "execution_count": 7
        }
      ]
    },
    {
      "cell_type": "code",
      "metadata": {
        "colab": {
          "base_uri": "https://localhost:8080/"
        },
        "id": "DgsJmn9Vdela",
        "outputId": "3b18ef6c-d0b0-405b-aaf3-8ce071bcb3b9"
      },
      "source": [
        "from selenium.webdriver.support.ui import WebDriverWait\n",
        "from selenium.webdriver.support import expected_conditions as EC\n",
        "\n",
        "# すべての要素が読み込まれるまで待つ。タイムアウトは15秒。\n",
        "WebDriverWait(driver, 15).until(EC.presence_of_all_elements_located)"
      ],
      "execution_count": 8,
      "outputs": [
        {
          "output_type": "execute_result",
          "data": {
            "text/plain": [
              "<selenium.webdriver.support.expected_conditions.presence_of_all_elements_located at 0x7fa4926e30d0>"
            ]
          },
          "metadata": {},
          "execution_count": 8
        }
      ]
    },
    {
      "cell_type": "code",
      "metadata": {
        "id": "a4GnfhK8dejM"
      },
      "source": [
        "driver.get(url)\n",
        "html = driver.page_source.encode(\"utf-8\")\n",
        "soup = BeautifulSoup(html, \"html.parser\")"
      ],
      "execution_count": 9,
      "outputs": []
    },
    {
      "cell_type": "code",
      "metadata": {
        "id": "Llag_onTdegw"
      },
      "source": [
        "soup"
      ],
      "execution_count": null,
      "outputs": []
    },
    {
      "cell_type": "code",
      "metadata": {
        "id": "Gk0pKePUdeeZ"
      },
      "source": [
        "soup.find_all(\"img\")"
      ],
      "execution_count": null,
      "outputs": []
    },
    {
      "cell_type": "code",
      "metadata": {
        "id": "RLqgGPFsdeb3"
      },
      "source": [
        "img_tags = soup.find_all(\"img\")"
      ],
      "execution_count": 12,
      "outputs": []
    },
    {
      "cell_type": "code",
      "metadata": {
        "colab": {
          "base_uri": "https://localhost:8080/"
        },
        "id": "m9n3J2HHdeUu",
        "outputId": "2b821080-b58d-46de-c08a-ec937f9e443c"
      },
      "source": [
        "len(img_tags)"
      ],
      "execution_count": 13,
      "outputs": [
        {
          "output_type": "execute_result",
          "data": {
            "text/plain": [
              "83"
            ]
          },
          "metadata": {},
          "execution_count": 13
        }
      ]
    },
    {
      "cell_type": "code",
      "metadata": {
        "id": "2PU7820RgmRw"
      },
      "source": [
        "img_urls = []\n",
        "\n",
        "for img_tag in img_tags:\n",
        "  url = img_tag.get(\"src\")\n",
        "  \n",
        "\n",
        "  if url is None:\n",
        "    url = img_tag.get(\"data-src\")\n",
        "\n",
        "  if url is not None:\n",
        "    img_urls.append(url)\n",
        "    print(url)"
      ],
      "execution_count": null,
      "outputs": []
    },
    {
      "cell_type": "code",
      "metadata": {
        "id": "8MFHAyKrgmPX"
      },
      "source": [
        "def download_image(url, file_path):\n",
        "  r = requests.get(url, stream=True)\n",
        "\n",
        "  if r.status_code == 200:\n",
        "    with open(file_path, \"wb\") as f:\n",
        "      f.write(r.content)"
      ],
      "execution_count": 15,
      "outputs": []
    },
    {
      "cell_type": "code",
      "metadata": {
        "id": "Wz_8z5nngmNg"
      },
      "source": [
        "import base64\n",
        "\n",
        "def save_base64_image(data, file_path):\n",
        "  # base64の読み込みは4文字ごとに行う。4文字で区切れない部分は「=」で補う\n",
        "  data = data + '=' * (-len(data) % 4)\n",
        "  img = base64.b64decode(data.encode())\n",
        "  with open(file_path, \"wb\") as f:\n",
        "      f.write(img)"
      ],
      "execution_count": 16,
      "outputs": []
    },
    {
      "cell_type": "code",
      "metadata": {
        "id": "gdppJ9wAgmLJ"
      },
      "source": [
        "import os\n",
        "import re\n",
        "\n",
        "# ご自分の環境に合わせて任意のディレクトリパスを指定してください。\n",
        "save_dir = \"/content/drive/MyDrive/photo/python/橋本環奈\"\n",
        "\n",
        "os.makedirs(save_dir, exist_ok=True)\n",
        "\n",
        "base64_string = \"data:image/jpeg;base64,\"\n",
        "\n",
        "# png画像も対象にする（動画公開後に追記してます）\n",
        "png_base64_string = \"data:image/png;base64,\"\n",
        "\n",
        "\n",
        "for index, url in enumerate(img_urls):\n",
        "  # enumerateを使えばリストのindexを取得できます。このindexをそのままファイル名にします\n",
        "  # formatを使えば文字列内の指定した場所に変数の内容を入れることができます\n",
        "  file_name = \"{}.jpg\".format(index)\n",
        "  # print(file_name)\n",
        "  # print(url)\n",
        "\n",
        "  image_path = os.path.join(save_dir, file_name)\n",
        "\n",
        "  if len(re.findall(base64_string, url)) > 0 or len(re.findall(png_base64_string, url)) > 0:\n",
        "    url = url.replace(base64_string, \"\")\n",
        "    save_base64_image(data=url, file_path=image_path)\n",
        "  else:\n",
        "    download_image(url=url, file_path=image_path)"
      ],
      "execution_count": 18,
      "outputs": []
    },
    {
      "cell_type": "code",
      "metadata": {
        "id": "dGfVBXkIgmJC"
      },
      "source": [
        ""
      ],
      "execution_count": null,
      "outputs": []
    },
    {
      "cell_type": "code",
      "metadata": {
        "id": "0iMCizWMgmGr"
      },
      "source": [
        ""
      ],
      "execution_count": null,
      "outputs": []
    },
    {
      "cell_type": "code",
      "metadata": {
        "id": "P0syXD5qgmCh"
      },
      "source": [
        ""
      ],
      "execution_count": null,
      "outputs": []
    }
  ]
}